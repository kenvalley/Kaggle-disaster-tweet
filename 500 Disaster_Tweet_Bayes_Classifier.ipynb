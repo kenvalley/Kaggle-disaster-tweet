{
 "cells": [
  {
   "cell_type": "markdown",
   "id": "26e12c2e",
   "metadata": {},
   "source": [
    "## Import Libraries"
   ]
  },
  {
   "cell_type": "code",
   "execution_count": 71,
   "id": "24000574",
   "metadata": {},
   "outputs": [],
   "source": [
    "from os import walk\n",
    "from os.path import join\n",
    "\n",
    "import pandas as pd\n",
    "import matplotlib.pyplot as plt\n",
    "\n",
    "import nltk\n",
    "from nltk.stem import PorterStemmer\n",
    "from nltk.stem import SnowballStemmer\n",
    "from nltk.corpus import stopwords\n",
    "from nltk.tokenize import word_tokenize\n",
    "\n",
    "from bs4 import BeautifulSoup\n",
    "from wordcloud import WordCloud\n",
    "from PIL import Image\n",
    "import numpy as np\n",
    "\n",
    "from sklearn.model_selection import train_test_split\n",
    "\n",
    "%matplotlib inline"
   ]
  },
  {
   "cell_type": "markdown",
   "id": "a7c3d0d2",
   "metadata": {},
   "source": [
    "## Constants"
   ]
  },
  {
   "cell_type": "code",
   "execution_count": 72,
   "id": "23d78765",
   "metadata": {},
   "outputs": [],
   "source": []
  },
  {
   "cell_type": "code",
   "execution_count": null,
   "id": "f5785683",
   "metadata": {},
   "outputs": [],
   "source": [
    "DATA_CSV_FILE_TRAIN = 'KAGGLE/train_disaster_tweet.csv'\n",
    "DATA_CSV_FILE_TEST = 'KAGGLE/test_disaster_tweet.csv'\n",
    "\n",
    "THUMBS_UP_FILE = 'KAGGLE/wordcloud_resources/thumbs-up.png'\n",
    "THUMBS_DOWN_FILE = 'KAGGLE/wordcloud_resources/thumbs-down.png'\n",
    "\n",
    "DATA_TRAIN_JSON_FILE = 'KAGGLE/tweet-data_train.json'\n",
    "DATA_TEST_JSON_FILE = 'KAGGLE/tweet-data_test.json'\n",
    "\n",
    "WORD_ID_FILE = 'KAGGLE/word-by-id.csv'\n",
    "WORD_ID_FILE_TEST = 'KAGGLE/word-by-id-test.csv'\n",
    "\n",
    "\n",
    "TRAINING_DATA_FILE = 'KAGGLE/train-data.txt'\n",
    "TEST_DATA_FILE = 'KAGGLE/test-data.txt'\n",
    "\n",
    "DISASTER_TWEET_CATEGORY = 1\n",
    "NON_DISASTER_TWEET_CATEGORY = 0\n",
    "VOCAB_SIZE = 250"
   ]
  },
  {
   "cell_type": "markdown",
   "id": "8baac090",
   "metadata": {},
   "source": [
    "## Load Dataset"
   ]
  },
  {
   "cell_type": "code",
   "execution_count": 73,
   "id": "a0e6e465",
   "metadata": {},
   "outputs": [],
   "source": [
    "data_train = pd.read_csv(DATA_CSV_FILE_TRAIN)\n",
    "data_test = pd.read_csv(DATA_CSV_FILE_TEST)"
   ]
  },
  {
   "cell_type": "code",
   "execution_count": 74,
   "id": "74d2e426",
   "metadata": {},
   "outputs": [
    {
     "data": {
      "text/plain": [
       "((7613, 5), (3263, 4))"
      ]
     },
     "execution_count": 74,
     "metadata": {},
     "output_type": "execute_result"
    }
   ],
   "source": [
    "data_train.shape, data_test.shape"
   ]
  },
  {
   "cell_type": "code",
   "execution_count": 75,
   "id": "09dd2c35",
   "metadata": {},
   "outputs": [
    {
     "data": {
      "text/html": [
       "<div>\n",
       "<style scoped>\n",
       "    .dataframe tbody tr th:only-of-type {\n",
       "        vertical-align: middle;\n",
       "    }\n",
       "\n",
       "    .dataframe tbody tr th {\n",
       "        vertical-align: top;\n",
       "    }\n",
       "\n",
       "    .dataframe thead th {\n",
       "        text-align: right;\n",
       "    }\n",
       "</style>\n",
       "<table border=\"1\" class=\"dataframe\">\n",
       "  <thead>\n",
       "    <tr style=\"text-align: right;\">\n",
       "      <th></th>\n",
       "      <th>id</th>\n",
       "      <th>keyword</th>\n",
       "      <th>location</th>\n",
       "      <th>text</th>\n",
       "      <th>target</th>\n",
       "    </tr>\n",
       "  </thead>\n",
       "  <tbody>\n",
       "    <tr>\n",
       "      <th>0</th>\n",
       "      <td>1</td>\n",
       "      <td>NaN</td>\n",
       "      <td>NaN</td>\n",
       "      <td>Our Deeds are the Reason of this #earthquake M...</td>\n",
       "      <td>1</td>\n",
       "    </tr>\n",
       "    <tr>\n",
       "      <th>1</th>\n",
       "      <td>4</td>\n",
       "      <td>NaN</td>\n",
       "      <td>NaN</td>\n",
       "      <td>Forest fire near La Ronge Sask. Canada</td>\n",
       "      <td>1</td>\n",
       "    </tr>\n",
       "    <tr>\n",
       "      <th>2</th>\n",
       "      <td>5</td>\n",
       "      <td>NaN</td>\n",
       "      <td>NaN</td>\n",
       "      <td>All residents asked to 'shelter in place' are ...</td>\n",
       "      <td>1</td>\n",
       "    </tr>\n",
       "    <tr>\n",
       "      <th>3</th>\n",
       "      <td>6</td>\n",
       "      <td>NaN</td>\n",
       "      <td>NaN</td>\n",
       "      <td>13,000 people receive #wildfires evacuation or...</td>\n",
       "      <td>1</td>\n",
       "    </tr>\n",
       "    <tr>\n",
       "      <th>4</th>\n",
       "      <td>7</td>\n",
       "      <td>NaN</td>\n",
       "      <td>NaN</td>\n",
       "      <td>Just got sent this photo from Ruby #Alaska as ...</td>\n",
       "      <td>1</td>\n",
       "    </tr>\n",
       "  </tbody>\n",
       "</table>\n",
       "</div>"
      ],
      "text/plain": [
       "   id keyword location                                               text  \\\n",
       "0   1     NaN      NaN  Our Deeds are the Reason of this #earthquake M...   \n",
       "1   4     NaN      NaN             Forest fire near La Ronge Sask. Canada   \n",
       "2   5     NaN      NaN  All residents asked to 'shelter in place' are ...   \n",
       "3   6     NaN      NaN  13,000 people receive #wildfires evacuation or...   \n",
       "4   7     NaN      NaN  Just got sent this photo from Ruby #Alaska as ...   \n",
       "\n",
       "   target  \n",
       "0       1  \n",
       "1       1  \n",
       "2       1  \n",
       "3       1  \n",
       "4       1  "
      ]
     },
     "execution_count": 75,
     "metadata": {},
     "output_type": "execute_result"
    }
   ],
   "source": [
    "data_train.head()"
   ]
  },
  {
   "cell_type": "code",
   "execution_count": 76,
   "id": "500e806c",
   "metadata": {},
   "outputs": [
    {
     "data": {
      "text/html": [
       "<div>\n",
       "<style scoped>\n",
       "    .dataframe tbody tr th:only-of-type {\n",
       "        vertical-align: middle;\n",
       "    }\n",
       "\n",
       "    .dataframe tbody tr th {\n",
       "        vertical-align: top;\n",
       "    }\n",
       "\n",
       "    .dataframe thead th {\n",
       "        text-align: right;\n",
       "    }\n",
       "</style>\n",
       "<table border=\"1\" class=\"dataframe\">\n",
       "  <thead>\n",
       "    <tr style=\"text-align: right;\">\n",
       "      <th></th>\n",
       "      <th>id</th>\n",
       "      <th>keyword</th>\n",
       "      <th>location</th>\n",
       "      <th>text</th>\n",
       "      <th>target</th>\n",
       "    </tr>\n",
       "  </thead>\n",
       "  <tbody>\n",
       "    <tr>\n",
       "      <th>7608</th>\n",
       "      <td>10869</td>\n",
       "      <td>NaN</td>\n",
       "      <td>NaN</td>\n",
       "      <td>Two giant cranes holding a bridge collapse int...</td>\n",
       "      <td>1</td>\n",
       "    </tr>\n",
       "    <tr>\n",
       "      <th>7609</th>\n",
       "      <td>10870</td>\n",
       "      <td>NaN</td>\n",
       "      <td>NaN</td>\n",
       "      <td>@aria_ahrary @TheTawniest The out of control w...</td>\n",
       "      <td>1</td>\n",
       "    </tr>\n",
       "    <tr>\n",
       "      <th>7610</th>\n",
       "      <td>10871</td>\n",
       "      <td>NaN</td>\n",
       "      <td>NaN</td>\n",
       "      <td>M1.94 [01:04 UTC]?5km S of Volcano Hawaii. htt...</td>\n",
       "      <td>1</td>\n",
       "    </tr>\n",
       "    <tr>\n",
       "      <th>7611</th>\n",
       "      <td>10872</td>\n",
       "      <td>NaN</td>\n",
       "      <td>NaN</td>\n",
       "      <td>Police investigating after an e-bike collided ...</td>\n",
       "      <td>1</td>\n",
       "    </tr>\n",
       "    <tr>\n",
       "      <th>7612</th>\n",
       "      <td>10873</td>\n",
       "      <td>NaN</td>\n",
       "      <td>NaN</td>\n",
       "      <td>The Latest: More Homes Razed by Northern Calif...</td>\n",
       "      <td>1</td>\n",
       "    </tr>\n",
       "  </tbody>\n",
       "</table>\n",
       "</div>"
      ],
      "text/plain": [
       "         id keyword location  \\\n",
       "7608  10869     NaN      NaN   \n",
       "7609  10870     NaN      NaN   \n",
       "7610  10871     NaN      NaN   \n",
       "7611  10872     NaN      NaN   \n",
       "7612  10873     NaN      NaN   \n",
       "\n",
       "                                                   text  target  \n",
       "7608  Two giant cranes holding a bridge collapse int...       1  \n",
       "7609  @aria_ahrary @TheTawniest The out of control w...       1  \n",
       "7610  M1.94 [01:04 UTC]?5km S of Volcano Hawaii. htt...       1  \n",
       "7611  Police investigating after an e-bike collided ...       1  \n",
       "7612  The Latest: More Homes Razed by Northern Calif...       1  "
      ]
     },
     "execution_count": 76,
     "metadata": {},
     "output_type": "execute_result"
    }
   ],
   "source": [
    " data_train.tail()"
   ]
  },
  {
   "cell_type": "code",
   "execution_count": 77,
   "id": "6aefe90c",
   "metadata": {},
   "outputs": [
    {
     "data": {
      "text/html": [
       "<div>\n",
       "<style scoped>\n",
       "    .dataframe tbody tr th:only-of-type {\n",
       "        vertical-align: middle;\n",
       "    }\n",
       "\n",
       "    .dataframe tbody tr th {\n",
       "        vertical-align: top;\n",
       "    }\n",
       "\n",
       "    .dataframe thead th {\n",
       "        text-align: right;\n",
       "    }\n",
       "</style>\n",
       "<table border=\"1\" class=\"dataframe\">\n",
       "  <thead>\n",
       "    <tr style=\"text-align: right;\">\n",
       "      <th></th>\n",
       "      <th>id</th>\n",
       "      <th>keyword</th>\n",
       "      <th>location</th>\n",
       "      <th>text</th>\n",
       "      <th>target</th>\n",
       "    </tr>\n",
       "  </thead>\n",
       "  <tbody>\n",
       "    <tr>\n",
       "      <th>5000</th>\n",
       "      <td>7132</td>\n",
       "      <td>military</td>\n",
       "      <td>NY</td>\n",
       "      <td>13 reasons why we love women in the military  ...</td>\n",
       "      <td>0</td>\n",
       "    </tr>\n",
       "    <tr>\n",
       "      <th>5001</th>\n",
       "      <td>7134</td>\n",
       "      <td>military</td>\n",
       "      <td>302</td>\n",
       "      <td>13 reasons why we love women in the military  ...</td>\n",
       "      <td>0</td>\n",
       "    </tr>\n",
       "    <tr>\n",
       "      <th>5002</th>\n",
       "      <td>7135</td>\n",
       "      <td>military</td>\n",
       "      <td>NaN</td>\n",
       "      <td>@UniversityofLaw For the people who died in Hu...</td>\n",
       "      <td>1</td>\n",
       "    </tr>\n",
       "    <tr>\n",
       "      <th>5003</th>\n",
       "      <td>7136</td>\n",
       "      <td>military</td>\n",
       "      <td>NaN</td>\n",
       "      <td>Lot of 20 Tom Clancy Military Mystery Novels -...</td>\n",
       "      <td>0</td>\n",
       "    </tr>\n",
       "    <tr>\n",
       "      <th>5004</th>\n",
       "      <td>7137</td>\n",
       "      <td>military</td>\n",
       "      <td>NaN</td>\n",
       "      <td>@CochiseCollege For the people who died in Hum...</td>\n",
       "      <td>1</td>\n",
       "    </tr>\n",
       "    <tr>\n",
       "      <th>5005</th>\n",
       "      <td>7138</td>\n",
       "      <td>military</td>\n",
       "      <td>NaN</td>\n",
       "      <td>I remember when I worked at Mcdonalds I use to...</td>\n",
       "      <td>0</td>\n",
       "    </tr>\n",
       "  </tbody>\n",
       "</table>\n",
       "</div>"
      ],
      "text/plain": [
       "        id   keyword location  \\\n",
       "5000  7132  military       NY   \n",
       "5001  7134  military      302   \n",
       "5002  7135  military      NaN   \n",
       "5003  7136  military      NaN   \n",
       "5004  7137  military      NaN   \n",
       "5005  7138  military      NaN   \n",
       "\n",
       "                                                   text  target  \n",
       "5000  13 reasons why we love women in the military  ...       0  \n",
       "5001  13 reasons why we love women in the military  ...       0  \n",
       "5002  @UniversityofLaw For the people who died in Hu...       1  \n",
       "5003  Lot of 20 Tom Clancy Military Mystery Novels -...       0  \n",
       "5004  @CochiseCollege For the people who died in Hum...       1  \n",
       "5005  I remember when I worked at Mcdonalds I use to...       0  "
      ]
     },
     "execution_count": 77,
     "metadata": {},
     "output_type": "execute_result"
    }
   ],
   "source": [
    "data_train[5000:5006]"
   ]
  },
  {
   "cell_type": "code",
   "execution_count": 78,
   "id": "bca988b9",
   "metadata": {},
   "outputs": [],
   "source": [
    "data_test.drop(['keyword'], axis=1, inplace=True)\n",
    "data_test.drop(['location'], axis=1, inplace=True)\n",
    "data_test.drop(['id'], axis=1, inplace=True)"
   ]
  },
  {
   "cell_type": "code",
   "execution_count": 79,
   "id": "3efb7070",
   "metadata": {},
   "outputs": [],
   "source": [
    "data_train.drop(['keyword'], axis=1, inplace=True)\n",
    "data_train.drop(['location'], axis=1, inplace=True)\n",
    "data_train.drop(['id'], axis=1, inplace=True)"
   ]
  },
  {
   "cell_type": "code",
   "execution_count": 80,
   "id": "2e77dc30",
   "metadata": {},
   "outputs": [
    {
     "data": {
      "text/html": [
       "<div>\n",
       "<style scoped>\n",
       "    .dataframe tbody tr th:only-of-type {\n",
       "        vertical-align: middle;\n",
       "    }\n",
       "\n",
       "    .dataframe tbody tr th {\n",
       "        vertical-align: top;\n",
       "    }\n",
       "\n",
       "    .dataframe thead th {\n",
       "        text-align: right;\n",
       "    }\n",
       "</style>\n",
       "<table border=\"1\" class=\"dataframe\">\n",
       "  <thead>\n",
       "    <tr style=\"text-align: right;\">\n",
       "      <th></th>\n",
       "      <th>text</th>\n",
       "      <th>target</th>\n",
       "    </tr>\n",
       "  </thead>\n",
       "  <tbody>\n",
       "    <tr>\n",
       "      <th>0</th>\n",
       "      <td>Our Deeds are the Reason of this #earthquake M...</td>\n",
       "      <td>1</td>\n",
       "    </tr>\n",
       "    <tr>\n",
       "      <th>1</th>\n",
       "      <td>Forest fire near La Ronge Sask. Canada</td>\n",
       "      <td>1</td>\n",
       "    </tr>\n",
       "    <tr>\n",
       "      <th>2</th>\n",
       "      <td>All residents asked to 'shelter in place' are ...</td>\n",
       "      <td>1</td>\n",
       "    </tr>\n",
       "    <tr>\n",
       "      <th>3</th>\n",
       "      <td>13,000 people receive #wildfires evacuation or...</td>\n",
       "      <td>1</td>\n",
       "    </tr>\n",
       "    <tr>\n",
       "      <th>4</th>\n",
       "      <td>Just got sent this photo from Ruby #Alaska as ...</td>\n",
       "      <td>1</td>\n",
       "    </tr>\n",
       "  </tbody>\n",
       "</table>\n",
       "</div>"
      ],
      "text/plain": [
       "                                                text  target\n",
       "0  Our Deeds are the Reason of this #earthquake M...       1\n",
       "1             Forest fire near La Ronge Sask. Canada       1\n",
       "2  All residents asked to 'shelter in place' are ...       1\n",
       "3  13,000 people receive #wildfires evacuation or...       1\n",
       "4  Just got sent this photo from Ruby #Alaska as ...       1"
      ]
     },
     "execution_count": 80,
     "metadata": {},
     "output_type": "execute_result"
    }
   ],
   "source": [
    "data_train.head()"
   ]
  },
  {
   "cell_type": "code",
   "execution_count": 81,
   "id": "144cf13a",
   "metadata": {},
   "outputs": [
    {
     "data": {
      "text/html": [
       "<div>\n",
       "<style scoped>\n",
       "    .dataframe tbody tr th:only-of-type {\n",
       "        vertical-align: middle;\n",
       "    }\n",
       "\n",
       "    .dataframe tbody tr th {\n",
       "        vertical-align: top;\n",
       "    }\n",
       "\n",
       "    .dataframe thead th {\n",
       "        text-align: right;\n",
       "    }\n",
       "</style>\n",
       "<table border=\"1\" class=\"dataframe\">\n",
       "  <thead>\n",
       "    <tr style=\"text-align: right;\">\n",
       "      <th></th>\n",
       "      <th>text</th>\n",
       "    </tr>\n",
       "  </thead>\n",
       "  <tbody>\n",
       "    <tr>\n",
       "      <th>0</th>\n",
       "      <td>Just happened a terrible car crash</td>\n",
       "    </tr>\n",
       "    <tr>\n",
       "      <th>1</th>\n",
       "      <td>Heard about #earthquake is different cities, s...</td>\n",
       "    </tr>\n",
       "    <tr>\n",
       "      <th>2</th>\n",
       "      <td>there is a forest fire at spot pond, geese are...</td>\n",
       "    </tr>\n",
       "    <tr>\n",
       "      <th>3</th>\n",
       "      <td>Apocalypse lighting. #Spokane #wildfires</td>\n",
       "    </tr>\n",
       "    <tr>\n",
       "      <th>4</th>\n",
       "      <td>Typhoon Soudelor kills 28 in China and Taiwan</td>\n",
       "    </tr>\n",
       "  </tbody>\n",
       "</table>\n",
       "</div>"
      ],
      "text/plain": [
       "                                                text\n",
       "0                 Just happened a terrible car crash\n",
       "1  Heard about #earthquake is different cities, s...\n",
       "2  there is a forest fire at spot pond, geese are...\n",
       "3           Apocalypse lighting. #Spokane #wildfires\n",
       "4      Typhoon Soudelor kills 28 in China and Taiwan"
      ]
     },
     "execution_count": 81,
     "metadata": {},
     "output_type": "execute_result"
    }
   ],
   "source": [
    "data_test.head()"
   ]
  },
  {
   "cell_type": "code",
   "execution_count": 82,
   "id": "96ef2d63",
   "metadata": {},
   "outputs": [
    {
     "data": {
      "text/plain": [
       "(7613, 2)"
      ]
     },
     "execution_count": 82,
     "metadata": {},
     "output_type": "execute_result"
    }
   ],
   "source": [
    "data_train.shape"
   ]
  },
  {
   "cell_type": "code",
   "execution_count": 83,
   "id": "694f8344",
   "metadata": {},
   "outputs": [
    {
     "data": {
      "text/plain": [
       "3271"
      ]
     },
     "execution_count": 83,
     "metadata": {},
     "output_type": "execute_result"
    }
   ],
   "source": [
    "(data_train.target == 1).sum()"
   ]
  },
  {
   "cell_type": "code",
   "execution_count": 84,
   "id": "ef61021c",
   "metadata": {},
   "outputs": [
    {
     "data": {
      "text/plain": [
       "4342"
      ]
     },
     "execution_count": 84,
     "metadata": {},
     "output_type": "execute_result"
    }
   ],
   "source": [
    "(data_train.target == 0).sum()"
   ]
  },
  {
   "cell_type": "code",
   "execution_count": 85,
   "id": "234a5fcf",
   "metadata": {},
   "outputs": [],
   "source": [
    "danger_tweets = data_train[data_train.target == 1]\n",
    "non_danger_tweets = data_train[data_train.target == 0]\n",
    "\n",
    "## OR\n",
    "## danger_tweets = data_train[data_train['target'] == 1]\n",
    "## non_danger_tweets = data_train[data_train['target'] == 0]"
   ]
  },
  {
   "cell_type": "code",
   "execution_count": 86,
   "id": "826c518b",
   "metadata": {},
   "outputs": [
    {
     "data": {
      "text/html": [
       "<div>\n",
       "<style scoped>\n",
       "    .dataframe tbody tr th:only-of-type {\n",
       "        vertical-align: middle;\n",
       "    }\n",
       "\n",
       "    .dataframe tbody tr th {\n",
       "        vertical-align: top;\n",
       "    }\n",
       "\n",
       "    .dataframe thead th {\n",
       "        text-align: right;\n",
       "    }\n",
       "</style>\n",
       "<table border=\"1\" class=\"dataframe\">\n",
       "  <thead>\n",
       "    <tr style=\"text-align: right;\">\n",
       "      <th></th>\n",
       "      <th>text</th>\n",
       "      <th>target</th>\n",
       "    </tr>\n",
       "  </thead>\n",
       "  <tbody>\n",
       "    <tr>\n",
       "      <th>0</th>\n",
       "      <td>Our Deeds are the Reason of this #earthquake M...</td>\n",
       "      <td>1</td>\n",
       "    </tr>\n",
       "    <tr>\n",
       "      <th>1</th>\n",
       "      <td>Forest fire near La Ronge Sask. Canada</td>\n",
       "      <td>1</td>\n",
       "    </tr>\n",
       "    <tr>\n",
       "      <th>2</th>\n",
       "      <td>All residents asked to 'shelter in place' are ...</td>\n",
       "      <td>1</td>\n",
       "    </tr>\n",
       "    <tr>\n",
       "      <th>3</th>\n",
       "      <td>13,000 people receive #wildfires evacuation or...</td>\n",
       "      <td>1</td>\n",
       "    </tr>\n",
       "    <tr>\n",
       "      <th>4</th>\n",
       "      <td>Just got sent this photo from Ruby #Alaska as ...</td>\n",
       "      <td>1</td>\n",
       "    </tr>\n",
       "    <tr>\n",
       "      <th>...</th>\n",
       "      <td>...</td>\n",
       "      <td>...</td>\n",
       "    </tr>\n",
       "    <tr>\n",
       "      <th>7608</th>\n",
       "      <td>Two giant cranes holding a bridge collapse int...</td>\n",
       "      <td>1</td>\n",
       "    </tr>\n",
       "    <tr>\n",
       "      <th>7609</th>\n",
       "      <td>@aria_ahrary @TheTawniest The out of control w...</td>\n",
       "      <td>1</td>\n",
       "    </tr>\n",
       "    <tr>\n",
       "      <th>7610</th>\n",
       "      <td>M1.94 [01:04 UTC]?5km S of Volcano Hawaii. htt...</td>\n",
       "      <td>1</td>\n",
       "    </tr>\n",
       "    <tr>\n",
       "      <th>7611</th>\n",
       "      <td>Police investigating after an e-bike collided ...</td>\n",
       "      <td>1</td>\n",
       "    </tr>\n",
       "    <tr>\n",
       "      <th>7612</th>\n",
       "      <td>The Latest: More Homes Razed by Northern Calif...</td>\n",
       "      <td>1</td>\n",
       "    </tr>\n",
       "  </tbody>\n",
       "</table>\n",
       "<p>3271 rows × 2 columns</p>\n",
       "</div>"
      ],
      "text/plain": [
       "                                                   text  target\n",
       "0     Our Deeds are the Reason of this #earthquake M...       1\n",
       "1                Forest fire near La Ronge Sask. Canada       1\n",
       "2     All residents asked to 'shelter in place' are ...       1\n",
       "3     13,000 people receive #wildfires evacuation or...       1\n",
       "4     Just got sent this photo from Ruby #Alaska as ...       1\n",
       "...                                                 ...     ...\n",
       "7608  Two giant cranes holding a bridge collapse int...       1\n",
       "7609  @aria_ahrary @TheTawniest The out of control w...       1\n",
       "7610  M1.94 [01:04 UTC]?5km S of Volcano Hawaii. htt...       1\n",
       "7611  Police investigating after an e-bike collided ...       1\n",
       "7612  The Latest: More Homes Razed by Northern Calif...       1\n",
       "\n",
       "[3271 rows x 2 columns]"
      ]
     },
     "execution_count": 86,
     "metadata": {},
     "output_type": "execute_result"
    }
   ],
   "source": [
    "danger_tweets"
   ]
  },
  {
   "cell_type": "code",
   "execution_count": 87,
   "id": "9b521bf8",
   "metadata": {},
   "outputs": [
    {
     "data": {
      "text/html": [
       "<div>\n",
       "<style scoped>\n",
       "    .dataframe tbody tr th:only-of-type {\n",
       "        vertical-align: middle;\n",
       "    }\n",
       "\n",
       "    .dataframe tbody tr th {\n",
       "        vertical-align: top;\n",
       "    }\n",
       "\n",
       "    .dataframe thead th {\n",
       "        text-align: right;\n",
       "    }\n",
       "</style>\n",
       "<table border=\"1\" class=\"dataframe\">\n",
       "  <thead>\n",
       "    <tr style=\"text-align: right;\">\n",
       "      <th></th>\n",
       "      <th>text</th>\n",
       "      <th>target</th>\n",
       "    </tr>\n",
       "  </thead>\n",
       "  <tbody>\n",
       "    <tr>\n",
       "      <th>15</th>\n",
       "      <td>What's up man?</td>\n",
       "      <td>0</td>\n",
       "    </tr>\n",
       "    <tr>\n",
       "      <th>16</th>\n",
       "      <td>I love fruits</td>\n",
       "      <td>0</td>\n",
       "    </tr>\n",
       "    <tr>\n",
       "      <th>17</th>\n",
       "      <td>Summer is lovely</td>\n",
       "      <td>0</td>\n",
       "    </tr>\n",
       "    <tr>\n",
       "      <th>18</th>\n",
       "      <td>My car is so fast</td>\n",
       "      <td>0</td>\n",
       "    </tr>\n",
       "    <tr>\n",
       "      <th>19</th>\n",
       "      <td>What a goooooooaaaaaal!!!!!!</td>\n",
       "      <td>0</td>\n",
       "    </tr>\n",
       "    <tr>\n",
       "      <th>...</th>\n",
       "      <td>...</td>\n",
       "      <td>...</td>\n",
       "    </tr>\n",
       "    <tr>\n",
       "      <th>7581</th>\n",
       "      <td>@engineshed Great atmosphere at the British Li...</td>\n",
       "      <td>0</td>\n",
       "    </tr>\n",
       "    <tr>\n",
       "      <th>7582</th>\n",
       "      <td>Cramer: Iger's 3 words that wrecked Disney's s...</td>\n",
       "      <td>0</td>\n",
       "    </tr>\n",
       "    <tr>\n",
       "      <th>7584</th>\n",
       "      <td>These boxes are ready to explode! Exploding Ki...</td>\n",
       "      <td>0</td>\n",
       "    </tr>\n",
       "    <tr>\n",
       "      <th>7587</th>\n",
       "      <td>Sirens everywhere!</td>\n",
       "      <td>0</td>\n",
       "    </tr>\n",
       "    <tr>\n",
       "      <th>7593</th>\n",
       "      <td>I just heard a really loud bang and everyone i...</td>\n",
       "      <td>0</td>\n",
       "    </tr>\n",
       "  </tbody>\n",
       "</table>\n",
       "<p>4342 rows × 2 columns</p>\n",
       "</div>"
      ],
      "text/plain": [
       "                                                   text  target\n",
       "15                                       What's up man?       0\n",
       "16                                        I love fruits       0\n",
       "17                                     Summer is lovely       0\n",
       "18                                    My car is so fast       0\n",
       "19                         What a goooooooaaaaaal!!!!!!       0\n",
       "...                                                 ...     ...\n",
       "7581  @engineshed Great atmosphere at the British Li...       0\n",
       "7582  Cramer: Iger's 3 words that wrecked Disney's s...       0\n",
       "7584  These boxes are ready to explode! Exploding Ki...       0\n",
       "7587                                 Sirens everywhere!       0\n",
       "7593  I just heard a really loud bang and everyone i...       0\n",
       "\n",
       "[4342 rows x 2 columns]"
      ]
     },
     "execution_count": 87,
     "metadata": {},
     "output_type": "execute_result"
    }
   ],
   "source": [
    "non_danger_tweets"
   ]
  },
  {
   "cell_type": "markdown",
   "id": "ee2eb666",
   "metadata": {},
   "source": [
    "## Data Cleaning: Checking for Missing Values"
   ]
  },
  {
   "cell_type": "code",
   "execution_count": 88,
   "id": "db2a258c",
   "metadata": {},
   "outputs": [
    {
     "data": {
      "text/plain": [
       "False"
      ]
     },
     "execution_count": 88,
     "metadata": {},
     "output_type": "execute_result"
    }
   ],
   "source": [
    "(data_train['text'].isnull()).values.any()\n",
    "(data_test['text'].isnull()).values.any()"
   ]
  },
  {
   "cell_type": "code",
   "execution_count": 89,
   "id": "7012d248",
   "metadata": {},
   "outputs": [
    {
     "data": {
      "text/plain": [
       "False"
      ]
     },
     "execution_count": 89,
     "metadata": {},
     "output_type": "execute_result"
    }
   ],
   "source": [
    "# check if there are any empty tweets (string length zero)\n",
    "(data_train.text.str.len() == 0).any()\n",
    "(data_test.text.str.len() == 0).any()"
   ]
  },
  {
   "cell_type": "code",
   "execution_count": 90,
   "id": "a74812c1",
   "metadata": {},
   "outputs": [
    {
     "data": {
      "text/plain": [
       "0"
      ]
     },
     "execution_count": 90,
     "metadata": {},
     "output_type": "execute_result"
    }
   ],
   "source": [
    "(data_train.text.str.len() == 0).sum()\n",
    "(data_test.text.str.len() == 0).sum()"
   ]
  },
  {
   "cell_type": "code",
   "execution_count": 91,
   "id": "eb874afe",
   "metadata": {},
   "outputs": [
    {
     "data": {
      "text/plain": [
       "0"
      ]
     },
     "execution_count": 91,
     "metadata": {},
     "output_type": "execute_result"
    }
   ],
   "source": [
    "data_train.text.isnull().sum()\n",
    "data_test.text.isnull().sum()"
   ]
  },
  {
   "cell_type": "code",
   "execution_count": 92,
   "id": "f47f2aea",
   "metadata": {},
   "outputs": [
    {
     "data": {
      "text/plain": [
       "((7613, 2), (3263, 1))"
      ]
     },
     "execution_count": 92,
     "metadata": {},
     "output_type": "execute_result"
    }
   ],
   "source": [
    "data_train.shape, data_test.shape"
   ]
  },
  {
   "cell_type": "code",
   "execution_count": 93,
   "id": "74fb3e5a",
   "metadata": {},
   "outputs": [
    {
     "data": {
      "text/plain": [
       "RangeIndex(start=0, stop=7613, step=1)"
      ]
     },
     "execution_count": 93,
     "metadata": {},
     "output_type": "execute_result"
    }
   ],
   "source": [
    "data_train.index"
   ]
  },
  {
   "cell_type": "code",
   "execution_count": 94,
   "id": "273b6d78",
   "metadata": {},
   "outputs": [
    {
     "data": {
      "text/plain": [
       "RangeIndex(start=0, stop=3263, step=1)"
      ]
     },
     "execution_count": 94,
     "metadata": {},
     "output_type": "execute_result"
    }
   ],
   "source": [
    "data_test.index"
   ]
  },
  {
   "cell_type": "markdown",
   "id": "2c0e95c2",
   "metadata": {},
   "source": [
    "## Add Document IDs to Track Tweets in Dataset"
   ]
  },
  {
   "cell_type": "code",
   "execution_count": 95,
   "id": "729a0eba",
   "metadata": {},
   "outputs": [],
   "source": [
    "document_ids = range(0, len(data_train.index))\n",
    "data_train['DOC_ID'] = document_ids"
   ]
  },
  {
   "cell_type": "code",
   "execution_count": 96,
   "id": "bee660c7",
   "metadata": {},
   "outputs": [],
   "source": [
    "document_ids_test = range(0, len(data_test.index))\n",
    "data_test['DOC_ID'] = document_ids_test"
   ]
  },
  {
   "cell_type": "code",
   "execution_count": 97,
   "id": "0729966f",
   "metadata": {},
   "outputs": [
    {
     "data": {
      "text/html": [
       "<div>\n",
       "<style scoped>\n",
       "    .dataframe tbody tr th:only-of-type {\n",
       "        vertical-align: middle;\n",
       "    }\n",
       "\n",
       "    .dataframe tbody tr th {\n",
       "        vertical-align: top;\n",
       "    }\n",
       "\n",
       "    .dataframe thead th {\n",
       "        text-align: right;\n",
       "    }\n",
       "</style>\n",
       "<table border=\"1\" class=\"dataframe\">\n",
       "  <thead>\n",
       "    <tr style=\"text-align: right;\">\n",
       "      <th></th>\n",
       "      <th>text</th>\n",
       "      <th>DOC_ID</th>\n",
       "    </tr>\n",
       "  </thead>\n",
       "  <tbody>\n",
       "    <tr>\n",
       "      <th>0</th>\n",
       "      <td>Just happened a terrible car crash</td>\n",
       "      <td>0</td>\n",
       "    </tr>\n",
       "    <tr>\n",
       "      <th>1</th>\n",
       "      <td>Heard about #earthquake is different cities, s...</td>\n",
       "      <td>1</td>\n",
       "    </tr>\n",
       "    <tr>\n",
       "      <th>2</th>\n",
       "      <td>there is a forest fire at spot pond, geese are...</td>\n",
       "      <td>2</td>\n",
       "    </tr>\n",
       "    <tr>\n",
       "      <th>3</th>\n",
       "      <td>Apocalypse lighting. #Spokane #wildfires</td>\n",
       "      <td>3</td>\n",
       "    </tr>\n",
       "    <tr>\n",
       "      <th>4</th>\n",
       "      <td>Typhoon Soudelor kills 28 in China and Taiwan</td>\n",
       "      <td>4</td>\n",
       "    </tr>\n",
       "    <tr>\n",
       "      <th>...</th>\n",
       "      <td>...</td>\n",
       "      <td>...</td>\n",
       "    </tr>\n",
       "    <tr>\n",
       "      <th>3258</th>\n",
       "      <td>EARTHQUAKE SAFETY LOS ANGELES ÛÒ SAFETY FASTE...</td>\n",
       "      <td>3258</td>\n",
       "    </tr>\n",
       "    <tr>\n",
       "      <th>3259</th>\n",
       "      <td>Storm in RI worse than last hurricane. My city...</td>\n",
       "      <td>3259</td>\n",
       "    </tr>\n",
       "    <tr>\n",
       "      <th>3260</th>\n",
       "      <td>Green Line derailment in Chicago http://t.co/U...</td>\n",
       "      <td>3260</td>\n",
       "    </tr>\n",
       "    <tr>\n",
       "      <th>3261</th>\n",
       "      <td>MEG issues Hazardous Weather Outlook (HWO) htt...</td>\n",
       "      <td>3261</td>\n",
       "    </tr>\n",
       "    <tr>\n",
       "      <th>3262</th>\n",
       "      <td>#CityofCalgary has activated its Municipal Eme...</td>\n",
       "      <td>3262</td>\n",
       "    </tr>\n",
       "  </tbody>\n",
       "</table>\n",
       "<p>3263 rows × 2 columns</p>\n",
       "</div>"
      ],
      "text/plain": [
       "                                                   text  DOC_ID\n",
       "0                    Just happened a terrible car crash       0\n",
       "1     Heard about #earthquake is different cities, s...       1\n",
       "2     there is a forest fire at spot pond, geese are...       2\n",
       "3              Apocalypse lighting. #Spokane #wildfires       3\n",
       "4         Typhoon Soudelor kills 28 in China and Taiwan       4\n",
       "...                                                 ...     ...\n",
       "3258  EARTHQUAKE SAFETY LOS ANGELES ÛÒ SAFETY FASTE...    3258\n",
       "3259  Storm in RI worse than last hurricane. My city...    3259\n",
       "3260  Green Line derailment in Chicago http://t.co/U...    3260\n",
       "3261  MEG issues Hazardous Weather Outlook (HWO) htt...    3261\n",
       "3262  #CityofCalgary has activated its Municipal Eme...    3262\n",
       "\n",
       "[3263 rows x 2 columns]"
      ]
     },
     "execution_count": 97,
     "metadata": {},
     "output_type": "execute_result"
    }
   ],
   "source": [
    "data_test"
   ]
  },
  {
   "cell_type": "code",
   "execution_count": 98,
   "id": "3e1d849d",
   "metadata": {},
   "outputs": [
    {
     "data": {
      "text/html": [
       "<div>\n",
       "<style scoped>\n",
       "    .dataframe tbody tr th:only-of-type {\n",
       "        vertical-align: middle;\n",
       "    }\n",
       "\n",
       "    .dataframe tbody tr th {\n",
       "        vertical-align: top;\n",
       "    }\n",
       "\n",
       "    .dataframe thead th {\n",
       "        text-align: right;\n",
       "    }\n",
       "</style>\n",
       "<table border=\"1\" class=\"dataframe\">\n",
       "  <thead>\n",
       "    <tr style=\"text-align: right;\">\n",
       "      <th></th>\n",
       "      <th>text</th>\n",
       "      <th>target</th>\n",
       "      <th>DOC_ID</th>\n",
       "    </tr>\n",
       "  </thead>\n",
       "  <tbody>\n",
       "    <tr>\n",
       "      <th>0</th>\n",
       "      <td>Our Deeds are the Reason of this #earthquake M...</td>\n",
       "      <td>1</td>\n",
       "      <td>0</td>\n",
       "    </tr>\n",
       "    <tr>\n",
       "      <th>1</th>\n",
       "      <td>Forest fire near La Ronge Sask. Canada</td>\n",
       "      <td>1</td>\n",
       "      <td>1</td>\n",
       "    </tr>\n",
       "    <tr>\n",
       "      <th>2</th>\n",
       "      <td>All residents asked to 'shelter in place' are ...</td>\n",
       "      <td>1</td>\n",
       "      <td>2</td>\n",
       "    </tr>\n",
       "    <tr>\n",
       "      <th>3</th>\n",
       "      <td>13,000 people receive #wildfires evacuation or...</td>\n",
       "      <td>1</td>\n",
       "      <td>3</td>\n",
       "    </tr>\n",
       "    <tr>\n",
       "      <th>4</th>\n",
       "      <td>Just got sent this photo from Ruby #Alaska as ...</td>\n",
       "      <td>1</td>\n",
       "      <td>4</td>\n",
       "    </tr>\n",
       "    <tr>\n",
       "      <th>...</th>\n",
       "      <td>...</td>\n",
       "      <td>...</td>\n",
       "      <td>...</td>\n",
       "    </tr>\n",
       "    <tr>\n",
       "      <th>7608</th>\n",
       "      <td>Two giant cranes holding a bridge collapse int...</td>\n",
       "      <td>1</td>\n",
       "      <td>7608</td>\n",
       "    </tr>\n",
       "    <tr>\n",
       "      <th>7609</th>\n",
       "      <td>@aria_ahrary @TheTawniest The out of control w...</td>\n",
       "      <td>1</td>\n",
       "      <td>7609</td>\n",
       "    </tr>\n",
       "    <tr>\n",
       "      <th>7610</th>\n",
       "      <td>M1.94 [01:04 UTC]?5km S of Volcano Hawaii. htt...</td>\n",
       "      <td>1</td>\n",
       "      <td>7610</td>\n",
       "    </tr>\n",
       "    <tr>\n",
       "      <th>7611</th>\n",
       "      <td>Police investigating after an e-bike collided ...</td>\n",
       "      <td>1</td>\n",
       "      <td>7611</td>\n",
       "    </tr>\n",
       "    <tr>\n",
       "      <th>7612</th>\n",
       "      <td>The Latest: More Homes Razed by Northern Calif...</td>\n",
       "      <td>1</td>\n",
       "      <td>7612</td>\n",
       "    </tr>\n",
       "  </tbody>\n",
       "</table>\n",
       "<p>7613 rows × 3 columns</p>\n",
       "</div>"
      ],
      "text/plain": [
       "                                                   text  target  DOC_ID\n",
       "0     Our Deeds are the Reason of this #earthquake M...       1       0\n",
       "1                Forest fire near La Ronge Sask. Canada       1       1\n",
       "2     All residents asked to 'shelter in place' are ...       1       2\n",
       "3     13,000 people receive #wildfires evacuation or...       1       3\n",
       "4     Just got sent this photo from Ruby #Alaska as ...       1       4\n",
       "...                                                 ...     ...     ...\n",
       "7608  Two giant cranes holding a bridge collapse int...       1    7608\n",
       "7609  @aria_ahrary @TheTawniest The out of control w...       1    7609\n",
       "7610  M1.94 [01:04 UTC]?5km S of Volcano Hawaii. htt...       1    7610\n",
       "7611  Police investigating after an e-bike collided ...       1    7611\n",
       "7612  The Latest: More Homes Razed by Northern Calif...       1    7612\n",
       "\n",
       "[7613 rows x 3 columns]"
      ]
     },
     "execution_count": 98,
     "metadata": {},
     "output_type": "execute_result"
    }
   ],
   "source": [
    "data_train"
   ]
  },
  {
   "cell_type": "code",
   "execution_count": 99,
   "id": "d6f1c546",
   "metadata": {},
   "outputs": [
    {
     "data": {
      "text/plain": [
       "(RangeIndex(start=0, stop=7613, step=1),\n",
       " RangeIndex(start=0, stop=3263, step=1))"
      ]
     },
     "execution_count": 99,
     "metadata": {},
     "output_type": "execute_result"
    }
   ],
   "source": [
    "data_train.index, data_test.index"
   ]
  },
  {
   "cell_type": "code",
   "execution_count": 100,
   "id": "edc35e44",
   "metadata": {},
   "outputs": [],
   "source": [
    "data_train['filename'] = data_train.index\n",
    "data_test['filename'] = data_test.index"
   ]
  },
  {
   "cell_type": "code",
   "execution_count": 101,
   "id": "77e69586",
   "metadata": {},
   "outputs": [
    {
     "data": {
      "text/html": [
       "<div>\n",
       "<style scoped>\n",
       "    .dataframe tbody tr th:only-of-type {\n",
       "        vertical-align: middle;\n",
       "    }\n",
       "\n",
       "    .dataframe tbody tr th {\n",
       "        vertical-align: top;\n",
       "    }\n",
       "\n",
       "    .dataframe thead th {\n",
       "        text-align: right;\n",
       "    }\n",
       "</style>\n",
       "<table border=\"1\" class=\"dataframe\">\n",
       "  <thead>\n",
       "    <tr style=\"text-align: right;\">\n",
       "      <th></th>\n",
       "      <th>text</th>\n",
       "      <th>target</th>\n",
       "      <th>DOC_ID</th>\n",
       "      <th>filename</th>\n",
       "    </tr>\n",
       "  </thead>\n",
       "  <tbody>\n",
       "    <tr>\n",
       "      <th>0</th>\n",
       "      <td>Our Deeds are the Reason of this #earthquake M...</td>\n",
       "      <td>1</td>\n",
       "      <td>0</td>\n",
       "      <td>0</td>\n",
       "    </tr>\n",
       "    <tr>\n",
       "      <th>1</th>\n",
       "      <td>Forest fire near La Ronge Sask. Canada</td>\n",
       "      <td>1</td>\n",
       "      <td>1</td>\n",
       "      <td>1</td>\n",
       "    </tr>\n",
       "    <tr>\n",
       "      <th>2</th>\n",
       "      <td>All residents asked to 'shelter in place' are ...</td>\n",
       "      <td>1</td>\n",
       "      <td>2</td>\n",
       "      <td>2</td>\n",
       "    </tr>\n",
       "    <tr>\n",
       "      <th>3</th>\n",
       "      <td>13,000 people receive #wildfires evacuation or...</td>\n",
       "      <td>1</td>\n",
       "      <td>3</td>\n",
       "      <td>3</td>\n",
       "    </tr>\n",
       "    <tr>\n",
       "      <th>4</th>\n",
       "      <td>Just got sent this photo from Ruby #Alaska as ...</td>\n",
       "      <td>1</td>\n",
       "      <td>4</td>\n",
       "      <td>4</td>\n",
       "    </tr>\n",
       "    <tr>\n",
       "      <th>...</th>\n",
       "      <td>...</td>\n",
       "      <td>...</td>\n",
       "      <td>...</td>\n",
       "      <td>...</td>\n",
       "    </tr>\n",
       "    <tr>\n",
       "      <th>7608</th>\n",
       "      <td>Two giant cranes holding a bridge collapse int...</td>\n",
       "      <td>1</td>\n",
       "      <td>7608</td>\n",
       "      <td>7608</td>\n",
       "    </tr>\n",
       "    <tr>\n",
       "      <th>7609</th>\n",
       "      <td>@aria_ahrary @TheTawniest The out of control w...</td>\n",
       "      <td>1</td>\n",
       "      <td>7609</td>\n",
       "      <td>7609</td>\n",
       "    </tr>\n",
       "    <tr>\n",
       "      <th>7610</th>\n",
       "      <td>M1.94 [01:04 UTC]?5km S of Volcano Hawaii. htt...</td>\n",
       "      <td>1</td>\n",
       "      <td>7610</td>\n",
       "      <td>7610</td>\n",
       "    </tr>\n",
       "    <tr>\n",
       "      <th>7611</th>\n",
       "      <td>Police investigating after an e-bike collided ...</td>\n",
       "      <td>1</td>\n",
       "      <td>7611</td>\n",
       "      <td>7611</td>\n",
       "    </tr>\n",
       "    <tr>\n",
       "      <th>7612</th>\n",
       "      <td>The Latest: More Homes Razed by Northern Calif...</td>\n",
       "      <td>1</td>\n",
       "      <td>7612</td>\n",
       "      <td>7612</td>\n",
       "    </tr>\n",
       "  </tbody>\n",
       "</table>\n",
       "<p>7613 rows × 4 columns</p>\n",
       "</div>"
      ],
      "text/plain": [
       "                                                   text  target  DOC_ID  \\\n",
       "0     Our Deeds are the Reason of this #earthquake M...       1       0   \n",
       "1                Forest fire near La Ronge Sask. Canada       1       1   \n",
       "2     All residents asked to 'shelter in place' are ...       1       2   \n",
       "3     13,000 people receive #wildfires evacuation or...       1       3   \n",
       "4     Just got sent this photo from Ruby #Alaska as ...       1       4   \n",
       "...                                                 ...     ...     ...   \n",
       "7608  Two giant cranes holding a bridge collapse int...       1    7608   \n",
       "7609  @aria_ahrary @TheTawniest The out of control w...       1    7609   \n",
       "7610  M1.94 [01:04 UTC]?5km S of Volcano Hawaii. htt...       1    7610   \n",
       "7611  Police investigating after an e-bike collided ...       1    7611   \n",
       "7612  The Latest: More Homes Razed by Northern Calif...       1    7612   \n",
       "\n",
       "      filename  \n",
       "0            0  \n",
       "1            1  \n",
       "2            2  \n",
       "3            3  \n",
       "4            4  \n",
       "...        ...  \n",
       "7608      7608  \n",
       "7609      7609  \n",
       "7610      7610  \n",
       "7611      7611  \n",
       "7612      7612  \n",
       "\n",
       "[7613 rows x 4 columns]"
      ]
     },
     "execution_count": 101,
     "metadata": {},
     "output_type": "execute_result"
    }
   ],
   "source": [
    "data_train"
   ]
  },
  {
   "cell_type": "code",
   "execution_count": 102,
   "id": "6a28518a",
   "metadata": {},
   "outputs": [
    {
     "data": {
      "text/html": [
       "<div>\n",
       "<style scoped>\n",
       "    .dataframe tbody tr th:only-of-type {\n",
       "        vertical-align: middle;\n",
       "    }\n",
       "\n",
       "    .dataframe tbody tr th {\n",
       "        vertical-align: top;\n",
       "    }\n",
       "\n",
       "    .dataframe thead th {\n",
       "        text-align: right;\n",
       "    }\n",
       "</style>\n",
       "<table border=\"1\" class=\"dataframe\">\n",
       "  <thead>\n",
       "    <tr style=\"text-align: right;\">\n",
       "      <th></th>\n",
       "      <th>text</th>\n",
       "      <th>DOC_ID</th>\n",
       "      <th>filename</th>\n",
       "    </tr>\n",
       "  </thead>\n",
       "  <tbody>\n",
       "    <tr>\n",
       "      <th>0</th>\n",
       "      <td>Just happened a terrible car crash</td>\n",
       "      <td>0</td>\n",
       "      <td>0</td>\n",
       "    </tr>\n",
       "    <tr>\n",
       "      <th>1</th>\n",
       "      <td>Heard about #earthquake is different cities, s...</td>\n",
       "      <td>1</td>\n",
       "      <td>1</td>\n",
       "    </tr>\n",
       "    <tr>\n",
       "      <th>2</th>\n",
       "      <td>there is a forest fire at spot pond, geese are...</td>\n",
       "      <td>2</td>\n",
       "      <td>2</td>\n",
       "    </tr>\n",
       "    <tr>\n",
       "      <th>3</th>\n",
       "      <td>Apocalypse lighting. #Spokane #wildfires</td>\n",
       "      <td>3</td>\n",
       "      <td>3</td>\n",
       "    </tr>\n",
       "    <tr>\n",
       "      <th>4</th>\n",
       "      <td>Typhoon Soudelor kills 28 in China and Taiwan</td>\n",
       "      <td>4</td>\n",
       "      <td>4</td>\n",
       "    </tr>\n",
       "    <tr>\n",
       "      <th>...</th>\n",
       "      <td>...</td>\n",
       "      <td>...</td>\n",
       "      <td>...</td>\n",
       "    </tr>\n",
       "    <tr>\n",
       "      <th>3258</th>\n",
       "      <td>EARTHQUAKE SAFETY LOS ANGELES ÛÒ SAFETY FASTE...</td>\n",
       "      <td>3258</td>\n",
       "      <td>3258</td>\n",
       "    </tr>\n",
       "    <tr>\n",
       "      <th>3259</th>\n",
       "      <td>Storm in RI worse than last hurricane. My city...</td>\n",
       "      <td>3259</td>\n",
       "      <td>3259</td>\n",
       "    </tr>\n",
       "    <tr>\n",
       "      <th>3260</th>\n",
       "      <td>Green Line derailment in Chicago http://t.co/U...</td>\n",
       "      <td>3260</td>\n",
       "      <td>3260</td>\n",
       "    </tr>\n",
       "    <tr>\n",
       "      <th>3261</th>\n",
       "      <td>MEG issues Hazardous Weather Outlook (HWO) htt...</td>\n",
       "      <td>3261</td>\n",
       "      <td>3261</td>\n",
       "    </tr>\n",
       "    <tr>\n",
       "      <th>3262</th>\n",
       "      <td>#CityofCalgary has activated its Municipal Eme...</td>\n",
       "      <td>3262</td>\n",
       "      <td>3262</td>\n",
       "    </tr>\n",
       "  </tbody>\n",
       "</table>\n",
       "<p>3263 rows × 3 columns</p>\n",
       "</div>"
      ],
      "text/plain": [
       "                                                   text  DOC_ID  filename\n",
       "0                    Just happened a terrible car crash       0         0\n",
       "1     Heard about #earthquake is different cities, s...       1         1\n",
       "2     there is a forest fire at spot pond, geese are...       2         2\n",
       "3              Apocalypse lighting. #Spokane #wildfires       3         3\n",
       "4         Typhoon Soudelor kills 28 in China and Taiwan       4         4\n",
       "...                                                 ...     ...       ...\n",
       "3258  EARTHQUAKE SAFETY LOS ANGELES ÛÒ SAFETY FASTE...    3258      3258\n",
       "3259  Storm in RI worse than last hurricane. My city...    3259      3259\n",
       "3260  Green Line derailment in Chicago http://t.co/U...    3260      3260\n",
       "3261  MEG issues Hazardous Weather Outlook (HWO) htt...    3261      3261\n",
       "3262  #CityofCalgary has activated its Municipal Eme...    3262      3262\n",
       "\n",
       "[3263 rows x 3 columns]"
      ]
     },
     "execution_count": 102,
     "metadata": {},
     "output_type": "execute_result"
    }
   ],
   "source": [
    "data_test"
   ]
  },
  {
   "cell_type": "code",
   "execution_count": 103,
   "id": "e237f3f3",
   "metadata": {},
   "outputs": [
    {
     "data": {
      "text/html": [
       "<div>\n",
       "<style scoped>\n",
       "    .dataframe tbody tr th:only-of-type {\n",
       "        vertical-align: middle;\n",
       "    }\n",
       "\n",
       "    .dataframe tbody tr th {\n",
       "        vertical-align: top;\n",
       "    }\n",
       "\n",
       "    .dataframe thead th {\n",
       "        text-align: right;\n",
       "    }\n",
       "</style>\n",
       "<table border=\"1\" class=\"dataframe\">\n",
       "  <thead>\n",
       "    <tr style=\"text-align: right;\">\n",
       "      <th></th>\n",
       "      <th>text</th>\n",
       "      <th>target</th>\n",
       "      <th>filename</th>\n",
       "    </tr>\n",
       "    <tr>\n",
       "      <th>DOC_ID</th>\n",
       "      <th></th>\n",
       "      <th></th>\n",
       "      <th></th>\n",
       "    </tr>\n",
       "  </thead>\n",
       "  <tbody>\n",
       "    <tr>\n",
       "      <th>0</th>\n",
       "      <td>Our Deeds are the Reason of this #earthquake M...</td>\n",
       "      <td>1</td>\n",
       "      <td>0</td>\n",
       "    </tr>\n",
       "    <tr>\n",
       "      <th>1</th>\n",
       "      <td>Forest fire near La Ronge Sask. Canada</td>\n",
       "      <td>1</td>\n",
       "      <td>1</td>\n",
       "    </tr>\n",
       "    <tr>\n",
       "      <th>2</th>\n",
       "      <td>All residents asked to 'shelter in place' are ...</td>\n",
       "      <td>1</td>\n",
       "      <td>2</td>\n",
       "    </tr>\n",
       "    <tr>\n",
       "      <th>3</th>\n",
       "      <td>13,000 people receive #wildfires evacuation or...</td>\n",
       "      <td>1</td>\n",
       "      <td>3</td>\n",
       "    </tr>\n",
       "    <tr>\n",
       "      <th>4</th>\n",
       "      <td>Just got sent this photo from Ruby #Alaska as ...</td>\n",
       "      <td>1</td>\n",
       "      <td>4</td>\n",
       "    </tr>\n",
       "  </tbody>\n",
       "</table>\n",
       "</div>"
      ],
      "text/plain": [
       "                                                     text  target  filename\n",
       "DOC_ID                                                                     \n",
       "0       Our Deeds are the Reason of this #earthquake M...       1         0\n",
       "1                  Forest fire near La Ronge Sask. Canada       1         1\n",
       "2       All residents asked to 'shelter in place' are ...       1         2\n",
       "3       13,000 people receive #wildfires evacuation or...       1         3\n",
       "4       Just got sent this photo from Ruby #Alaska as ...       1         4"
      ]
     },
     "execution_count": 103,
     "metadata": {},
     "output_type": "execute_result"
    }
   ],
   "source": [
    "data_train.set_index('DOC_ID', inplace=True)\n",
    "data_train.head()"
   ]
  },
  {
   "cell_type": "code",
   "execution_count": 104,
   "id": "24380f7a",
   "metadata": {},
   "outputs": [
    {
     "data": {
      "text/html": [
       "<div>\n",
       "<style scoped>\n",
       "    .dataframe tbody tr th:only-of-type {\n",
       "        vertical-align: middle;\n",
       "    }\n",
       "\n",
       "    .dataframe tbody tr th {\n",
       "        vertical-align: top;\n",
       "    }\n",
       "\n",
       "    .dataframe thead th {\n",
       "        text-align: right;\n",
       "    }\n",
       "</style>\n",
       "<table border=\"1\" class=\"dataframe\">\n",
       "  <thead>\n",
       "    <tr style=\"text-align: right;\">\n",
       "      <th></th>\n",
       "      <th>text</th>\n",
       "      <th>DOC_ID</th>\n",
       "      <th>filename</th>\n",
       "    </tr>\n",
       "  </thead>\n",
       "  <tbody>\n",
       "    <tr>\n",
       "      <th>0</th>\n",
       "      <td>Just happened a terrible car crash</td>\n",
       "      <td>0</td>\n",
       "      <td>0</td>\n",
       "    </tr>\n",
       "    <tr>\n",
       "      <th>1</th>\n",
       "      <td>Heard about #earthquake is different cities, s...</td>\n",
       "      <td>1</td>\n",
       "      <td>1</td>\n",
       "    </tr>\n",
       "    <tr>\n",
       "      <th>2</th>\n",
       "      <td>there is a forest fire at spot pond, geese are...</td>\n",
       "      <td>2</td>\n",
       "      <td>2</td>\n",
       "    </tr>\n",
       "    <tr>\n",
       "      <th>3</th>\n",
       "      <td>Apocalypse lighting. #Spokane #wildfires</td>\n",
       "      <td>3</td>\n",
       "      <td>3</td>\n",
       "    </tr>\n",
       "    <tr>\n",
       "      <th>4</th>\n",
       "      <td>Typhoon Soudelor kills 28 in China and Taiwan</td>\n",
       "      <td>4</td>\n",
       "      <td>4</td>\n",
       "    </tr>\n",
       "  </tbody>\n",
       "</table>\n",
       "</div>"
      ],
      "text/plain": [
       "                                                text  DOC_ID  filename\n",
       "0                 Just happened a terrible car crash       0         0\n",
       "1  Heard about #earthquake is different cities, s...       1         1\n",
       "2  there is a forest fire at spot pond, geese are...       2         2\n",
       "3           Apocalypse lighting. #Spokane #wildfires       3         3\n",
       "4      Typhoon Soudelor kills 28 in China and Taiwan       4         4"
      ]
     },
     "execution_count": 104,
     "metadata": {},
     "output_type": "execute_result"
    }
   ],
   "source": [
    "#data_test.set_index('DOC_ID', inplace=True)\n",
    "data_test.head()"
   ]
  },
  {
   "cell_type": "code",
   "execution_count": 105,
   "id": "2764d017",
   "metadata": {},
   "outputs": [
    {
     "data": {
      "text/plain": [
       "\"All residents asked to 'shelter in place' are being notified by officers. No other evacuation or shelter in place orders are expected\""
      ]
     },
     "execution_count": 105,
     "metadata": {},
     "output_type": "execute_result"
    }
   ],
   "source": [
    "data_train.at[2, 'text']"
   ]
  },
  {
   "cell_type": "code",
   "execution_count": 106,
   "id": "3d8606bc",
   "metadata": {},
   "outputs": [
    {
     "data": {
      "text/plain": [
       "'Our Deeds are the Reason of this #earthquake May ALLAH Forgive us all'"
      ]
     },
     "execution_count": 106,
     "metadata": {},
     "output_type": "execute_result"
    }
   ],
   "source": [
    "data_train.at[0, 'text']"
   ]
  },
  {
   "cell_type": "code",
   "execution_count": 107,
   "id": "e1902260",
   "metadata": {},
   "outputs": [
    {
     "data": {
      "text/plain": [
       "1"
      ]
     },
     "execution_count": 107,
     "metadata": {},
     "output_type": "execute_result"
    }
   ],
   "source": [
    "data_train.at[2, 'target']"
   ]
  },
  {
   "cell_type": "code",
   "execution_count": 108,
   "id": "95e31f08",
   "metadata": {},
   "outputs": [
    {
     "data": {
      "text/plain": [
       "2"
      ]
     },
     "execution_count": 108,
     "metadata": {},
     "output_type": "execute_result"
    }
   ],
   "source": [
    "data_train.at[2, 'filename']"
   ]
  },
  {
   "cell_type": "code",
   "execution_count": 109,
   "id": "4a3d48c5",
   "metadata": {},
   "outputs": [
    {
     "data": {
      "text/plain": [
       "'Just happened a terrible car crash'"
      ]
     },
     "execution_count": 109,
     "metadata": {},
     "output_type": "execute_result"
    }
   ],
   "source": [
    "data_test.at[0, 'text']"
   ]
  },
  {
   "cell_type": "markdown",
   "id": "765dfa53",
   "metadata": {},
   "source": [
    "## Save file using Pandas"
   ]
  },
  {
   "cell_type": "code",
   "execution_count": 110,
   "id": "0b0d5ba3",
   "metadata": {},
   "outputs": [],
   "source": [
    "data_train.to_json(DATA_TRAIN_JSON_FILE)"
   ]
  },
  {
   "cell_type": "code",
   "execution_count": 111,
   "id": "e11a490d",
   "metadata": {},
   "outputs": [],
   "source": [
    "data_test.to_json(DATA_TEST_JSON_FILE)"
   ]
  },
  {
   "cell_type": "markdown",
   "id": "b00869b0",
   "metadata": {},
   "source": [
    "## Number of Danger Tweets Visualised (Pie Charts)"
   ]
  },
  {
   "cell_type": "code",
   "execution_count": 112,
   "id": "02525321",
   "metadata": {},
   "outputs": [
    {
     "data": {
      "text/plain": [
       "0    4342\n",
       "1    3271\n",
       "Name: target, dtype: int64"
      ]
     },
     "execution_count": 112,
     "metadata": {},
     "output_type": "execute_result"
    }
   ],
   "source": [
    "data_train.target.value_counts()"
   ]
  },
  {
   "cell_type": "code",
   "execution_count": 113,
   "id": "2e46b900",
   "metadata": {},
   "outputs": [],
   "source": [
    "nr_danger_tweet = data_train['target'].value_counts()[1]\n",
    "nr_nondanger_tweet = data_train['target'].value_counts()[0]"
   ]
  },
  {
   "cell_type": "code",
   "execution_count": 114,
   "id": "79a39c28",
   "metadata": {},
   "outputs": [
    {
     "data": {
      "text/plain": [
       "(3271, 4342)"
      ]
     },
     "execution_count": 114,
     "metadata": {},
     "output_type": "execute_result"
    }
   ],
   "source": [
    "nr_danger_tweet, nr_nondanger_tweet"
   ]
  },
  {
   "cell_type": "code",
   "execution_count": 115,
   "id": "a32c5ab5",
   "metadata": {},
   "outputs": [
    {
     "data": {
      "image/png": "[encoded data removed]",
      "text/plain": [
       "<Figure size 454x454 with 1 Axes>"
      ]
     },
     "metadata": {},
     "output_type": "display_data"
    }
   ],
   "source": [
    "category_names = ['Disaster Tweets', 'Non-Disastrous Tweets']\n",
    "sizes = [nr_danger_tweet, nr_nondanger_tweet]\n",
    "custom_colours = ['#ee6c4d', '#06d6a0']\n",
    "\n",
    "\n",
    "plt.figure(figsize=(2, 2), dpi=227)\n",
    "plt.pie(sizes, labels=category_names, textprops={'fontsize': 6}, startangle=90, \n",
    "       autopct='%1.0f%%', colors=custom_colours, explode=[0, 0.1])\n",
    "plt.show()"
   ]
  },
  {
   "cell_type": "markdown",
   "id": "e6f18017",
   "metadata": {},
   "source": [
    "# Natural Language Processing\n",
    "## Text Pre-Processing\n",
    "### Download the NLTK Resources (Tokenizer & Stopwords)"
   ]
  },
  {
   "cell_type": "code",
   "execution_count": 116,
   "id": "ec3c272c",
   "metadata": {},
   "outputs": [
    {
     "name": "stderr",
     "output_type": "stream",
     "text": [
      "[nltk_data] Downloading package punkt to\n",
      "[nltk_data]     C:\\Users\\User\\AppData\\Roaming\\nltk_data...\n",
      "[nltk_data]   Package punkt is already up-to-date!\n",
      "[nltk_data] Downloading package stopwords to\n",
      "[nltk_data]     C:\\Users\\User\\AppData\\Roaming\\nltk_data...\n",
      "[nltk_data]   Package stopwords is already up-to-date!\n"
     ]
    },
    {
     "data": {
      "text/plain": [
       "True"
      ]
     },
     "execution_count": 116,
     "metadata": {},
     "output_type": "execute_result"
    }
   ],
   "source": [
    "nltk.download('punkt')\n",
    "nltk.download('stopwords')"
   ]
  },
  {
   "cell_type": "markdown",
   "id": "add59c51",
   "metadata": {},
   "source": [
    "#### Revision on How Tokenization works"
   ]
  },
  {
   "cell_type": "code",
   "execution_count": 117,
   "id": "fc58b872",
   "metadata": {},
   "outputs": [
    {
     "data": {
      "text/plain": [
       "['all', 'work', 'and', 'no', 'play', 'makes', 'jack', 'a', 'dull', 'boy', '.']"
      ]
     },
     "execution_count": 117,
     "metadata": {},
     "output_type": "execute_result"
    }
   ],
   "source": [
    "msg = 'All work and no play makes Jack a dull boy.'\n",
    "word_tokenize(msg.lower())"
   ]
  },
  {
   "cell_type": "markdown",
   "id": "ae8bf0fd",
   "metadata": {},
   "source": [
    "## Removing Stopwords"
   ]
  },
  {
   "cell_type": "code",
   "execution_count": 118,
   "id": "b730645f",
   "metadata": {},
   "outputs": [],
   "source": [
    "stop_words = set(stopwords.words('english'))"
   ]
  },
  {
   "cell_type": "code",
   "execution_count": 119,
   "id": "fc1580c8",
   "metadata": {},
   "outputs": [
    {
     "name": "stdout",
     "output_type": "stream",
     "text": [
      "Found it!\n"
     ]
    }
   ],
   "source": [
    "if 'this' in stop_words: print('Found it!')"
   ]
  },
  {
   "cell_type": "code",
   "execution_count": 120,
   "id": "9b30e4e8",
   "metadata": {},
   "outputs": [
    {
     "name": "stdout",
     "output_type": "stream",
     "text": [
      "Nope. Not in here\n"
     ]
    }
   ],
   "source": [
    "if 'hello' not in stop_words: \n",
    "    print('Nope. Not in here')"
   ]
  },
  {
   "cell_type": "code",
   "execution_count": 121,
   "id": "801aaf95",
   "metadata": {},
   "outputs": [
    {
     "name": "stdout",
     "output_type": "stream",
     "text": [
      "['work', 'play', 'makes', 'jack', 'dull', 'boy', '.', '.']\n"
     ]
    }
   ],
   "source": [
    "msg = 'All work and no play makes Jack a dull boy. To be or not to be.'\n",
    "words = word_tokenize(msg.lower())\n",
    "\n",
    "filtered_words = []\n",
    "\n",
    "for word in words:\n",
    "    if word not in stop_words:\n",
    "        filtered_words.append(word)\n",
    "        \n",
    "print(filtered_words)"
   ]
  },
  {
   "cell_type": "code",
   "execution_count": 122,
   "id": "2d210d3c",
   "metadata": {},
   "outputs": [
    {
     "name": "stdout",
     "output_type": "stream",
     "text": [
      "All residents asked to 'shelter in place' are being notified by officers. No other evacuation or shelter in place orders are expected\n",
      "\n"
     ]
    }
   ],
   "source": [
    "soup = BeautifulSoup(data_train.at[2, 'text'], 'html.parser')\n",
    "print(soup.prettify())"
   ]
  },
  {
   "cell_type": "code",
   "execution_count": 123,
   "id": "38c29d73",
   "metadata": {},
   "outputs": [
    {
     "name": "stdout",
     "output_type": "stream",
     "text": [
      "there is a forest fire at spot pond, geese are fleeing across the street, I cannot save them all\n",
      "\n"
     ]
    }
   ],
   "source": [
    "soup_test = BeautifulSoup(data_test.at[2, 'text'], 'html.parser')\n",
    "print(soup_test.prettify())"
   ]
  },
  {
   "cell_type": "code",
   "execution_count": 124,
   "id": "28b433ec",
   "metadata": {},
   "outputs": [
    {
     "data": {
      "text/plain": [
       "\"All residents asked to 'shelter in place' are being notified by officers. No other evacuation or shelter in place orders are expected\""
      ]
     },
     "execution_count": 124,
     "metadata": {},
     "output_type": "execute_result"
    }
   ],
   "source": [
    "soup.get_text()"
   ]
  },
  {
   "cell_type": "code",
   "execution_count": 125,
   "id": "ac400569",
   "metadata": {},
   "outputs": [
    {
     "data": {
      "text/plain": [
       "'there is a forest fire at spot pond, geese are fleeing across the street, I cannot save them all'"
      ]
     },
     "execution_count": 125,
     "metadata": {},
     "output_type": "execute_result"
    }
   ],
   "source": [
    "soup_test.get_text()"
   ]
  },
  {
   "cell_type": "code",
   "execution_count": 126,
   "id": "cf153f65",
   "metadata": {},
   "outputs": [],
   "source": [
    "# # Challenge: Modify function to remove HTML tags. Then test on Email with DOC_ID 2. \n",
    "# def clean_msg_no_html(message, stemmer=PorterStemmer(), \n",
    "#                  stop_words=set(stopwords.words('english'))):\n",
    "    \n",
    "#     # Remove HTML tags\n",
    "#     soup = BeautifulSoup(message, 'html.parser')\n",
    "#     cleaned_text = soup.get_text()\n",
    "    \n",
    "#     # Converts to Lower Case and splits up the words\n",
    "#     words = word_tokenize(cleaned_text.lower())\n",
    "    \n",
    "#     filtered_words = []\n",
    "    \n",
    "#     for word in words:\n",
    "#         # Removes the stop words and punctuation\n",
    "#         if word not in stop_words and word.isalpha():\n",
    "#             filtered_words.append(stemmer.stem(word))\n",
    "# #             filtered_words.append(word) \n",
    "    \n",
    "#     return filtered_words"
   ]
  },
  {
   "cell_type": "code",
   "execution_count": 127,
   "id": "08900403",
   "metadata": {},
   "outputs": [],
   "source": [
    "def clean_message(message, stemmer=PorterStemmer(), \n",
    "                 stop_words=set(stopwords.words('english'))):\n",
    "    \n",
    "    # Converts to Lower case and splits up the words\n",
    "    words = word_tokenize(message.lower())\n",
    "    \n",
    "    filtered_words = []\n",
    "    \n",
    "    for word in words:\n",
    "        # Removes the stop words and punctuation\n",
    "        if word not in stop_words and word.isalpha():\n",
    "            filtered_words.append(stemmer.stem(word))\n",
    "    \n",
    "    return filtered_words"
   ]
  },
  {
   "cell_type": "code",
   "execution_count": 128,
   "id": "6502670f",
   "metadata": {},
   "outputs": [
    {
     "data": {
      "text/plain": [
       "\"All residents asked to 'shelter in place' are being notified by officers. No other evacuation or shelter in place orders are expected\""
      ]
     },
     "execution_count": 128,
     "metadata": {},
     "output_type": "execute_result"
    }
   ],
   "source": [
    "data_train.at[2, 'text']"
   ]
  },
  {
   "cell_type": "code",
   "execution_count": 129,
   "id": "6a8ab440",
   "metadata": {},
   "outputs": [
    {
     "data": {
      "text/plain": [
       "['resid',\n",
       " 'ask',\n",
       " 'place',\n",
       " 'notifi',\n",
       " 'offic',\n",
       " 'evacu',\n",
       " 'shelter',\n",
       " 'place',\n",
       " 'order',\n",
       " 'expect']"
      ]
     },
     "execution_count": 129,
     "metadata": {},
     "output_type": "execute_result"
    }
   ],
   "source": [
    "clean_message(data_train.at[2, 'text'])"
   ]
  },
  {
   "cell_type": "code",
   "execution_count": 130,
   "id": "e94e9506",
   "metadata": {},
   "outputs": [
    {
     "data": {
      "text/plain": [
       "['forest', 'fire', 'spot', 'pond', 'gees', 'flee', 'across', 'street', 'save']"
      ]
     },
     "execution_count": 130,
     "metadata": {},
     "output_type": "execute_result"
    }
   ],
   "source": [
    "clean_message(data_test.at[2, 'text'])"
   ]
  },
  {
   "cell_type": "code",
   "execution_count": 131,
   "id": "49972298",
   "metadata": {},
   "outputs": [
    {
     "data": {
      "text/plain": [
       "['forest', 'fire', 'spot', 'pond', 'gees', 'flee', 'across', 'street', 'save']"
      ]
     },
     "execution_count": 131,
     "metadata": {},
     "output_type": "execute_result"
    }
   ],
   "source": [
    "clean_message(data_test.at[2, 'text'])"
   ]
  },
  {
   "cell_type": "code",
   "execution_count": 132,
   "id": "bb933606",
   "metadata": {},
   "outputs": [
    {
     "data": {
      "text/plain": [
       "'13,000 people receive #wildfires evacuation orders in California '"
      ]
     },
     "execution_count": 132,
     "metadata": {},
     "output_type": "execute_result"
    }
   ],
   "source": [
    "data_train.iat[3, 0]"
   ]
  },
  {
   "cell_type": "code",
   "execution_count": 133,
   "id": "7e7eee60",
   "metadata": {},
   "outputs": [
    {
     "data": {
      "text/plain": [
       "'Apocalypse lighting. #Spokane #wildfires'"
      ]
     },
     "execution_count": 133,
     "metadata": {},
     "output_type": "execute_result"
    }
   ],
   "source": [
    "data_test.iat[3, 0]"
   ]
  },
  {
   "cell_type": "code",
   "execution_count": 134,
   "id": "cea58f12",
   "metadata": {},
   "outputs": [
    {
     "data": {
      "text/html": [
       "<div>\n",
       "<style scoped>\n",
       "    .dataframe tbody tr th:only-of-type {\n",
       "        vertical-align: middle;\n",
       "    }\n",
       "\n",
       "    .dataframe tbody tr th {\n",
       "        vertical-align: top;\n",
       "    }\n",
       "\n",
       "    .dataframe thead th {\n",
       "        text-align: right;\n",
       "    }\n",
       "</style>\n",
       "<table border=\"1\" class=\"dataframe\">\n",
       "  <thead>\n",
       "    <tr style=\"text-align: right;\">\n",
       "      <th></th>\n",
       "      <th>text</th>\n",
       "      <th>target</th>\n",
       "      <th>filename</th>\n",
       "    </tr>\n",
       "    <tr>\n",
       "      <th>DOC_ID</th>\n",
       "      <th></th>\n",
       "      <th></th>\n",
       "      <th></th>\n",
       "    </tr>\n",
       "  </thead>\n",
       "  <tbody>\n",
       "    <tr>\n",
       "      <th>0</th>\n",
       "      <td>Our Deeds are the Reason of this #earthquake M...</td>\n",
       "      <td>1</td>\n",
       "      <td>0</td>\n",
       "    </tr>\n",
       "    <tr>\n",
       "      <th>1</th>\n",
       "      <td>Forest fire near La Ronge Sask. Canada</td>\n",
       "      <td>1</td>\n",
       "      <td>1</td>\n",
       "    </tr>\n",
       "    <tr>\n",
       "      <th>2</th>\n",
       "      <td>All residents asked to 'shelter in place' are ...</td>\n",
       "      <td>1</td>\n",
       "      <td>2</td>\n",
       "    </tr>\n",
       "    <tr>\n",
       "      <th>3</th>\n",
       "      <td>13,000 people receive #wildfires evacuation or...</td>\n",
       "      <td>1</td>\n",
       "      <td>3</td>\n",
       "    </tr>\n",
       "    <tr>\n",
       "      <th>4</th>\n",
       "      <td>Just got sent this photo from Ruby #Alaska as ...</td>\n",
       "      <td>1</td>\n",
       "      <td>4</td>\n",
       "    </tr>\n",
       "  </tbody>\n",
       "</table>\n",
       "</div>"
      ],
      "text/plain": [
       "                                                     text  target  filename\n",
       "DOC_ID                                                                     \n",
       "0       Our Deeds are the Reason of this #earthquake M...       1         0\n",
       "1                  Forest fire near La Ronge Sask. Canada       1         1\n",
       "2       All residents asked to 'shelter in place' are ...       1         2\n",
       "3       13,000 people receive #wildfires evacuation or...       1         3\n",
       "4       Just got sent this photo from Ruby #Alaska as ...       1         4"
      ]
     },
     "execution_count": 134,
     "metadata": {},
     "output_type": "execute_result"
    }
   ],
   "source": [
    "data_train.head()"
   ]
  },
  {
   "cell_type": "code",
   "execution_count": 135,
   "id": "c7c7fc6a",
   "metadata": {},
   "outputs": [
    {
     "data": {
      "text/html": [
       "<div>\n",
       "<style scoped>\n",
       "    .dataframe tbody tr th:only-of-type {\n",
       "        vertical-align: middle;\n",
       "    }\n",
       "\n",
       "    .dataframe tbody tr th {\n",
       "        vertical-align: top;\n",
       "    }\n",
       "\n",
       "    .dataframe thead th {\n",
       "        text-align: right;\n",
       "    }\n",
       "</style>\n",
       "<table border=\"1\" class=\"dataframe\">\n",
       "  <thead>\n",
       "    <tr style=\"text-align: right;\">\n",
       "      <th></th>\n",
       "      <th>text</th>\n",
       "      <th>DOC_ID</th>\n",
       "      <th>filename</th>\n",
       "    </tr>\n",
       "  </thead>\n",
       "  <tbody>\n",
       "    <tr>\n",
       "      <th>0</th>\n",
       "      <td>Just happened a terrible car crash</td>\n",
       "      <td>0</td>\n",
       "      <td>0</td>\n",
       "    </tr>\n",
       "    <tr>\n",
       "      <th>1</th>\n",
       "      <td>Heard about #earthquake is different cities, s...</td>\n",
       "      <td>1</td>\n",
       "      <td>1</td>\n",
       "    </tr>\n",
       "    <tr>\n",
       "      <th>2</th>\n",
       "      <td>there is a forest fire at spot pond, geese are...</td>\n",
       "      <td>2</td>\n",
       "      <td>2</td>\n",
       "    </tr>\n",
       "    <tr>\n",
       "      <th>3</th>\n",
       "      <td>Apocalypse lighting. #Spokane #wildfires</td>\n",
       "      <td>3</td>\n",
       "      <td>3</td>\n",
       "    </tr>\n",
       "    <tr>\n",
       "      <th>4</th>\n",
       "      <td>Typhoon Soudelor kills 28 in China and Taiwan</td>\n",
       "      <td>4</td>\n",
       "      <td>4</td>\n",
       "    </tr>\n",
       "  </tbody>\n",
       "</table>\n",
       "</div>"
      ],
      "text/plain": [
       "                                                text  DOC_ID  filename\n",
       "0                 Just happened a terrible car crash       0         0\n",
       "1  Heard about #earthquake is different cities, s...       1         1\n",
       "2  there is a forest fire at spot pond, geese are...       2         2\n",
       "3           Apocalypse lighting. #Spokane #wildfires       3         3\n",
       "4      Typhoon Soudelor kills 28 in China and Taiwan       4         4"
      ]
     },
     "execution_count": 135,
     "metadata": {},
     "output_type": "execute_result"
    }
   ],
   "source": [
    "data_test.head()"
   ]
  },
  {
   "cell_type": "code",
   "execution_count": 136,
   "id": "2a03c9cb",
   "metadata": {},
   "outputs": [
    {
     "data": {
      "text/plain": [
       "DOC_ID\n",
       "0    Our Deeds are the Reason of this #earthquake M...\n",
       "1               Forest fire near La Ronge Sask. Canada\n",
       "2    All residents asked to 'shelter in place' are ...\n",
       "3    13,000 people receive #wildfires evacuation or...\n",
       "4    Just got sent this photo from Ruby #Alaska as ...\n",
       "Name: text, dtype: object"
      ]
     },
     "execution_count": 136,
     "metadata": {},
     "output_type": "execute_result"
    }
   ],
   "source": [
    "data_train.text.iloc[0:5]"
   ]
  },
  {
   "cell_type": "code",
   "execution_count": 137,
   "id": "8f87e5b1",
   "metadata": {},
   "outputs": [
    {
     "data": {
      "text/plain": [
       "0                   Just happened a terrible car crash\n",
       "1    Heard about #earthquake is different cities, s...\n",
       "2    there is a forest fire at spot pond, geese are...\n",
       "3             Apocalypse lighting. #Spokane #wildfires\n",
       "4        Typhoon Soudelor kills 28 in China and Taiwan\n",
       "Name: text, dtype: object"
      ]
     },
     "execution_count": 137,
     "metadata": {},
     "output_type": "execute_result"
    }
   ],
   "source": [
    "data_test.text.iloc[0:5]"
   ]
  },
  {
   "cell_type": "code",
   "execution_count": 138,
   "id": "8a8b2aba",
   "metadata": {},
   "outputs": [],
   "source": [
    "first_tweets = data_train.text.iloc[0:5]"
   ]
  },
  {
   "cell_type": "code",
   "execution_count": 139,
   "id": "0f9d07dc",
   "metadata": {},
   "outputs": [],
   "source": [
    "first_tweets_test = data_test.text.iloc[0:5]"
   ]
  },
  {
   "cell_type": "code",
   "execution_count": 141,
   "id": "f8549680",
   "metadata": {},
   "outputs": [
    {
     "data": {
      "text/plain": [
       "DOC_ID\n",
       "0    [deed, reason, earthquak, may, allah, forgiv, us]\n",
       "1         [forest, fire, near, la, rong, sask, canada]\n",
       "2    [resid, ask, place, notifi, offic, evacu, shel...\n",
       "3    [peopl, receiv, wildfir, evacu, order, califor...\n",
       "4    [got, sent, photo, rubi, alaska, smoke, wildfi...\n",
       "Name: text, dtype: object"
      ]
     },
     "execution_count": 141,
     "metadata": {},
     "output_type": "execute_result"
    }
   ],
   "source": [
    "nested_list_tweets = first_tweets.apply(clean_message)\n",
    "nested_list_tweets"
   ]
  },
  {
   "cell_type": "code",
   "execution_count": 142,
   "id": "e622be00",
   "metadata": {},
   "outputs": [
    {
     "data": {
      "text/plain": [
       "0                        [happen, terribl, car, crash]\n",
       "1    [heard, earthquak, differ, citi, stay, safe, e...\n",
       "2    [forest, fire, spot, pond, gees, flee, across,...\n",
       "3                  [apocalyps, light, spokan, wildfir]\n",
       "4             [typhoon, soudelor, kill, china, taiwan]\n",
       "Name: text, dtype: object"
      ]
     },
     "execution_count": 142,
     "metadata": {},
     "output_type": "execute_result"
    }
   ],
   "source": [
    "nested_list_tweets_test = first_tweets_test.apply(clean_message)\n",
    "nested_list_tweets_test"
   ]
  },
  {
   "cell_type": "code",
   "execution_count": 143,
   "id": "3ac2060a",
   "metadata": {
    "collapsed": true
   },
   "outputs": [
    {
     "data": {
      "text/plain": [
       "['deed',\n",
       " 'reason',\n",
       " 'earthquak',\n",
       " 'may',\n",
       " 'allah',\n",
       " 'forgiv',\n",
       " 'us',\n",
       " 'forest',\n",
       " 'fire',\n",
       " 'near',\n",
       " 'la',\n",
       " 'rong',\n",
       " 'sask',\n",
       " 'canada',\n",
       " 'resid',\n",
       " 'ask',\n",
       " 'place',\n",
       " 'notifi',\n",
       " 'offic',\n",
       " 'evacu',\n",
       " 'shelter',\n",
       " 'place',\n",
       " 'order',\n",
       " 'expect',\n",
       " 'peopl',\n",
       " 'receiv',\n",
       " 'wildfir',\n",
       " 'evacu',\n",
       " 'order',\n",
       " 'california',\n",
       " 'got',\n",
       " 'sent',\n",
       " 'photo',\n",
       " 'rubi',\n",
       " 'alaska',\n",
       " 'smoke',\n",
       " 'wildfir',\n",
       " 'pour',\n",
       " 'school']"
      ]
     },
     "execution_count": 143,
     "metadata": {},
     "output_type": "execute_result"
    }
   ],
   "source": [
    "flat_list = []\n",
    "for sublist in nested_list_tweets:\n",
    "    for item in sublist:\n",
    "        flat_list.append(item)\n",
    "flat_list"
   ]
  },
  {
   "cell_type": "code",
   "execution_count": 144,
   "id": "9d620f3d",
   "metadata": {
    "collapsed": true
   },
   "outputs": [
    {
     "data": {
      "text/plain": [
       "['happen',\n",
       " 'terribl',\n",
       " 'car',\n",
       " 'crash',\n",
       " 'heard',\n",
       " 'earthquak',\n",
       " 'differ',\n",
       " 'citi',\n",
       " 'stay',\n",
       " 'safe',\n",
       " 'everyon',\n",
       " 'forest',\n",
       " 'fire',\n",
       " 'spot',\n",
       " 'pond',\n",
       " 'gees',\n",
       " 'flee',\n",
       " 'across',\n",
       " 'street',\n",
       " 'save',\n",
       " 'apocalyps',\n",
       " 'light',\n",
       " 'spokan',\n",
       " 'wildfir',\n",
       " 'typhoon',\n",
       " 'soudelor',\n",
       " 'kill',\n",
       " 'china',\n",
       " 'taiwan']"
      ]
     },
     "execution_count": 144,
     "metadata": {},
     "output_type": "execute_result"
    }
   ],
   "source": [
    "flat_list_test = []\n",
    "for sublist in nested_list_tweets_test:\n",
    "    for item in sublist:\n",
    "        flat_list_test.append(item)\n",
    "flat_list_test"
   ]
  },
  {
   "cell_type": "code",
   "execution_count": 145,
   "id": "c32528a3",
   "metadata": {
    "collapsed": true
   },
   "outputs": [
    {
     "data": {
      "text/plain": [
       "['deed',\n",
       " 'reason',\n",
       " 'earthquak',\n",
       " 'may',\n",
       " 'allah',\n",
       " 'forgiv',\n",
       " 'us',\n",
       " 'forest',\n",
       " 'fire',\n",
       " 'near',\n",
       " 'la',\n",
       " 'rong',\n",
       " 'sask',\n",
       " 'canada',\n",
       " 'resid',\n",
       " 'ask',\n",
       " 'place',\n",
       " 'notifi',\n",
       " 'offic',\n",
       " 'evacu',\n",
       " 'shelter',\n",
       " 'place',\n",
       " 'order',\n",
       " 'expect',\n",
       " 'peopl',\n",
       " 'receiv',\n",
       " 'wildfir',\n",
       " 'evacu',\n",
       " 'order',\n",
       " 'california',\n",
       " 'got',\n",
       " 'sent',\n",
       " 'photo',\n",
       " 'rubi',\n",
       " 'alaska',\n",
       " 'smoke',\n",
       " 'wildfir',\n",
       " 'pour',\n",
       " 'school']"
      ]
     },
     "execution_count": 145,
     "metadata": {},
     "output_type": "execute_result"
    }
   ],
   "source": [
    "flat_list_2 = [item for sublist in nested_list_tweets for item in sublist]\n",
    "flat_list_2"
   ]
  },
  {
   "cell_type": "code",
   "execution_count": 146,
   "id": "d3419010",
   "metadata": {},
   "outputs": [
    {
     "data": {
      "text/plain": [
       "39"
      ]
     },
     "execution_count": 146,
     "metadata": {},
     "output_type": "execute_result"
    }
   ],
   "source": [
    "len(flat_list_2)"
   ]
  },
  {
   "cell_type": "markdown",
   "id": "54e396ec",
   "metadata": {},
   "source": [
    "## Applying Cleaning and Tokenization to all tweets"
   ]
  },
  {
   "cell_type": "code",
   "execution_count": 147,
   "id": "5529c033",
   "metadata": {},
   "outputs": [],
   "source": [
    "# nested_list_tweets_real = data_train.text.apply(clean_msg_no_html)\n",
    "# nested_list_tweets_real.head()"
   ]
  },
  {
   "cell_type": "code",
   "execution_count": 148,
   "id": "f14b69eb",
   "metadata": {},
   "outputs": [
    {
     "data": {
      "text/plain": [
       "DOC_ID\n",
       "0    [deed, reason, earthquak, may, allah, forgiv, us]\n",
       "1         [forest, fire, near, la, rong, sask, canada]\n",
       "2    [resid, ask, place, notifi, offic, evacu, shel...\n",
       "3    [peopl, receiv, wildfir, evacu, order, califor...\n",
       "4    [got, sent, photo, rubi, alaska, smoke, wildfi...\n",
       "Name: text, dtype: object"
      ]
     },
     "execution_count": 148,
     "metadata": {},
     "output_type": "execute_result"
    }
   ],
   "source": [
    "nested_list_tweets_real = data_train.text.apply(clean_message)\n",
    "nested_list_tweets_real.head()"
   ]
  },
  {
   "cell_type": "code",
   "execution_count": 149,
   "id": "5973fc7a",
   "metadata": {},
   "outputs": [],
   "source": [
    "# nested_list_tweets_real_test = data_test.text.apply(clean_msg_no_html)\n",
    "# nested_list_tweets_real_test.head()"
   ]
  },
  {
   "cell_type": "code",
   "execution_count": 150,
   "id": "2e11c86d",
   "metadata": {},
   "outputs": [
    {
     "data": {
      "text/plain": [
       "0                        [happen, terribl, car, crash]\n",
       "1    [heard, earthquak, differ, citi, stay, safe, e...\n",
       "2    [forest, fire, spot, pond, gees, flee, across,...\n",
       "3                  [apocalyps, light, spokan, wildfir]\n",
       "4             [typhoon, soudelor, kill, china, taiwan]\n",
       "Name: text, dtype: object"
      ]
     },
     "execution_count": 150,
     "metadata": {},
     "output_type": "execute_result"
    }
   ],
   "source": [
    "nested_list_tweets_real_test = data_test.text.apply(clean_message)\n",
    "nested_list_tweets_real_test.head()"
   ]
  },
  {
   "cell_type": "code",
   "execution_count": 151,
   "id": "1b720733",
   "metadata": {},
   "outputs": [
    {
     "data": {
      "text/plain": [
       "DOC_ID\n",
       "7608    [two, giant, crane, hold, bridg, collaps, near...\n",
       "7609    [thetawniest, control, wild, fire, california,...\n",
       "7610                         [utc, volcano, hawaii, http]\n",
       "7611    [polic, investig, collid, car, littl, portug, ...\n",
       "7612    [latest, home, raze, northern, california, wil...\n",
       "Name: text, dtype: object"
      ]
     },
     "execution_count": 151,
     "metadata": {},
     "output_type": "execute_result"
    }
   ],
   "source": [
    "nested_list_tweets_real.tail()"
   ]
  },
  {
   "cell_type": "code",
   "execution_count": 152,
   "id": "bfe3a5f6",
   "metadata": {},
   "outputs": [
    {
     "data": {
      "text/plain": [
       "3258    [earthquak, safeti, lo, angel, safeti, fasten,...\n",
       "3259    [storm, ri, wors, last, hurrican, citi, amp, h...\n",
       "3260                 [green, line, derail, chicago, http]\n",
       "3261     [meg, issu, hazard, weather, outlook, hwo, http]\n",
       "3262    [cityofcalgari, activ, municip, emerg, plan, y...\n",
       "Name: text, dtype: object"
      ]
     },
     "execution_count": 152,
     "metadata": {},
     "output_type": "execute_result"
    }
   ],
   "source": [
    "nested_list_tweets_real_test.tail()"
   ]
  },
  {
   "cell_type": "markdown",
   "id": "53f92e94",
   "metadata": {},
   "source": [
    "## Using logic to slice dataframes"
   ]
  },
  {
   "cell_type": "code",
   "execution_count": 153,
   "id": "eb12426b",
   "metadata": {},
   "outputs": [
    {
     "data": {
      "text/plain": [
       "((3271, 3), (4342, 3))"
      ]
     },
     "execution_count": 153,
     "metadata": {},
     "output_type": "execute_result"
    }
   ],
   "source": [
    "data_train[data_train.target == 1].shape, data_train[data_train.target == 0].shape"
   ]
  },
  {
   "cell_type": "code",
   "execution_count": 154,
   "id": "aa350398",
   "metadata": {},
   "outputs": [
    {
     "data": {
      "text/plain": [
       "4342"
      ]
     },
     "execution_count": 154,
     "metadata": {},
     "output_type": "execute_result"
    }
   ],
   "source": [
    "(data_train.target == 0).sum()"
   ]
  },
  {
   "cell_type": "code",
   "execution_count": 155,
   "id": "0c395523",
   "metadata": {},
   "outputs": [
    {
     "data": {
      "text/html": [
       "<div>\n",
       "<style scoped>\n",
       "    .dataframe tbody tr th:only-of-type {\n",
       "        vertical-align: middle;\n",
       "    }\n",
       "\n",
       "    .dataframe tbody tr th {\n",
       "        vertical-align: top;\n",
       "    }\n",
       "\n",
       "    .dataframe thead th {\n",
       "        text-align: right;\n",
       "    }\n",
       "</style>\n",
       "<table border=\"1\" class=\"dataframe\">\n",
       "  <thead>\n",
       "    <tr style=\"text-align: right;\">\n",
       "      <th></th>\n",
       "      <th>text</th>\n",
       "      <th>target</th>\n",
       "      <th>filename</th>\n",
       "    </tr>\n",
       "    <tr>\n",
       "      <th>DOC_ID</th>\n",
       "      <th></th>\n",
       "      <th></th>\n",
       "      <th></th>\n",
       "    </tr>\n",
       "  </thead>\n",
       "  <tbody>\n",
       "    <tr>\n",
       "      <th>7581</th>\n",
       "      <td>@engineshed Great atmosphere at the British Li...</td>\n",
       "      <td>0</td>\n",
       "      <td>7581</td>\n",
       "    </tr>\n",
       "    <tr>\n",
       "      <th>7582</th>\n",
       "      <td>Cramer: Iger's 3 words that wrecked Disney's s...</td>\n",
       "      <td>0</td>\n",
       "      <td>7582</td>\n",
       "    </tr>\n",
       "    <tr>\n",
       "      <th>7584</th>\n",
       "      <td>These boxes are ready to explode! Exploding Ki...</td>\n",
       "      <td>0</td>\n",
       "      <td>7584</td>\n",
       "    </tr>\n",
       "    <tr>\n",
       "      <th>7587</th>\n",
       "      <td>Sirens everywhere!</td>\n",
       "      <td>0</td>\n",
       "      <td>7587</td>\n",
       "    </tr>\n",
       "    <tr>\n",
       "      <th>7593</th>\n",
       "      <td>I just heard a really loud bang and everyone i...</td>\n",
       "      <td>0</td>\n",
       "      <td>7593</td>\n",
       "    </tr>\n",
       "  </tbody>\n",
       "</table>\n",
       "</div>"
      ],
      "text/plain": [
       "                                                     text  target  filename\n",
       "DOC_ID                                                                     \n",
       "7581    @engineshed Great atmosphere at the British Li...       0      7581\n",
       "7582    Cramer: Iger's 3 words that wrecked Disney's s...       0      7582\n",
       "7584    These boxes are ready to explode! Exploding Ki...       0      7584\n",
       "7587                                   Sirens everywhere!       0      7587\n",
       "7593    I just heard a really loud bang and everyone i...       0      7593"
      ]
     },
     "execution_count": 155,
     "metadata": {},
     "output_type": "execute_result"
    }
   ],
   "source": [
    "data_train[data_train.target == 0].tail()"
   ]
  },
  {
   "cell_type": "code",
   "execution_count": 156,
   "id": "d0a5287b",
   "metadata": {},
   "outputs": [
    {
     "data": {
      "text/html": [
       "<div>\n",
       "<style scoped>\n",
       "    .dataframe tbody tr th:only-of-type {\n",
       "        vertical-align: middle;\n",
       "    }\n",
       "\n",
       "    .dataframe tbody tr th {\n",
       "        vertical-align: top;\n",
       "    }\n",
       "\n",
       "    .dataframe thead th {\n",
       "        text-align: right;\n",
       "    }\n",
       "</style>\n",
       "<table border=\"1\" class=\"dataframe\">\n",
       "  <thead>\n",
       "    <tr style=\"text-align: right;\">\n",
       "      <th></th>\n",
       "      <th>text</th>\n",
       "      <th>target</th>\n",
       "      <th>filename</th>\n",
       "    </tr>\n",
       "    <tr>\n",
       "      <th>DOC_ID</th>\n",
       "      <th></th>\n",
       "      <th></th>\n",
       "      <th></th>\n",
       "    </tr>\n",
       "  </thead>\n",
       "  <tbody>\n",
       "    <tr>\n",
       "      <th>7608</th>\n",
       "      <td>Two giant cranes holding a bridge collapse int...</td>\n",
       "      <td>1</td>\n",
       "      <td>7608</td>\n",
       "    </tr>\n",
       "    <tr>\n",
       "      <th>7609</th>\n",
       "      <td>@aria_ahrary @TheTawniest The out of control w...</td>\n",
       "      <td>1</td>\n",
       "      <td>7609</td>\n",
       "    </tr>\n",
       "    <tr>\n",
       "      <th>7610</th>\n",
       "      <td>M1.94 [01:04 UTC]?5km S of Volcano Hawaii. htt...</td>\n",
       "      <td>1</td>\n",
       "      <td>7610</td>\n",
       "    </tr>\n",
       "    <tr>\n",
       "      <th>7611</th>\n",
       "      <td>Police investigating after an e-bike collided ...</td>\n",
       "      <td>1</td>\n",
       "      <td>7611</td>\n",
       "    </tr>\n",
       "    <tr>\n",
       "      <th>7612</th>\n",
       "      <td>The Latest: More Homes Razed by Northern Calif...</td>\n",
       "      <td>1</td>\n",
       "      <td>7612</td>\n",
       "    </tr>\n",
       "  </tbody>\n",
       "</table>\n",
       "</div>"
      ],
      "text/plain": [
       "                                                     text  target  filename\n",
       "DOC_ID                                                                     \n",
       "7608    Two giant cranes holding a bridge collapse int...       1      7608\n",
       "7609    @aria_ahrary @TheTawniest The out of control w...       1      7609\n",
       "7610    M1.94 [01:04 UTC]?5km S of Volcano Hawaii. htt...       1      7610\n",
       "7611    Police investigating after an e-bike collided ...       1      7611\n",
       "7612    The Latest: More Homes Razed by Northern Calif...       1      7612"
      ]
     },
     "execution_count": 156,
     "metadata": {},
     "output_type": "execute_result"
    }
   ],
   "source": [
    "data_train[data_train.target == 1].tail()"
   ]
  },
  {
   "cell_type": "code",
   "execution_count": 157,
   "id": "fc66c33f",
   "metadata": {},
   "outputs": [
    {
     "data": {
      "text/plain": [
       "Int64Index([   0,    1,    2,    3,    4,    5,    6,    7,    8,    9,\n",
       "            ...\n",
       "            7603, 7604, 7605, 7606, 7607, 7608, 7609, 7610, 7611, 7612],\n",
       "           dtype='int64', name='DOC_ID', length=3271)"
      ]
     },
     "execution_count": 157,
     "metadata": {},
     "output_type": "execute_result"
    }
   ],
   "source": [
    "data_train[data_train.target == 1].index"
   ]
  },
  {
   "cell_type": "code",
   "execution_count": 158,
   "id": "a60cd289",
   "metadata": {},
   "outputs": [],
   "source": [
    "doc_ids_disaster = data_train[data_train.target == 1].index\n",
    "doc_ids_non_disaster = data_train[data_train.target == 0].index"
   ]
  },
  {
   "cell_type": "code",
   "execution_count": 159,
   "id": "36dedb87",
   "metadata": {},
   "outputs": [
    {
     "data": {
      "text/plain": [
       "Int64Index([   0,    1,    2,    3,    4,    5,    6,    7,    8,    9,\n",
       "            ...\n",
       "            7603, 7604, 7605, 7606, 7607, 7608, 7609, 7610, 7611, 7612],\n",
       "           dtype='int64', name='DOC_ID', length=3271)"
      ]
     },
     "execution_count": 159,
     "metadata": {},
     "output_type": "execute_result"
    }
   ],
   "source": [
    "doc_ids_disaster"
   ]
  },
  {
   "cell_type": "markdown",
   "id": "e70b0432",
   "metadata": {},
   "source": [
    "### Subsetting a Series with an Index"
   ]
  },
  {
   "cell_type": "code",
   "execution_count": 160,
   "id": "de4e9917",
   "metadata": {},
   "outputs": [
    {
     "data": {
      "text/plain": [
       "DOC_ID\n",
       "0       [deed, reason, earthquak, may, allah, forgiv, us]\n",
       "1            [forest, fire, near, la, rong, sask, canada]\n",
       "2       [resid, ask, place, notifi, offic, evacu, shel...\n",
       "3       [peopl, receiv, wildfir, evacu, order, califor...\n",
       "4       [got, sent, photo, rubi, alaska, smoke, wildfi...\n",
       "                              ...                        \n",
       "7608    [two, giant, crane, hold, bridg, collaps, near...\n",
       "7609    [thetawniest, control, wild, fire, california,...\n",
       "7610                         [utc, volcano, hawaii, http]\n",
       "7611    [polic, investig, collid, car, littl, portug, ...\n",
       "7612    [latest, home, raze, northern, california, wil...\n",
       "Name: text, Length: 7613, dtype: object"
      ]
     },
     "execution_count": 160,
     "metadata": {},
     "output_type": "execute_result"
    }
   ],
   "source": [
    "nested_list_tweets_real"
   ]
  },
  {
   "cell_type": "code",
   "execution_count": 161,
   "id": "df908e92",
   "metadata": {},
   "outputs": [
    {
     "data": {
      "text/plain": [
       "0                           [happen, terribl, car, crash]\n",
       "1       [heard, earthquak, differ, citi, stay, safe, e...\n",
       "2       [forest, fire, spot, pond, gees, flee, across,...\n",
       "3                     [apocalyps, light, spokan, wildfir]\n",
       "4                [typhoon, soudelor, kill, china, taiwan]\n",
       "                              ...                        \n",
       "3258    [earthquak, safeti, lo, angel, safeti, fasten,...\n",
       "3259    [storm, ri, wors, last, hurrican, citi, amp, h...\n",
       "3260                 [green, line, derail, chicago, http]\n",
       "3261     [meg, issu, hazard, weather, outlook, hwo, http]\n",
       "3262    [cityofcalgari, activ, municip, emerg, plan, y...\n",
       "Name: text, Length: 3263, dtype: object"
      ]
     },
     "execution_count": 161,
     "metadata": {},
     "output_type": "execute_result"
    }
   ],
   "source": [
    "nested_list_tweets_real_test"
   ]
  },
  {
   "cell_type": "code",
   "execution_count": 162,
   "id": "06000083",
   "metadata": {},
   "outputs": [
    {
     "data": {
      "text/plain": [
       "(pandas.core.indexes.numeric.Int64Index, pandas.core.series.Series)"
      ]
     },
     "execution_count": 162,
     "metadata": {},
     "output_type": "execute_result"
    }
   ],
   "source": [
    "type(doc_ids_non_disaster), type(nested_list_tweets_real)"
   ]
  },
  {
   "cell_type": "code",
   "execution_count": 163,
   "id": "608e0446",
   "metadata": {},
   "outputs": [
    {
     "data": {
      "text/plain": [
       "DOC_ID\n",
       "15                                                  [man]\n",
       "16                                          [love, fruit]\n",
       "17                                         [summer, love]\n",
       "18                                            [car, fast]\n",
       "19                                      [goooooooaaaaaal]\n",
       "                              ...                        \n",
       "7581    [enginesh, great, atmospher, british, lion, gi...\n",
       "7582    [cramer, iger, word, wreck, disney, stock, cnb...\n",
       "7584    [box, readi, explod, explod, kitten, final, ar...\n",
       "7587                                   [siren, everywher]\n",
       "7593    [heard, realli, loud, bang, everyon, asleep, g...\n",
       "Name: text, Length: 4342, dtype: object"
      ]
     },
     "execution_count": 163,
     "metadata": {},
     "output_type": "execute_result"
    }
   ],
   "source": [
    "nested_list_tweets_real[doc_ids_non_disaster]"
   ]
  },
  {
   "cell_type": "code",
   "execution_count": 164,
   "id": "5933a21e",
   "metadata": {},
   "outputs": [
    {
     "data": {
      "text/plain": [
       "DOC_ID\n",
       "0       [deed, reason, earthquak, may, allah, forgiv, us]\n",
       "1            [forest, fire, near, la, rong, sask, canada]\n",
       "2       [resid, ask, place, notifi, offic, evacu, shel...\n",
       "3       [peopl, receiv, wildfir, evacu, order, califor...\n",
       "4       [got, sent, photo, rubi, alaska, smoke, wildfi...\n",
       "                              ...                        \n",
       "7608    [two, giant, crane, hold, bridg, collaps, near...\n",
       "7609    [thetawniest, control, wild, fire, california,...\n",
       "7610                         [utc, volcano, hawaii, http]\n",
       "7611    [polic, investig, collid, car, littl, portug, ...\n",
       "7612    [latest, home, raze, northern, california, wil...\n",
       "Name: text, Length: 3271, dtype: object"
      ]
     },
     "execution_count": 164,
     "metadata": {},
     "output_type": "execute_result"
    }
   ],
   "source": [
    "nested_list_tweets_real[doc_ids_disaster]"
   ]
  },
  {
   "cell_type": "code",
   "execution_count": 165,
   "id": "6c7df94c",
   "metadata": {},
   "outputs": [],
   "source": [
    "nested_list_disaster_tweets = nested_list_tweets_real[doc_ids_disaster]\n",
    "nested_list_nondisaster_tweets = nested_list_tweets_real[doc_ids_non_disaster]"
   ]
  },
  {
   "cell_type": "code",
   "execution_count": 166,
   "id": "69f52973",
   "metadata": {},
   "outputs": [
    {
     "data": {
      "text/plain": [
       "DOC_ID\n",
       "7608    [two, giant, crane, hold, bridg, collaps, near...\n",
       "7609    [thetawniest, control, wild, fire, california,...\n",
       "7610                         [utc, volcano, hawaii, http]\n",
       "7611    [polic, investig, collid, car, littl, portug, ...\n",
       "7612    [latest, home, raze, northern, california, wil...\n",
       "Name: text, dtype: object"
      ]
     },
     "execution_count": 166,
     "metadata": {},
     "output_type": "execute_result"
    }
   ],
   "source": [
    "nested_list_disaster_tweets.tail()"
   ]
  },
  {
   "cell_type": "code",
   "execution_count": 167,
   "id": "482efe4b",
   "metadata": {},
   "outputs": [
    {
     "data": {
      "text/plain": [
       "DOC_ID\n",
       "7581    [enginesh, great, atmospher, british, lion, gi...\n",
       "7582    [cramer, iger, word, wreck, disney, stock, cnb...\n",
       "7584    [box, readi, explod, explod, kitten, final, ar...\n",
       "7587                                   [siren, everywher]\n",
       "7593    [heard, realli, loud, bang, everyon, asleep, g...\n",
       "Name: text, dtype: object"
      ]
     },
     "execution_count": 167,
     "metadata": {},
     "output_type": "execute_result"
    }
   ],
   "source": [
    "nested_list_nondisaster_tweets.tail()"
   ]
  },
  {
   "cell_type": "code",
   "execution_count": 168,
   "id": "aca75678",
   "metadata": {},
   "outputs": [
    {
     "data": {
      "text/plain": [
       "3271"
      ]
     },
     "execution_count": 168,
     "metadata": {},
     "output_type": "execute_result"
    }
   ],
   "source": [
    "#### Same technique afterall\n",
    "(nested_list_tweets_real[doc_ids_disaster] == nested_list_tweets_real.loc[doc_ids_disaster]).sum()"
   ]
  },
  {
   "cell_type": "code",
   "execution_count": 169,
   "id": "a4367a66",
   "metadata": {},
   "outputs": [],
   "source": [
    "flat_list_disaster_tweets = [item for sublist in nested_list_disaster_tweets for item in sublist]\n",
    "flat_list_nondisaster_tweets = [item for sublist in nested_list_nondisaster_tweets for item in sublist]"
   ]
  },
  {
   "cell_type": "code",
   "execution_count": 170,
   "id": "f283b4a3",
   "metadata": {},
   "outputs": [],
   "source": [
    "normal_tweets = pd.Series(flat_list_nondisaster_tweets).value_counts()\n",
    "disaster_tweets = pd.Series(flat_list_disaster_tweets).value_counts()"
   ]
  },
  {
   "cell_type": "code",
   "execution_count": null,
   "id": "37a60438",
   "metadata": {},
   "outputs": [],
   "source": []
  },
  {
   "cell_type": "code",
   "execution_count": 171,
   "id": "5fb42665",
   "metadata": {},
   "outputs": [
    {
     "data": {
      "text/plain": [
       "http    2203\n",
       "like     307\n",
       "get      221\n",
       "amp      209\n",
       "new      168\n",
       "go       141\n",
       "one      135\n",
       "love     116\n",
       "bodi     114\n",
       "bag      109\n",
       "dtype: int64"
      ]
     },
     "execution_count": 171,
     "metadata": {},
     "output_type": "execute_result"
    }
   ],
   "source": [
    "normal_tweets[:10]"
   ]
  },
  {
   "cell_type": "code",
   "execution_count": 172,
   "id": "ddd9d902",
   "metadata": {},
   "outputs": [
    {
     "data": {
      "text/plain": [
       "http      2513\n",
       "fire       266\n",
       "bomb       180\n",
       "kill       158\n",
       "news       140\n",
       "amp        135\n",
       "via        121\n",
       "flood      120\n",
       "disast     119\n",
       "crash      113\n",
       "dtype: int64"
      ]
     },
     "execution_count": 172,
     "metadata": {},
     "output_type": "execute_result"
    }
   ],
   "source": [
    "disaster_tweets[:10]"
   ]
  },
  {
   "cell_type": "code",
   "execution_count": 173,
   "id": "20aed6fb",
   "metadata": {},
   "outputs": [
    {
     "data": {
      "text/plain": [
       "(6462,)"
      ]
     },
     "execution_count": 173,
     "metadata": {},
     "output_type": "execute_result"
    }
   ],
   "source": [
    "disaster_tweets.shape"
   ]
  },
  {
   "cell_type": "code",
   "execution_count": 174,
   "id": "af3edb8c",
   "metadata": {},
   "outputs": [
    {
     "data": {
      "text/plain": [
       "(8788,)"
      ]
     },
     "execution_count": 174,
     "metadata": {},
     "output_type": "execute_result"
    }
   ],
   "source": [
    "normal_tweets.shape"
   ]
  },
  {
   "cell_type": "markdown",
   "id": "f6c9980c",
   "metadata": {},
   "source": [
    "## Creating a word cloud"
   ]
  },
  {
   "cell_type": "code",
   "execution_count": 175,
   "id": "7282744e",
   "metadata": {},
   "outputs": [
    {
     "data": {
      "text/plain": [
       "\"All residents asked to 'shelter in place' are being notified by officers. No other evacuation or shelter in place orders are expected\""
      ]
     },
     "execution_count": 175,
     "metadata": {},
     "output_type": "execute_result"
    }
   ],
   "source": [
    "data_train.at[2, 'text']"
   ]
  },
  {
   "cell_type": "code",
   "execution_count": 176,
   "id": "e987fcf3",
   "metadata": {},
   "outputs": [
    {
     "data": {
      "image/png": "[encoded data removed]",
      "text/plain": [
       "<Figure size 432x288 with 1 Axes>"
      ]
     },
     "metadata": {
      "needs_background": "light"
     },
     "output_type": "display_data"
    }
   ],
   "source": [
    "word_cloud = WordCloud().generate(data_train.at[2, 'text'])\n",
    "plt.imshow(word_cloud, interpolation='bilinear')\n",
    "plt.axis('off')\n",
    "plt.show()"
   ]
  },
  {
   "cell_type": "markdown",
   "id": "eaf888d6",
   "metadata": {},
   "source": [
    "### Word Cloud of Disaster tweets and Non-Disaster tweets"
   ]
  },
  {
   "cell_type": "code",
   "execution_count": 177,
   "id": "49b0817d",
   "metadata": {},
   "outputs": [
    {
     "data": {
      "image/png": "[encoded data removed]",
      "text/plain": [
       "<Figure size 1152x576 with 1 Axes>"
      ]
     },
     "metadata": {
      "needs_background": "light"
     },
     "output_type": "display_data"
    }
   ],
   "source": [
    "icon = Image.open(THUMBS_UP_FILE)\n",
    "image_mask = Image.new(mode='RGB', size=icon.size, color=(255, 255, 255))\n",
    "image_mask.paste(icon, box=icon)\n",
    "\n",
    "rgb_array = np.array(image_mask) # converts the image object to an array\n",
    "\n",
    "# Generate the text as a string for the word cloud\n",
    "non_disaster_twt_str = ' '.join(flat_list_nondisaster_tweets)\n",
    "\n",
    "word_cloud = WordCloud(mask=rgb_array, background_color='white', \n",
    "                      max_words=500, colormap='winter')\n",
    "\n",
    "word_cloud.generate(non_disaster_twt_str)\n",
    "\n",
    "plt.figure(figsize=[16, 8])\n",
    "plt.imshow(word_cloud, interpolation='bilinear')\n",
    "plt.axis('off')\n",
    "plt.show()"
   ]
  },
  {
   "cell_type": "code",
   "execution_count": 178,
   "id": "4523a234",
   "metadata": {},
   "outputs": [
    {
     "data": {
      "image/png": "[encoded data removed]",
      "text/plain": [
       "<Figure size 1152x576 with 1 Axes>"
      ]
     },
     "metadata": {
      "needs_background": "light"
     },
     "output_type": "display_data"
    }
   ],
   "source": [
    "icon = Image.open(THUMBS_DOWN_FILE)\n",
    "image_mask = Image.new(mode='RGB', size=icon.size, color=(255, 255, 255))\n",
    "image_mask.paste(icon, box=icon)\n",
    "\n",
    "rgb_array = np.array(image_mask) # converts the image object to an array\n",
    "\n",
    "# Generate the text as a string for the word cloud\n",
    "disaster_twt_str = ' '.join(flat_list_disaster_tweets)\n",
    "\n",
    "word_cloud = WordCloud(mask=rgb_array, background_color='white', \n",
    "                      max_words=500, colormap='gist_heat')\n",
    "\n",
    "word_cloud.generate(disaster_twt_str)\n",
    "\n",
    "plt.figure(figsize=[16, 8])\n",
    "plt.imshow(word_cloud, interpolation='bilinear')\n",
    "plt.axis('off')\n",
    "plt.show()"
   ]
  },
  {
   "cell_type": "markdown",
   "id": "e6feb221",
   "metadata": {},
   "source": [
    "## Generate Vocabulary & Dictionary"
   ]
  },
  {
   "cell_type": "code",
   "execution_count": 180,
   "id": "bf6337bc",
   "metadata": {},
   "outputs": [],
   "source": [
    "stemmed_nested_list = data_train.text.apply(clean_message)\n",
    "flat_stemmed_list = [item for sublist in stemmed_nested_list for item in sublist]"
   ]
  },
  {
   "cell_type": "code",
   "execution_count": 181,
   "id": "2f0fa74f",
   "metadata": {},
   "outputs": [],
   "source": [
    "stemmed_nested_list_test = data_test.text.apply(clean_message)\n",
    "flat_stemmed_list_test = [item for sublist in stemmed_nested_list_test for item in sublist]"
   ]
  },
  {
   "cell_type": "code",
   "execution_count": 182,
   "id": "600f37f2",
   "metadata": {},
   "outputs": [
    {
     "name": "stdout",
     "output_type": "stream",
     "text": [
      "Number of unique words is 12036\n"
     ]
    }
   ],
   "source": [
    "unique_words = pd.Series(flat_stemmed_list).value_counts()\n",
    "print(f'Number of unique words is {unique_words.shape[0]}')"
   ]
  },
  {
   "cell_type": "code",
   "execution_count": 183,
   "id": "cb002278",
   "metadata": {},
   "outputs": [
    {
     "name": "stdout",
     "output_type": "stream",
     "text": [
      "Number of unique words is 7440\n"
     ]
    }
   ],
   "source": [
    "unique_words_test = pd.Series(flat_stemmed_list_test).value_counts()\n",
    "print(f'Number of unique words is {unique_words_test.shape[0]}')"
   ]
  },
  {
   "cell_type": "code",
   "execution_count": 184,
   "id": "6becd257",
   "metadata": {},
   "outputs": [
    {
     "data": {
      "text/plain": [
       "http    4716\n",
       "like     409\n",
       "fire     356\n",
       "amp      344\n",
       "get      309\n",
       "dtype: int64"
      ]
     },
     "execution_count": 184,
     "metadata": {},
     "output_type": "execute_result"
    }
   ],
   "source": [
    "unique_words.head()"
   ]
  },
  {
   "cell_type": "code",
   "execution_count": 185,
   "id": "83f48461",
   "metadata": {},
   "outputs": [
    {
     "data": {
      "text/plain": [
       "http    2057\n",
       "like     180\n",
       "amp      166\n",
       "fire     166\n",
       "get      143\n",
       "dtype: int64"
      ]
     },
     "execution_count": 185,
     "metadata": {},
     "output_type": "execute_result"
    }
   ],
   "source": [
    "unique_words_test.head()"
   ]
  },
  {
   "cell_type": "code",
   "execution_count": 186,
   "id": "973429f1",
   "metadata": {},
   "outputs": [
    {
     "name": "stdout",
     "output_type": "stream",
     "text": [
      "The top 10 most common words are:\n",
      "http     4716\n",
      "like      409\n",
      "fire      356\n",
      "amp       344\n",
      "get       309\n",
      "bomb      230\n",
      "new       223\n",
      "via       218\n",
      "one       204\n",
      "peopl     198\n",
      "dtype: int64\n"
     ]
    }
   ],
   "source": [
    "frequent_words = unique_words[:VOCAB_SIZE]\n",
    "print(f'The top 10 most common words are:\\n{frequent_words[:10]}')"
   ]
  },
  {
   "cell_type": "code",
   "execution_count": 187,
   "id": "2e737ccc",
   "metadata": {},
   "outputs": [
    {
     "name": "stdout",
     "output_type": "stream",
     "text": [
      "The top 10 most common words are:\n",
      "http    2057\n",
      "like     180\n",
      "amp      166\n",
      "fire     166\n",
      "get      143\n",
      "via      105\n",
      "new      102\n",
      "bomb      92\n",
      "news      91\n",
      "go        89\n",
      "dtype: int64\n"
     ]
    }
   ],
   "source": [
    "frequent_words_test = unique_words_test[:VOCAB_SIZE]\n",
    "print(f'The top 10 most common words are:\\n{frequent_words_test[:10]}')"
   ]
  },
  {
   "cell_type": "code",
   "execution_count": 188,
   "id": "5d4e9cf2",
   "metadata": {},
   "outputs": [
    {
     "data": {
      "text/plain": [
       "http    4716\n",
       "like     409\n",
       "fire     356\n",
       "amp      344\n",
       "get      309\n",
       "        ... \n",
       "job       47\n",
       "move      47\n",
       "trap      47\n",
       "gon       47\n",
       "heat      47\n",
       "Length: 250, dtype: int64"
      ]
     },
     "execution_count": 188,
     "metadata": {},
     "output_type": "execute_result"
    }
   ],
   "source": [
    "frequent_words"
   ]
  },
  {
   "cell_type": "code",
   "execution_count": 189,
   "id": "98a1e9b5",
   "metadata": {},
   "outputs": [
    {
     "data": {
      "text/plain": [
       "http       2057\n",
       "like        180\n",
       "amp         166\n",
       "fire        166\n",
       "get         143\n",
       "           ... \n",
       "face         20\n",
       "drought      20\n",
       "eye          20\n",
       "food         20\n",
       "fan          20\n",
       "Length: 250, dtype: int64"
      ]
     },
     "execution_count": 189,
     "metadata": {},
     "output_type": "execute_result"
    }
   ],
   "source": [
    "frequent_words_test"
   ]
  },
  {
   "cell_type": "markdown",
   "id": "e20a7bcc",
   "metadata": {},
   "source": [
    "## Create Vocabulary DataFrame with a word_id"
   ]
  },
  {
   "cell_type": "code",
   "execution_count": 190,
   "id": "71cb7d98",
   "metadata": {},
   "outputs": [
    {
     "data": {
      "text/html": [
       "<div>\n",
       "<style scoped>\n",
       "    .dataframe tbody tr th:only-of-type {\n",
       "        vertical-align: middle;\n",
       "    }\n",
       "\n",
       "    .dataframe tbody tr th {\n",
       "        vertical-align: top;\n",
       "    }\n",
       "\n",
       "    .dataframe thead th {\n",
       "        text-align: right;\n",
       "    }\n",
       "</style>\n",
       "<table border=\"1\" class=\"dataframe\">\n",
       "  <thead>\n",
       "    <tr style=\"text-align: right;\">\n",
       "      <th></th>\n",
       "      <th>vocab_word</th>\n",
       "    </tr>\n",
       "  </thead>\n",
       "  <tbody>\n",
       "    <tr>\n",
       "      <th>0</th>\n",
       "      <td>http</td>\n",
       "    </tr>\n",
       "    <tr>\n",
       "      <th>1</th>\n",
       "      <td>like</td>\n",
       "    </tr>\n",
       "    <tr>\n",
       "      <th>2</th>\n",
       "      <td>fire</td>\n",
       "    </tr>\n",
       "    <tr>\n",
       "      <th>3</th>\n",
       "      <td>amp</td>\n",
       "    </tr>\n",
       "    <tr>\n",
       "      <th>4</th>\n",
       "      <td>get</td>\n",
       "    </tr>\n",
       "  </tbody>\n",
       "</table>\n",
       "</div>"
      ],
      "text/plain": [
       "  vocab_word\n",
       "0       http\n",
       "1       like\n",
       "2       fire\n",
       "3        amp\n",
       "4        get"
      ]
     },
     "execution_count": 190,
     "metadata": {},
     "output_type": "execute_result"
    }
   ],
   "source": [
    "word_ids = list(range(0, VOCAB_SIZE))\n",
    "vocab = pd.DataFrame({'vocab_word':frequent_words.index.values}, index=word_ids)\n",
    "vocab.head()"
   ]
  },
  {
   "cell_type": "code",
   "execution_count": 191,
   "id": "da677246",
   "metadata": {},
   "outputs": [
    {
     "data": {
      "text/html": [
       "<div>\n",
       "<style scoped>\n",
       "    .dataframe tbody tr th:only-of-type {\n",
       "        vertical-align: middle;\n",
       "    }\n",
       "\n",
       "    .dataframe tbody tr th {\n",
       "        vertical-align: top;\n",
       "    }\n",
       "\n",
       "    .dataframe thead th {\n",
       "        text-align: right;\n",
       "    }\n",
       "</style>\n",
       "<table border=\"1\" class=\"dataframe\">\n",
       "  <thead>\n",
       "    <tr style=\"text-align: right;\">\n",
       "      <th></th>\n",
       "      <th>vocab_word</th>\n",
       "    </tr>\n",
       "  </thead>\n",
       "  <tbody>\n",
       "    <tr>\n",
       "      <th>0</th>\n",
       "      <td>http</td>\n",
       "    </tr>\n",
       "    <tr>\n",
       "      <th>1</th>\n",
       "      <td>like</td>\n",
       "    </tr>\n",
       "    <tr>\n",
       "      <th>2</th>\n",
       "      <td>amp</td>\n",
       "    </tr>\n",
       "    <tr>\n",
       "      <th>3</th>\n",
       "      <td>fire</td>\n",
       "    </tr>\n",
       "    <tr>\n",
       "      <th>4</th>\n",
       "      <td>get</td>\n",
       "    </tr>\n",
       "  </tbody>\n",
       "</table>\n",
       "</div>"
      ],
      "text/plain": [
       "  vocab_word\n",
       "0       http\n",
       "1       like\n",
       "2        amp\n",
       "3       fire\n",
       "4        get"
      ]
     },
     "execution_count": 191,
     "metadata": {},
     "output_type": "execute_result"
    }
   ],
   "source": [
    "word_ids_test = list(range(0, VOCAB_SIZE))\n",
    "vocab_test = pd.DataFrame({'vocab_word':frequent_words_test.index.values}, index=word_ids_test)\n",
    "vocab_test.head()"
   ]
  },
  {
   "cell_type": "code",
   "execution_count": 192,
   "id": "e1aebfb2",
   "metadata": {},
   "outputs": [],
   "source": [
    "vocab.index.name = 'word_ids'"
   ]
  },
  {
   "cell_type": "code",
   "execution_count": 193,
   "id": "c86c5a3a",
   "metadata": {},
   "outputs": [],
   "source": [
    "vocab_test.index.name = 'word_ids'"
   ]
  },
  {
   "cell_type": "code",
   "execution_count": 194,
   "id": "fd138398",
   "metadata": {},
   "outputs": [
    {
     "data": {
      "text/html": [
       "<div>\n",
       "<style scoped>\n",
       "    .dataframe tbody tr th:only-of-type {\n",
       "        vertical-align: middle;\n",
       "    }\n",
       "\n",
       "    .dataframe tbody tr th {\n",
       "        vertical-align: top;\n",
       "    }\n",
       "\n",
       "    .dataframe thead th {\n",
       "        text-align: right;\n",
       "    }\n",
       "</style>\n",
       "<table border=\"1\" class=\"dataframe\">\n",
       "  <thead>\n",
       "    <tr style=\"text-align: right;\">\n",
       "      <th></th>\n",
       "      <th>vocab_word</th>\n",
       "    </tr>\n",
       "    <tr>\n",
       "      <th>word_ids</th>\n",
       "      <th></th>\n",
       "    </tr>\n",
       "  </thead>\n",
       "  <tbody>\n",
       "    <tr>\n",
       "      <th>0</th>\n",
       "      <td>http</td>\n",
       "    </tr>\n",
       "    <tr>\n",
       "      <th>1</th>\n",
       "      <td>like</td>\n",
       "    </tr>\n",
       "    <tr>\n",
       "      <th>2</th>\n",
       "      <td>fire</td>\n",
       "    </tr>\n",
       "    <tr>\n",
       "      <th>3</th>\n",
       "      <td>amp</td>\n",
       "    </tr>\n",
       "    <tr>\n",
       "      <th>4</th>\n",
       "      <td>get</td>\n",
       "    </tr>\n",
       "    <tr>\n",
       "      <th>...</th>\n",
       "      <td>...</td>\n",
       "    </tr>\n",
       "    <tr>\n",
       "      <th>245</th>\n",
       "      <td>job</td>\n",
       "    </tr>\n",
       "    <tr>\n",
       "      <th>246</th>\n",
       "      <td>move</td>\n",
       "    </tr>\n",
       "    <tr>\n",
       "      <th>247</th>\n",
       "      <td>trap</td>\n",
       "    </tr>\n",
       "    <tr>\n",
       "      <th>248</th>\n",
       "      <td>gon</td>\n",
       "    </tr>\n",
       "    <tr>\n",
       "      <th>249</th>\n",
       "      <td>heat</td>\n",
       "    </tr>\n",
       "  </tbody>\n",
       "</table>\n",
       "<p>250 rows × 1 columns</p>\n",
       "</div>"
      ],
      "text/plain": [
       "         vocab_word\n",
       "word_ids           \n",
       "0              http\n",
       "1              like\n",
       "2              fire\n",
       "3               amp\n",
       "4               get\n",
       "...             ...\n",
       "245             job\n",
       "246            move\n",
       "247            trap\n",
       "248             gon\n",
       "249            heat\n",
       "\n",
       "[250 rows x 1 columns]"
      ]
     },
     "execution_count": 194,
     "metadata": {},
     "output_type": "execute_result"
    }
   ],
   "source": [
    "vocab"
   ]
  },
  {
   "cell_type": "code",
   "execution_count": 195,
   "id": "6509abb5",
   "metadata": {},
   "outputs": [
    {
     "data": {
      "text/html": [
       "<div>\n",
       "<style scoped>\n",
       "    .dataframe tbody tr th:only-of-type {\n",
       "        vertical-align: middle;\n",
       "    }\n",
       "\n",
       "    .dataframe tbody tr th {\n",
       "        vertical-align: top;\n",
       "    }\n",
       "\n",
       "    .dataframe thead th {\n",
       "        text-align: right;\n",
       "    }\n",
       "</style>\n",
       "<table border=\"1\" class=\"dataframe\">\n",
       "  <thead>\n",
       "    <tr style=\"text-align: right;\">\n",
       "      <th></th>\n",
       "      <th>vocab_word</th>\n",
       "    </tr>\n",
       "    <tr>\n",
       "      <th>word_ids</th>\n",
       "      <th></th>\n",
       "    </tr>\n",
       "  </thead>\n",
       "  <tbody>\n",
       "    <tr>\n",
       "      <th>0</th>\n",
       "      <td>http</td>\n",
       "    </tr>\n",
       "    <tr>\n",
       "      <th>1</th>\n",
       "      <td>like</td>\n",
       "    </tr>\n",
       "    <tr>\n",
       "      <th>2</th>\n",
       "      <td>amp</td>\n",
       "    </tr>\n",
       "    <tr>\n",
       "      <th>3</th>\n",
       "      <td>fire</td>\n",
       "    </tr>\n",
       "    <tr>\n",
       "      <th>4</th>\n",
       "      <td>get</td>\n",
       "    </tr>\n",
       "    <tr>\n",
       "      <th>...</th>\n",
       "      <td>...</td>\n",
       "    </tr>\n",
       "    <tr>\n",
       "      <th>245</th>\n",
       "      <td>face</td>\n",
       "    </tr>\n",
       "    <tr>\n",
       "      <th>246</th>\n",
       "      <td>drought</td>\n",
       "    </tr>\n",
       "    <tr>\n",
       "      <th>247</th>\n",
       "      <td>eye</td>\n",
       "    </tr>\n",
       "    <tr>\n",
       "      <th>248</th>\n",
       "      <td>food</td>\n",
       "    </tr>\n",
       "    <tr>\n",
       "      <th>249</th>\n",
       "      <td>fan</td>\n",
       "    </tr>\n",
       "  </tbody>\n",
       "</table>\n",
       "<p>250 rows × 1 columns</p>\n",
       "</div>"
      ],
      "text/plain": [
       "         vocab_word\n",
       "word_ids           \n",
       "0              http\n",
       "1              like\n",
       "2               amp\n",
       "3              fire\n",
       "4               get\n",
       "...             ...\n",
       "245            face\n",
       "246         drought\n",
       "247             eye\n",
       "248            food\n",
       "249             fan\n",
       "\n",
       "[250 rows x 1 columns]"
      ]
     },
     "execution_count": 195,
     "metadata": {},
     "output_type": "execute_result"
    }
   ],
   "source": [
    "vocab_test"
   ]
  },
  {
   "cell_type": "markdown",
   "id": "663cd8fc",
   "metadata": {},
   "source": [
    "## Save the Vocabulary as a CSV File"
   ]
  },
  {
   "cell_type": "code",
   "execution_count": 196,
   "id": "9ad6c8f8",
   "metadata": {},
   "outputs": [],
   "source": [
    "vocab.to_csv(WORD_ID_FILE, index_label=vocab.index.name, header=vocab.vocab_word.name)"
   ]
  },
  {
   "cell_type": "code",
   "execution_count": 197,
   "id": "42fe8faf",
   "metadata": {},
   "outputs": [
    {
     "data": {
      "text/plain": [
       "'vocab_word'"
      ]
     },
     "execution_count": 197,
     "metadata": {},
     "output_type": "execute_result"
    }
   ],
   "source": [
    "vocab.vocab_word.name"
   ]
  },
  {
   "cell_type": "code",
   "execution_count": 198,
   "id": "388697d6",
   "metadata": {},
   "outputs": [],
   "source": [
    "vocab_test.to_csv(WORD_ID_FILE_TEST, index_label=vocab_test.index.name, header=vocab_test.vocab_word.name)"
   ]
  },
  {
   "cell_type": "code",
   "execution_count": 199,
   "id": "1ec3caeb",
   "metadata": {},
   "outputs": [
    {
     "data": {
      "text/plain": [
       "'vocab_word'"
      ]
     },
     "execution_count": 199,
     "metadata": {},
     "output_type": "execute_result"
    }
   ],
   "source": [
    "vocab_test.vocab_word.name"
   ]
  },
  {
   "cell_type": "code",
   "execution_count": 200,
   "id": "7bd7c452",
   "metadata": {},
   "outputs": [
    {
     "data": {
      "text/plain": [
       "True"
      ]
     },
     "execution_count": 200,
     "metadata": {},
     "output_type": "execute_result"
    }
   ],
   "source": [
    "any(vocab.vocab_word == 'trap')"
   ]
  },
  {
   "cell_type": "code",
   "execution_count": 201,
   "id": "343c569d",
   "metadata": {},
   "outputs": [
    {
     "data": {
      "text/plain": [
       "True"
      ]
     },
     "execution_count": 201,
     "metadata": {},
     "output_type": "execute_result"
    }
   ],
   "source": [
    "'trap' in set(vocab.vocab_word)"
   ]
  },
  {
   "cell_type": "code",
   "execution_count": 202,
   "id": "255de162",
   "metadata": {},
   "outputs": [
    {
     "data": {
      "text/plain": [
       "True"
      ]
     },
     "execution_count": 202,
     "metadata": {},
     "output_type": "execute_result"
    }
   ],
   "source": [
    "any(vocab_test.vocab_word == 'fan')"
   ]
  },
  {
   "cell_type": "markdown",
   "id": "ec136dc7",
   "metadata": {},
   "source": [
    "## Find the tweet with the most number of words"
   ]
  },
  {
   "cell_type": "code",
   "execution_count": 203,
   "id": "a52cc3a3",
   "metadata": {},
   "outputs": [
    {
     "name": "stdout",
     "output_type": "stream",
     "text": [
      "Nr words in the longest email: 23\n"
     ]
    }
   ],
   "source": [
    "# Python List Comprehension\n",
    "clean_tweet_lengths = [len(sublist) for sublist in nested_list_tweets_real]\n",
    "print('Nr words in the longest email:', max(clean_tweet_lengths))"
   ]
  },
  {
   "cell_type": "code",
   "execution_count": 205,
   "id": "8b2d1beb",
   "metadata": {},
   "outputs": [
    {
     "name": "stdout",
     "output_type": "stream",
     "text": [
      "Nr words in the longest email: 20\n"
     ]
    }
   ],
   "source": [
    "# Python List Comprehension\n",
    "clean_tweet_lengths_test = [len(sublist) for sublist in nested_list_tweets_real_test]\n",
    "print('Nr words in the longest email:', max(clean_tweet_lengths_test))"
   ]
  },
  {
   "cell_type": "code",
   "execution_count": 206,
   "id": "b9abf25d",
   "metadata": {},
   "outputs": [
    {
     "data": {
      "text/plain": [
       "0                           [happen, terribl, car, crash]\n",
       "1       [heard, earthquak, differ, citi, stay, safe, e...\n",
       "2       [forest, fire, spot, pond, gees, flee, across,...\n",
       "3                     [apocalyps, light, spokan, wildfir]\n",
       "4                [typhoon, soudelor, kill, china, taiwan]\n",
       "                              ...                        \n",
       "3258    [earthquak, safeti, lo, angel, safeti, fasten,...\n",
       "3259    [storm, ri, wors, last, hurrican, citi, amp, h...\n",
       "3260                 [green, line, derail, chicago, http]\n",
       "3261     [meg, issu, hazard, weather, outlook, hwo, http]\n",
       "3262    [cityofcalgari, activ, municip, emerg, plan, y...\n",
       "Name: text, Length: 3263, dtype: object"
      ]
     },
     "execution_count": 206,
     "metadata": {},
     "output_type": "execute_result"
    }
   ],
   "source": [
    "nested_list_tweets_real_test"
   ]
  },
  {
   "cell_type": "code",
   "execution_count": 207,
   "id": "cbc7605f",
   "metadata": {},
   "outputs": [
    {
     "name": "stdout",
     "output_type": "stream",
     "text": [
      "Tweet position in the list (and the data dataframe) 1942\n"
     ]
    }
   ],
   "source": [
    "print('Tweet position in the list (and the data dataframe)', np.argmax(clean_tweet_lengths))"
   ]
  },
  {
   "cell_type": "code",
   "execution_count": 208,
   "id": "47084564",
   "metadata": {},
   "outputs": [
    {
     "name": "stdout",
     "output_type": "stream",
     "text": [
      "Tweet position in the list (and the data dataframe) 1698\n"
     ]
    }
   ],
   "source": [
    "print('Tweet position in the list (and the data dataframe)', np.argmax(clean_tweet_lengths_test))"
   ]
  },
  {
   "cell_type": "code",
   "execution_count": 211,
   "id": "cc024cb8",
   "metadata": {
    "collapsed": true
   },
   "outputs": [
    {
     "data": {
      "text/plain": [
       "['rite',\n",
       " 'man',\n",
       " 'tlk',\n",
       " 'widout',\n",
       " 'nuh',\n",
       " 'curfew',\n",
       " 'long',\n",
       " 'side',\n",
       " 'aka',\n",
       " 'cum',\n",
       " 'fi',\n",
       " 'steal',\n",
       " 'di',\n",
       " 'show',\n",
       " 'itz',\n",
       " 'rubberi',\n",
       " 'di',\n",
       " 'whole',\n",
       " 'dem',\n",
       " 'fi',\n",
       " 'knw',\n",
       " 'sound',\n",
       " 'music']"
      ]
     },
     "execution_count": 211,
     "metadata": {},
     "output_type": "execute_result"
    }
   ],
   "source": [
    "nested_list_tweets_real[np.argmax(clean_tweet_lengths)]"
   ]
  },
  {
   "cell_type": "code",
   "execution_count": 212,
   "id": "dcbe6111",
   "metadata": {
    "collapsed": true
   },
   "outputs": [
    {
     "data": {
      "text/plain": [
       "['oo',\n",
       " 'hd',\n",
       " 'riggd',\n",
       " 'rough',\n",
       " 'shelter',\n",
       " 'n',\n",
       " 'th',\n",
       " 'kindlng',\n",
       " 'glowng',\n",
       " 'fire',\n",
       " 'n',\n",
       " 'hollow',\n",
       " 'v',\n",
       " 'th',\n",
       " 'forest',\n",
       " 'th',\n",
       " 'frnch',\n",
       " 'could',\n",
       " 'c',\n",
       " 'th']"
      ]
     },
     "execution_count": 212,
     "metadata": {},
     "output_type": "execute_result"
    }
   ],
   "source": [
    "nested_list_tweets_real_test[np.argmax(clean_tweet_lengths_test)]"
   ]
  },
  {
   "cell_type": "code",
   "execution_count": 213,
   "id": "fda0d36b",
   "metadata": {},
   "outputs": [
    {
     "data": {
      "text/plain": [
       "'Rite now man a tlk widout nuh curfew long side Aka cum fi steal di show itz a rubbery di whole a dem fi knw... Sound it *music*'"
      ]
     },
     "execution_count": 213,
     "metadata": {},
     "output_type": "execute_result"
    }
   ],
   "source": [
    "data_train.at[np.argmax(clean_tweet_lengths), 'text']"
   ]
  },
  {
   "cell_type": "code",
   "execution_count": 214,
   "id": "6c5a6c88",
   "metadata": {},
   "outputs": [
    {
     "data": {
      "text/plain": [
       "'+Cossacks+hussars oo hd riggd up rough shelters N th glade+were kindlng glowng fires N a hollow v th forest where th FrNch could not C th'"
      ]
     },
     "execution_count": 214,
     "metadata": {},
     "output_type": "execute_result"
    }
   ],
   "source": [
    "data_test.at[np.argmax(clean_tweet_lengths_test), 'text']"
   ]
  },
  {
   "cell_type": "markdown",
   "id": "2d89ec8a",
   "metadata": {},
   "source": [
    "# Generate Features & a Sparse Matrix\n",
    "### Creating a DataFrame with one Word per Column"
   ]
  },
  {
   "cell_type": "code",
   "execution_count": 215,
   "id": "2df57189",
   "metadata": {},
   "outputs": [
    {
     "data": {
      "text/plain": [
       "list"
      ]
     },
     "execution_count": 215,
     "metadata": {},
     "output_type": "execute_result"
    }
   ],
   "source": [
    "type(nested_list_tweets_real.to_list())"
   ]
  },
  {
   "cell_type": "code",
   "execution_count": 216,
   "id": "8dee65dd",
   "metadata": {},
   "outputs": [
    {
     "data": {
      "text/plain": [
       "list"
      ]
     },
     "execution_count": 216,
     "metadata": {},
     "output_type": "execute_result"
    }
   ],
   "source": [
    "type(nested_list_tweets_real_test.to_list())"
   ]
  },
  {
   "cell_type": "code",
   "execution_count": 218,
   "id": "e83653c7",
   "metadata": {},
   "outputs": [
    {
     "data": {
      "text/html": [
       "<div>\n",
       "<style scoped>\n",
       "    .dataframe tbody tr th:only-of-type {\n",
       "        vertical-align: middle;\n",
       "    }\n",
       "\n",
       "    .dataframe tbody tr th {\n",
       "        vertical-align: top;\n",
       "    }\n",
       "\n",
       "    .dataframe thead th {\n",
       "        text-align: right;\n",
       "    }\n",
       "</style>\n",
       "<table border=\"1\" class=\"dataframe\">\n",
       "  <thead>\n",
       "    <tr style=\"text-align: right;\">\n",
       "      <th></th>\n",
       "      <th>0</th>\n",
       "      <th>1</th>\n",
       "      <th>2</th>\n",
       "      <th>3</th>\n",
       "      <th>4</th>\n",
       "      <th>5</th>\n",
       "      <th>6</th>\n",
       "      <th>7</th>\n",
       "      <th>8</th>\n",
       "      <th>9</th>\n",
       "      <th>...</th>\n",
       "      <th>13</th>\n",
       "      <th>14</th>\n",
       "      <th>15</th>\n",
       "      <th>16</th>\n",
       "      <th>17</th>\n",
       "      <th>18</th>\n",
       "      <th>19</th>\n",
       "      <th>20</th>\n",
       "      <th>21</th>\n",
       "      <th>22</th>\n",
       "    </tr>\n",
       "  </thead>\n",
       "  <tbody>\n",
       "    <tr>\n",
       "      <th>0</th>\n",
       "      <td>deed</td>\n",
       "      <td>reason</td>\n",
       "      <td>earthquak</td>\n",
       "      <td>may</td>\n",
       "      <td>allah</td>\n",
       "      <td>forgiv</td>\n",
       "      <td>us</td>\n",
       "      <td>None</td>\n",
       "      <td>None</td>\n",
       "      <td>None</td>\n",
       "      <td>...</td>\n",
       "      <td>None</td>\n",
       "      <td>None</td>\n",
       "      <td>None</td>\n",
       "      <td>None</td>\n",
       "      <td>None</td>\n",
       "      <td>None</td>\n",
       "      <td>None</td>\n",
       "      <td>None</td>\n",
       "      <td>None</td>\n",
       "      <td>None</td>\n",
       "    </tr>\n",
       "    <tr>\n",
       "      <th>1</th>\n",
       "      <td>forest</td>\n",
       "      <td>fire</td>\n",
       "      <td>near</td>\n",
       "      <td>la</td>\n",
       "      <td>rong</td>\n",
       "      <td>sask</td>\n",
       "      <td>canada</td>\n",
       "      <td>None</td>\n",
       "      <td>None</td>\n",
       "      <td>None</td>\n",
       "      <td>...</td>\n",
       "      <td>None</td>\n",
       "      <td>None</td>\n",
       "      <td>None</td>\n",
       "      <td>None</td>\n",
       "      <td>None</td>\n",
       "      <td>None</td>\n",
       "      <td>None</td>\n",
       "      <td>None</td>\n",
       "      <td>None</td>\n",
       "      <td>None</td>\n",
       "    </tr>\n",
       "    <tr>\n",
       "      <th>2</th>\n",
       "      <td>resid</td>\n",
       "      <td>ask</td>\n",
       "      <td>place</td>\n",
       "      <td>notifi</td>\n",
       "      <td>offic</td>\n",
       "      <td>evacu</td>\n",
       "      <td>shelter</td>\n",
       "      <td>place</td>\n",
       "      <td>order</td>\n",
       "      <td>expect</td>\n",
       "      <td>...</td>\n",
       "      <td>None</td>\n",
       "      <td>None</td>\n",
       "      <td>None</td>\n",
       "      <td>None</td>\n",
       "      <td>None</td>\n",
       "      <td>None</td>\n",
       "      <td>None</td>\n",
       "      <td>None</td>\n",
       "      <td>None</td>\n",
       "      <td>None</td>\n",
       "    </tr>\n",
       "    <tr>\n",
       "      <th>3</th>\n",
       "      <td>peopl</td>\n",
       "      <td>receiv</td>\n",
       "      <td>wildfir</td>\n",
       "      <td>evacu</td>\n",
       "      <td>order</td>\n",
       "      <td>california</td>\n",
       "      <td>None</td>\n",
       "      <td>None</td>\n",
       "      <td>None</td>\n",
       "      <td>None</td>\n",
       "      <td>...</td>\n",
       "      <td>None</td>\n",
       "      <td>None</td>\n",
       "      <td>None</td>\n",
       "      <td>None</td>\n",
       "      <td>None</td>\n",
       "      <td>None</td>\n",
       "      <td>None</td>\n",
       "      <td>None</td>\n",
       "      <td>None</td>\n",
       "      <td>None</td>\n",
       "    </tr>\n",
       "    <tr>\n",
       "      <th>4</th>\n",
       "      <td>got</td>\n",
       "      <td>sent</td>\n",
       "      <td>photo</td>\n",
       "      <td>rubi</td>\n",
       "      <td>alaska</td>\n",
       "      <td>smoke</td>\n",
       "      <td>wildfir</td>\n",
       "      <td>pour</td>\n",
       "      <td>school</td>\n",
       "      <td>None</td>\n",
       "      <td>...</td>\n",
       "      <td>None</td>\n",
       "      <td>None</td>\n",
       "      <td>None</td>\n",
       "      <td>None</td>\n",
       "      <td>None</td>\n",
       "      <td>None</td>\n",
       "      <td>None</td>\n",
       "      <td>None</td>\n",
       "      <td>None</td>\n",
       "      <td>None</td>\n",
       "    </tr>\n",
       "    <tr>\n",
       "      <th>...</th>\n",
       "      <td>...</td>\n",
       "      <td>...</td>\n",
       "      <td>...</td>\n",
       "      <td>...</td>\n",
       "      <td>...</td>\n",
       "      <td>...</td>\n",
       "      <td>...</td>\n",
       "      <td>...</td>\n",
       "      <td>...</td>\n",
       "      <td>...</td>\n",
       "      <td>...</td>\n",
       "      <td>...</td>\n",
       "      <td>...</td>\n",
       "      <td>...</td>\n",
       "      <td>...</td>\n",
       "      <td>...</td>\n",
       "      <td>...</td>\n",
       "      <td>...</td>\n",
       "      <td>...</td>\n",
       "      <td>...</td>\n",
       "      <td>...</td>\n",
       "    </tr>\n",
       "    <tr>\n",
       "      <th>7608</th>\n",
       "      <td>two</td>\n",
       "      <td>giant</td>\n",
       "      <td>crane</td>\n",
       "      <td>hold</td>\n",
       "      <td>bridg</td>\n",
       "      <td>collaps</td>\n",
       "      <td>nearbi</td>\n",
       "      <td>home</td>\n",
       "      <td>http</td>\n",
       "      <td>None</td>\n",
       "      <td>...</td>\n",
       "      <td>None</td>\n",
       "      <td>None</td>\n",
       "      <td>None</td>\n",
       "      <td>None</td>\n",
       "      <td>None</td>\n",
       "      <td>None</td>\n",
       "      <td>None</td>\n",
       "      <td>None</td>\n",
       "      <td>None</td>\n",
       "      <td>None</td>\n",
       "    </tr>\n",
       "    <tr>\n",
       "      <th>7609</th>\n",
       "      <td>thetawniest</td>\n",
       "      <td>control</td>\n",
       "      <td>wild</td>\n",
       "      <td>fire</td>\n",
       "      <td>california</td>\n",
       "      <td>even</td>\n",
       "      <td>northern</td>\n",
       "      <td>part</td>\n",
       "      <td>state</td>\n",
       "      <td>troubl</td>\n",
       "      <td>...</td>\n",
       "      <td>None</td>\n",
       "      <td>None</td>\n",
       "      <td>None</td>\n",
       "      <td>None</td>\n",
       "      <td>None</td>\n",
       "      <td>None</td>\n",
       "      <td>None</td>\n",
       "      <td>None</td>\n",
       "      <td>None</td>\n",
       "      <td>None</td>\n",
       "    </tr>\n",
       "    <tr>\n",
       "      <th>7610</th>\n",
       "      <td>utc</td>\n",
       "      <td>volcano</td>\n",
       "      <td>hawaii</td>\n",
       "      <td>http</td>\n",
       "      <td>None</td>\n",
       "      <td>None</td>\n",
       "      <td>None</td>\n",
       "      <td>None</td>\n",
       "      <td>None</td>\n",
       "      <td>None</td>\n",
       "      <td>...</td>\n",
       "      <td>None</td>\n",
       "      <td>None</td>\n",
       "      <td>None</td>\n",
       "      <td>None</td>\n",
       "      <td>None</td>\n",
       "      <td>None</td>\n",
       "      <td>None</td>\n",
       "      <td>None</td>\n",
       "      <td>None</td>\n",
       "      <td>None</td>\n",
       "    </tr>\n",
       "    <tr>\n",
       "      <th>7611</th>\n",
       "      <td>polic</td>\n",
       "      <td>investig</td>\n",
       "      <td>collid</td>\n",
       "      <td>car</td>\n",
       "      <td>littl</td>\n",
       "      <td>portug</td>\n",
       "      <td>rider</td>\n",
       "      <td>suffer</td>\n",
       "      <td>seriou</td>\n",
       "      <td>threaten</td>\n",
       "      <td>...</td>\n",
       "      <td>None</td>\n",
       "      <td>None</td>\n",
       "      <td>None</td>\n",
       "      <td>None</td>\n",
       "      <td>None</td>\n",
       "      <td>None</td>\n",
       "      <td>None</td>\n",
       "      <td>None</td>\n",
       "      <td>None</td>\n",
       "      <td>None</td>\n",
       "    </tr>\n",
       "    <tr>\n",
       "      <th>7612</th>\n",
       "      <td>latest</td>\n",
       "      <td>home</td>\n",
       "      <td>raze</td>\n",
       "      <td>northern</td>\n",
       "      <td>california</td>\n",
       "      <td>wildfir</td>\n",
       "      <td>abc</td>\n",
       "      <td>news</td>\n",
       "      <td>http</td>\n",
       "      <td>None</td>\n",
       "      <td>...</td>\n",
       "      <td>None</td>\n",
       "      <td>None</td>\n",
       "      <td>None</td>\n",
       "      <td>None</td>\n",
       "      <td>None</td>\n",
       "      <td>None</td>\n",
       "      <td>None</td>\n",
       "      <td>None</td>\n",
       "      <td>None</td>\n",
       "      <td>None</td>\n",
       "    </tr>\n",
       "  </tbody>\n",
       "</table>\n",
       "<p>7613 rows × 23 columns</p>\n",
       "</div>"
      ],
      "text/plain": [
       "               0         1          2         3           4           5   \\\n",
       "0            deed    reason  earthquak       may       allah      forgiv   \n",
       "1          forest      fire       near        la        rong        sask   \n",
       "2           resid       ask      place    notifi       offic       evacu   \n",
       "3           peopl    receiv    wildfir     evacu       order  california   \n",
       "4             got      sent      photo      rubi      alaska       smoke   \n",
       "...           ...       ...        ...       ...         ...         ...   \n",
       "7608          two     giant      crane      hold       bridg     collaps   \n",
       "7609  thetawniest   control       wild      fire  california        even   \n",
       "7610          utc   volcano     hawaii      http        None        None   \n",
       "7611        polic  investig     collid       car       littl      portug   \n",
       "7612       latest      home       raze  northern  california     wildfir   \n",
       "\n",
       "            6       7       8         9   ...    13    14    15    16    17  \\\n",
       "0           us    None    None      None  ...  None  None  None  None  None   \n",
       "1       canada    None    None      None  ...  None  None  None  None  None   \n",
       "2      shelter   place   order    expect  ...  None  None  None  None  None   \n",
       "3         None    None    None      None  ...  None  None  None  None  None   \n",
       "4      wildfir    pour  school      None  ...  None  None  None  None  None   \n",
       "...        ...     ...     ...       ...  ...   ...   ...   ...   ...   ...   \n",
       "7608    nearbi    home    http      None  ...  None  None  None  None  None   \n",
       "7609  northern    part   state    troubl  ...  None  None  None  None  None   \n",
       "7610      None    None    None      None  ...  None  None  None  None  None   \n",
       "7611     rider  suffer  seriou  threaten  ...  None  None  None  None  None   \n",
       "7612       abc    news    http      None  ...  None  None  None  None  None   \n",
       "\n",
       "        18    19    20    21    22  \n",
       "0     None  None  None  None  None  \n",
       "1     None  None  None  None  None  \n",
       "2     None  None  None  None  None  \n",
       "3     None  None  None  None  None  \n",
       "4     None  None  None  None  None  \n",
       "...    ...   ...   ...   ...   ...  \n",
       "7608  None  None  None  None  None  \n",
       "7609  None  None  None  None  None  \n",
       "7610  None  None  None  None  None  \n",
       "7611  None  None  None  None  None  \n",
       "7612  None  None  None  None  None  \n",
       "\n",
       "[7613 rows x 23 columns]"
      ]
     },
     "execution_count": 218,
     "metadata": {},
     "output_type": "execute_result"
    }
   ],
   "source": [
    "word_columns_df = pd.DataFrame.from_records(nested_list_tweets_real.to_list())\n",
    "word_columns_df"
   ]
  },
  {
   "cell_type": "code",
   "execution_count": 219,
   "id": "00e90ade",
   "metadata": {},
   "outputs": [
    {
     "data": {
      "text/html": [
       "<div>\n",
       "<style scoped>\n",
       "    .dataframe tbody tr th:only-of-type {\n",
       "        vertical-align: middle;\n",
       "    }\n",
       "\n",
       "    .dataframe tbody tr th {\n",
       "        vertical-align: top;\n",
       "    }\n",
       "\n",
       "    .dataframe thead th {\n",
       "        text-align: right;\n",
       "    }\n",
       "</style>\n",
       "<table border=\"1\" class=\"dataframe\">\n",
       "  <thead>\n",
       "    <tr style=\"text-align: right;\">\n",
       "      <th></th>\n",
       "      <th>0</th>\n",
       "      <th>1</th>\n",
       "      <th>2</th>\n",
       "      <th>3</th>\n",
       "      <th>4</th>\n",
       "      <th>5</th>\n",
       "      <th>6</th>\n",
       "      <th>7</th>\n",
       "      <th>8</th>\n",
       "      <th>9</th>\n",
       "      <th>10</th>\n",
       "      <th>11</th>\n",
       "      <th>12</th>\n",
       "      <th>13</th>\n",
       "      <th>14</th>\n",
       "      <th>15</th>\n",
       "      <th>16</th>\n",
       "      <th>17</th>\n",
       "      <th>18</th>\n",
       "      <th>19</th>\n",
       "    </tr>\n",
       "  </thead>\n",
       "  <tbody>\n",
       "    <tr>\n",
       "      <th>0</th>\n",
       "      <td>happen</td>\n",
       "      <td>terribl</td>\n",
       "      <td>car</td>\n",
       "      <td>crash</td>\n",
       "      <td>None</td>\n",
       "      <td>None</td>\n",
       "      <td>None</td>\n",
       "      <td>None</td>\n",
       "      <td>None</td>\n",
       "      <td>None</td>\n",
       "      <td>None</td>\n",
       "      <td>None</td>\n",
       "      <td>None</td>\n",
       "      <td>None</td>\n",
       "      <td>None</td>\n",
       "      <td>None</td>\n",
       "      <td>None</td>\n",
       "      <td>None</td>\n",
       "      <td>None</td>\n",
       "      <td>None</td>\n",
       "    </tr>\n",
       "    <tr>\n",
       "      <th>1</th>\n",
       "      <td>heard</td>\n",
       "      <td>earthquak</td>\n",
       "      <td>differ</td>\n",
       "      <td>citi</td>\n",
       "      <td>stay</td>\n",
       "      <td>safe</td>\n",
       "      <td>everyon</td>\n",
       "      <td>None</td>\n",
       "      <td>None</td>\n",
       "      <td>None</td>\n",
       "      <td>None</td>\n",
       "      <td>None</td>\n",
       "      <td>None</td>\n",
       "      <td>None</td>\n",
       "      <td>None</td>\n",
       "      <td>None</td>\n",
       "      <td>None</td>\n",
       "      <td>None</td>\n",
       "      <td>None</td>\n",
       "      <td>None</td>\n",
       "    </tr>\n",
       "    <tr>\n",
       "      <th>2</th>\n",
       "      <td>forest</td>\n",
       "      <td>fire</td>\n",
       "      <td>spot</td>\n",
       "      <td>pond</td>\n",
       "      <td>gees</td>\n",
       "      <td>flee</td>\n",
       "      <td>across</td>\n",
       "      <td>street</td>\n",
       "      <td>save</td>\n",
       "      <td>None</td>\n",
       "      <td>None</td>\n",
       "      <td>None</td>\n",
       "      <td>None</td>\n",
       "      <td>None</td>\n",
       "      <td>None</td>\n",
       "      <td>None</td>\n",
       "      <td>None</td>\n",
       "      <td>None</td>\n",
       "      <td>None</td>\n",
       "      <td>None</td>\n",
       "    </tr>\n",
       "    <tr>\n",
       "      <th>3</th>\n",
       "      <td>apocalyps</td>\n",
       "      <td>light</td>\n",
       "      <td>spokan</td>\n",
       "      <td>wildfir</td>\n",
       "      <td>None</td>\n",
       "      <td>None</td>\n",
       "      <td>None</td>\n",
       "      <td>None</td>\n",
       "      <td>None</td>\n",
       "      <td>None</td>\n",
       "      <td>None</td>\n",
       "      <td>None</td>\n",
       "      <td>None</td>\n",
       "      <td>None</td>\n",
       "      <td>None</td>\n",
       "      <td>None</td>\n",
       "      <td>None</td>\n",
       "      <td>None</td>\n",
       "      <td>None</td>\n",
       "      <td>None</td>\n",
       "    </tr>\n",
       "    <tr>\n",
       "      <th>4</th>\n",
       "      <td>typhoon</td>\n",
       "      <td>soudelor</td>\n",
       "      <td>kill</td>\n",
       "      <td>china</td>\n",
       "      <td>taiwan</td>\n",
       "      <td>None</td>\n",
       "      <td>None</td>\n",
       "      <td>None</td>\n",
       "      <td>None</td>\n",
       "      <td>None</td>\n",
       "      <td>None</td>\n",
       "      <td>None</td>\n",
       "      <td>None</td>\n",
       "      <td>None</td>\n",
       "      <td>None</td>\n",
       "      <td>None</td>\n",
       "      <td>None</td>\n",
       "      <td>None</td>\n",
       "      <td>None</td>\n",
       "      <td>None</td>\n",
       "    </tr>\n",
       "    <tr>\n",
       "      <th>...</th>\n",
       "      <td>...</td>\n",
       "      <td>...</td>\n",
       "      <td>...</td>\n",
       "      <td>...</td>\n",
       "      <td>...</td>\n",
       "      <td>...</td>\n",
       "      <td>...</td>\n",
       "      <td>...</td>\n",
       "      <td>...</td>\n",
       "      <td>...</td>\n",
       "      <td>...</td>\n",
       "      <td>...</td>\n",
       "      <td>...</td>\n",
       "      <td>...</td>\n",
       "      <td>...</td>\n",
       "      <td>...</td>\n",
       "      <td>...</td>\n",
       "      <td>...</td>\n",
       "      <td>...</td>\n",
       "      <td>...</td>\n",
       "    </tr>\n",
       "    <tr>\n",
       "      <th>3258</th>\n",
       "      <td>earthquak</td>\n",
       "      <td>safeti</td>\n",
       "      <td>lo</td>\n",
       "      <td>angel</td>\n",
       "      <td>safeti</td>\n",
       "      <td>fasten</td>\n",
       "      <td>xrwn</td>\n",
       "      <td>None</td>\n",
       "      <td>None</td>\n",
       "      <td>None</td>\n",
       "      <td>None</td>\n",
       "      <td>None</td>\n",
       "      <td>None</td>\n",
       "      <td>None</td>\n",
       "      <td>None</td>\n",
       "      <td>None</td>\n",
       "      <td>None</td>\n",
       "      <td>None</td>\n",
       "      <td>None</td>\n",
       "      <td>None</td>\n",
       "    </tr>\n",
       "    <tr>\n",
       "      <th>3259</th>\n",
       "      <td>storm</td>\n",
       "      <td>ri</td>\n",
       "      <td>wors</td>\n",
       "      <td>last</td>\n",
       "      <td>hurrican</td>\n",
       "      <td>citi</td>\n",
       "      <td>amp</td>\n",
       "      <td>hardest</td>\n",
       "      <td>hit</td>\n",
       "      <td>yard</td>\n",
       "      <td>look</td>\n",
       "      <td>like</td>\n",
       "      <td>bomb</td>\n",
       "      <td>around</td>\n",
       "      <td>still</td>\n",
       "      <td>without</td>\n",
       "      <td>power</td>\n",
       "      <td>None</td>\n",
       "      <td>None</td>\n",
       "      <td>None</td>\n",
       "    </tr>\n",
       "    <tr>\n",
       "      <th>3260</th>\n",
       "      <td>green</td>\n",
       "      <td>line</td>\n",
       "      <td>derail</td>\n",
       "      <td>chicago</td>\n",
       "      <td>http</td>\n",
       "      <td>None</td>\n",
       "      <td>None</td>\n",
       "      <td>None</td>\n",
       "      <td>None</td>\n",
       "      <td>None</td>\n",
       "      <td>None</td>\n",
       "      <td>None</td>\n",
       "      <td>None</td>\n",
       "      <td>None</td>\n",
       "      <td>None</td>\n",
       "      <td>None</td>\n",
       "      <td>None</td>\n",
       "      <td>None</td>\n",
       "      <td>None</td>\n",
       "      <td>None</td>\n",
       "    </tr>\n",
       "    <tr>\n",
       "      <th>3261</th>\n",
       "      <td>meg</td>\n",
       "      <td>issu</td>\n",
       "      <td>hazard</td>\n",
       "      <td>weather</td>\n",
       "      <td>outlook</td>\n",
       "      <td>hwo</td>\n",
       "      <td>http</td>\n",
       "      <td>None</td>\n",
       "      <td>None</td>\n",
       "      <td>None</td>\n",
       "      <td>None</td>\n",
       "      <td>None</td>\n",
       "      <td>None</td>\n",
       "      <td>None</td>\n",
       "      <td>None</td>\n",
       "      <td>None</td>\n",
       "      <td>None</td>\n",
       "      <td>None</td>\n",
       "      <td>None</td>\n",
       "      <td>None</td>\n",
       "    </tr>\n",
       "    <tr>\n",
       "      <th>3262</th>\n",
       "      <td>cityofcalgari</td>\n",
       "      <td>activ</td>\n",
       "      <td>municip</td>\n",
       "      <td>emerg</td>\n",
       "      <td>plan</td>\n",
       "      <td>yycstorm</td>\n",
       "      <td>None</td>\n",
       "      <td>None</td>\n",
       "      <td>None</td>\n",
       "      <td>None</td>\n",
       "      <td>None</td>\n",
       "      <td>None</td>\n",
       "      <td>None</td>\n",
       "      <td>None</td>\n",
       "      <td>None</td>\n",
       "      <td>None</td>\n",
       "      <td>None</td>\n",
       "      <td>None</td>\n",
       "      <td>None</td>\n",
       "      <td>None</td>\n",
       "    </tr>\n",
       "  </tbody>\n",
       "</table>\n",
       "<p>3263 rows × 20 columns</p>\n",
       "</div>"
      ],
      "text/plain": [
       "                 0          1        2        3         4         5        6   \\\n",
       "0            happen    terribl      car    crash      None      None     None   \n",
       "1             heard  earthquak   differ     citi      stay      safe  everyon   \n",
       "2            forest       fire     spot     pond      gees      flee   across   \n",
       "3         apocalyps      light   spokan  wildfir      None      None     None   \n",
       "4           typhoon   soudelor     kill    china    taiwan      None     None   \n",
       "...             ...        ...      ...      ...       ...       ...      ...   \n",
       "3258      earthquak     safeti       lo    angel    safeti    fasten     xrwn   \n",
       "3259          storm         ri     wors     last  hurrican      citi      amp   \n",
       "3260          green       line   derail  chicago      http      None     None   \n",
       "3261            meg       issu   hazard  weather   outlook       hwo     http   \n",
       "3262  cityofcalgari      activ  municip    emerg      plan  yycstorm     None   \n",
       "\n",
       "           7     8     9     10    11    12      13     14       15     16  \\\n",
       "0        None  None  None  None  None  None    None   None     None   None   \n",
       "1        None  None  None  None  None  None    None   None     None   None   \n",
       "2      street  save  None  None  None  None    None   None     None   None   \n",
       "3        None  None  None  None  None  None    None   None     None   None   \n",
       "4        None  None  None  None  None  None    None   None     None   None   \n",
       "...       ...   ...   ...   ...   ...   ...     ...    ...      ...    ...   \n",
       "3258     None  None  None  None  None  None    None   None     None   None   \n",
       "3259  hardest   hit  yard  look  like  bomb  around  still  without  power   \n",
       "3260     None  None  None  None  None  None    None   None     None   None   \n",
       "3261     None  None  None  None  None  None    None   None     None   None   \n",
       "3262     None  None  None  None  None  None    None   None     None   None   \n",
       "\n",
       "        17    18    19  \n",
       "0     None  None  None  \n",
       "1     None  None  None  \n",
       "2     None  None  None  \n",
       "3     None  None  None  \n",
       "4     None  None  None  \n",
       "...    ...   ...   ...  \n",
       "3258  None  None  None  \n",
       "3259  None  None  None  \n",
       "3260  None  None  None  \n",
       "3261  None  None  None  \n",
       "3262  None  None  None  \n",
       "\n",
       "[3263 rows x 20 columns]"
      ]
     },
     "execution_count": 219,
     "metadata": {},
     "output_type": "execute_result"
    }
   ],
   "source": [
    "word_columns_df_test = pd.DataFrame.from_records(nested_list_tweets_real_test.to_list())\n",
    "word_columns_df_test"
   ]
  },
  {
   "cell_type": "code",
   "execution_count": 220,
   "id": "96d06997",
   "metadata": {},
   "outputs": [
    {
     "data": {
      "text/plain": [
       "1942"
      ]
     },
     "execution_count": 220,
     "metadata": {},
     "output_type": "execute_result"
    }
   ],
   "source": [
    "np.argmax(clean_tweet_lengths)"
   ]
  },
  {
   "cell_type": "code",
   "execution_count": 221,
   "id": "abceea60",
   "metadata": {},
   "outputs": [
    {
     "data": {
      "text/plain": [
       "1698"
      ]
     },
     "execution_count": 221,
     "metadata": {},
     "output_type": "execute_result"
    }
   ],
   "source": [
    "np.argmax(clean_tweet_lengths_test)"
   ]
  },
  {
   "cell_type": "code",
   "execution_count": 223,
   "id": "6c30b507",
   "metadata": {},
   "outputs": [
    {
     "data": {
      "text/html": [
       "<div>\n",
       "<style scoped>\n",
       "    .dataframe tbody tr th:only-of-type {\n",
       "        vertical-align: middle;\n",
       "    }\n",
       "\n",
       "    .dataframe tbody tr th {\n",
       "        vertical-align: top;\n",
       "    }\n",
       "\n",
       "    .dataframe thead th {\n",
       "        text-align: right;\n",
       "    }\n",
       "</style>\n",
       "<table border=\"1\" class=\"dataframe\">\n",
       "  <thead>\n",
       "    <tr style=\"text-align: right;\">\n",
       "      <th></th>\n",
       "      <th>0</th>\n",
       "      <th>1</th>\n",
       "      <th>2</th>\n",
       "      <th>3</th>\n",
       "      <th>4</th>\n",
       "      <th>5</th>\n",
       "      <th>6</th>\n",
       "      <th>7</th>\n",
       "      <th>8</th>\n",
       "      <th>9</th>\n",
       "      <th>...</th>\n",
       "      <th>13</th>\n",
       "      <th>14</th>\n",
       "      <th>15</th>\n",
       "      <th>16</th>\n",
       "      <th>17</th>\n",
       "      <th>18</th>\n",
       "      <th>19</th>\n",
       "      <th>20</th>\n",
       "      <th>21</th>\n",
       "      <th>22</th>\n",
       "    </tr>\n",
       "  </thead>\n",
       "  <tbody>\n",
       "    <tr>\n",
       "      <th>1941</th>\n",
       "      <td>info</td>\n",
       "      <td>cld</td>\n",
       "      <td>exp</td>\n",
       "      <td>inst</td>\n",
       "      <td>apch</td>\n",
       "      <td>rwi</td>\n",
       "      <td>curfew</td>\n",
       "      <td>oper</td>\n",
       "      <td>taxiway</td>\n",
       "      <td>foxtrot</td>\n",
       "      <td>...</td>\n",
       "      <td>tmp</td>\n",
       "      <td>wnd</td>\n",
       "      <td>None</td>\n",
       "      <td>None</td>\n",
       "      <td>None</td>\n",
       "      <td>None</td>\n",
       "      <td>None</td>\n",
       "      <td>None</td>\n",
       "      <td>None</td>\n",
       "      <td>None</td>\n",
       "    </tr>\n",
       "    <tr>\n",
       "      <th>1942</th>\n",
       "      <td>rite</td>\n",
       "      <td>man</td>\n",
       "      <td>tlk</td>\n",
       "      <td>widout</td>\n",
       "      <td>nuh</td>\n",
       "      <td>curfew</td>\n",
       "      <td>long</td>\n",
       "      <td>side</td>\n",
       "      <td>aka</td>\n",
       "      <td>cum</td>\n",
       "      <td>...</td>\n",
       "      <td>show</td>\n",
       "      <td>itz</td>\n",
       "      <td>rubberi</td>\n",
       "      <td>di</td>\n",
       "      <td>whole</td>\n",
       "      <td>dem</td>\n",
       "      <td>fi</td>\n",
       "      <td>knw</td>\n",
       "      <td>sound</td>\n",
       "      <td>music</td>\n",
       "    </tr>\n",
       "    <tr>\n",
       "      <th>1943</th>\n",
       "      <td>dont</td>\n",
       "      <td>even</td>\n",
       "      <td>come</td>\n",
       "      <td>worri</td>\n",
       "      <td>curfew</td>\n",
       "      <td>None</td>\n",
       "      <td>None</td>\n",
       "      <td>None</td>\n",
       "      <td>None</td>\n",
       "      <td>None</td>\n",
       "      <td>...</td>\n",
       "      <td>None</td>\n",
       "      <td>None</td>\n",
       "      <td>None</td>\n",
       "      <td>None</td>\n",
       "      <td>None</td>\n",
       "      <td>None</td>\n",
       "      <td>None</td>\n",
       "      <td>None</td>\n",
       "      <td>None</td>\n",
       "      <td>None</td>\n",
       "    </tr>\n",
       "  </tbody>\n",
       "</table>\n",
       "<p>3 rows × 23 columns</p>\n",
       "</div>"
      ],
      "text/plain": [
       "        0     1     2       3       4       5       6     7        8   \\\n",
       "1941  info   cld   exp    inst    apch     rwi  curfew  oper  taxiway   \n",
       "1942  rite   man   tlk  widout     nuh  curfew    long  side      aka   \n",
       "1943  dont  even  come   worri  curfew    None    None  None     None   \n",
       "\n",
       "           9   ...    13    14       15    16     17    18    19    20     21  \\\n",
       "1941  foxtrot  ...   tmp   wnd     None  None   None  None  None  None   None   \n",
       "1942      cum  ...  show   itz  rubberi    di  whole   dem    fi   knw  sound   \n",
       "1943     None  ...  None  None     None  None   None  None  None  None   None   \n",
       "\n",
       "         22  \n",
       "1941   None  \n",
       "1942  music  \n",
       "1943   None  \n",
       "\n",
       "[3 rows x 23 columns]"
      ]
     },
     "execution_count": 223,
     "metadata": {},
     "output_type": "execute_result"
    }
   ],
   "source": [
    "word_columns_df[np.argmax(clean_tweet_lengths)-1:np.argmax(clean_tweet_lengths)+2]"
   ]
  },
  {
   "cell_type": "code",
   "execution_count": 224,
   "id": "6b2ce46b",
   "metadata": {},
   "outputs": [
    {
     "data": {
      "text/html": [
       "<div>\n",
       "<style scoped>\n",
       "    .dataframe tbody tr th:only-of-type {\n",
       "        vertical-align: middle;\n",
       "    }\n",
       "\n",
       "    .dataframe tbody tr th {\n",
       "        vertical-align: top;\n",
       "    }\n",
       "\n",
       "    .dataframe thead th {\n",
       "        text-align: right;\n",
       "    }\n",
       "</style>\n",
       "<table border=\"1\" class=\"dataframe\">\n",
       "  <thead>\n",
       "    <tr style=\"text-align: right;\">\n",
       "      <th></th>\n",
       "      <th>0</th>\n",
       "      <th>1</th>\n",
       "      <th>2</th>\n",
       "      <th>3</th>\n",
       "      <th>4</th>\n",
       "      <th>5</th>\n",
       "      <th>6</th>\n",
       "      <th>7</th>\n",
       "      <th>8</th>\n",
       "      <th>9</th>\n",
       "      <th>10</th>\n",
       "      <th>11</th>\n",
       "      <th>12</th>\n",
       "      <th>13</th>\n",
       "      <th>14</th>\n",
       "      <th>15</th>\n",
       "      <th>16</th>\n",
       "      <th>17</th>\n",
       "      <th>18</th>\n",
       "      <th>19</th>\n",
       "    </tr>\n",
       "  </thead>\n",
       "  <tbody>\n",
       "    <tr>\n",
       "      <th>1697</th>\n",
       "      <td>reuter</td>\n",
       "      <td>us</td>\n",
       "      <td>forest</td>\n",
       "      <td>servic</td>\n",
       "      <td>say</td>\n",
       "      <td>spend</td>\n",
       "      <td>half</td>\n",
       "      <td>budget</td>\n",
       "      <td>fire</td>\n",
       "      <td>http</td>\n",
       "      <td>None</td>\n",
       "      <td>None</td>\n",
       "      <td>None</td>\n",
       "      <td>None</td>\n",
       "      <td>None</td>\n",
       "      <td>None</td>\n",
       "      <td>None</td>\n",
       "      <td>None</td>\n",
       "      <td>None</td>\n",
       "      <td>None</td>\n",
       "    </tr>\n",
       "    <tr>\n",
       "      <th>1698</th>\n",
       "      <td>oo</td>\n",
       "      <td>hd</td>\n",
       "      <td>riggd</td>\n",
       "      <td>rough</td>\n",
       "      <td>shelter</td>\n",
       "      <td>n</td>\n",
       "      <td>th</td>\n",
       "      <td>kindlng</td>\n",
       "      <td>glowng</td>\n",
       "      <td>fire</td>\n",
       "      <td>n</td>\n",
       "      <td>hollow</td>\n",
       "      <td>v</td>\n",
       "      <td>th</td>\n",
       "      <td>forest</td>\n",
       "      <td>th</td>\n",
       "      <td>frnch</td>\n",
       "      <td>could</td>\n",
       "      <td>c</td>\n",
       "      <td>th</td>\n",
       "    </tr>\n",
       "    <tr>\n",
       "      <th>1699</th>\n",
       "      <td>ca</td>\n",
       "      <td>use</td>\n",
       "      <td>ocean</td>\n",
       "      <td>water</td>\n",
       "      <td>fight</td>\n",
       "      <td>forest</td>\n",
       "      <td>fire</td>\n",
       "      <td>http</td>\n",
       "      <td>None</td>\n",
       "      <td>None</td>\n",
       "      <td>None</td>\n",
       "      <td>None</td>\n",
       "      <td>None</td>\n",
       "      <td>None</td>\n",
       "      <td>None</td>\n",
       "      <td>None</td>\n",
       "      <td>None</td>\n",
       "      <td>None</td>\n",
       "      <td>None</td>\n",
       "      <td>None</td>\n",
       "    </tr>\n",
       "  </tbody>\n",
       "</table>\n",
       "</div>"
      ],
      "text/plain": [
       "          0    1       2       3        4       5     6        7       8   \\\n",
       "1697  reuter   us  forest  servic      say   spend  half   budget    fire   \n",
       "1698      oo   hd   riggd   rough  shelter       n    th  kindlng  glowng   \n",
       "1699      ca  use   ocean   water    fight  forest  fire     http    None   \n",
       "\n",
       "        9     10      11    12    13      14    15     16     17    18    19  \n",
       "1697  http  None    None  None  None    None  None   None   None  None  None  \n",
       "1698  fire     n  hollow     v    th  forest    th  frnch  could     c    th  \n",
       "1699  None  None    None  None  None    None  None   None   None  None  None  "
      ]
     },
     "execution_count": 224,
     "metadata": {},
     "output_type": "execute_result"
    }
   ],
   "source": [
    "word_columns_df_test[np.argmax(clean_tweet_lengths_test)-1:np.argmax(clean_tweet_lengths_test)+2]"
   ]
  },
  {
   "cell_type": "code",
   "execution_count": 225,
   "id": "e28b561b",
   "metadata": {},
   "outputs": [
    {
     "data": {
      "text/plain": [
       "(7613, 23)"
      ]
     },
     "execution_count": 225,
     "metadata": {},
     "output_type": "execute_result"
    }
   ],
   "source": [
    "word_columns_df.shape"
   ]
  },
  {
   "cell_type": "code",
   "execution_count": 226,
   "id": "b46ba090",
   "metadata": {},
   "outputs": [
    {
     "data": {
      "text/plain": [
       "(3263, 20)"
      ]
     },
     "execution_count": 226,
     "metadata": {},
     "output_type": "execute_result"
    }
   ],
   "source": [
    "word_columns_df_test.shape"
   ]
  },
  {
   "cell_type": "markdown",
   "id": "c1cf1bcd",
   "metadata": {},
   "source": [
    "### Splitting the Data into a Training and Testing Dataset"
   ]
  },
  {
   "cell_type": "code",
   "execution_count": 227,
   "id": "e9dc4483",
   "metadata": {},
   "outputs": [],
   "source": [
    "X_train, X_test, y_train, y_test = train_test_split(word_columns_df, data_train.target,\n",
    "                                                   test_size=0.2, random_state=42)"
   ]
  },
  {
   "cell_type": "code",
   "execution_count": 228,
   "id": "529e316e",
   "metadata": {},
   "outputs": [
    {
     "name": "stdout",
     "output_type": "stream",
     "text": [
      "Nr of training samples 6090\n",
      "Fraction of training set 0.7999474582950217\n"
     ]
    }
   ],
   "source": [
    "print('Nr of training samples', X_train.shape[0])\n",
    "print('Fraction of training set', X_train.shape[0] / word_columns_df.shape[0])"
   ]
  },
  {
   "cell_type": "code",
   "execution_count": 230,
   "id": "d7ae9a5f",
   "metadata": {},
   "outputs": [
    {
     "name": "stdout",
     "output_type": "stream",
     "text": [
      "Nr of training samples 1523\n",
      "Fraction of training set 0.20005254170497833\n"
     ]
    }
   ],
   "source": [
    "print('Nr of training samples', X_test.shape[0])\n",
    "print('Fraction of training set', X_test.shape[0] / word_columns_df.shape[0])"
   ]
  },
  {
   "cell_type": "code",
   "execution_count": 231,
   "id": "d3e7b09b",
   "metadata": {},
   "outputs": [
    {
     "data": {
      "text/html": [
       "<div>\n",
       "<style scoped>\n",
       "    .dataframe tbody tr th:only-of-type {\n",
       "        vertical-align: middle;\n",
       "    }\n",
       "\n",
       "    .dataframe tbody tr th {\n",
       "        vertical-align: top;\n",
       "    }\n",
       "\n",
       "    .dataframe thead th {\n",
       "        text-align: right;\n",
       "    }\n",
       "</style>\n",
       "<table border=\"1\" class=\"dataframe\">\n",
       "  <thead>\n",
       "    <tr style=\"text-align: right;\">\n",
       "      <th></th>\n",
       "      <th>0</th>\n",
       "      <th>1</th>\n",
       "      <th>2</th>\n",
       "      <th>3</th>\n",
       "      <th>4</th>\n",
       "      <th>5</th>\n",
       "      <th>6</th>\n",
       "      <th>7</th>\n",
       "      <th>8</th>\n",
       "      <th>9</th>\n",
       "      <th>...</th>\n",
       "      <th>13</th>\n",
       "      <th>14</th>\n",
       "      <th>15</th>\n",
       "      <th>16</th>\n",
       "      <th>17</th>\n",
       "      <th>18</th>\n",
       "      <th>19</th>\n",
       "      <th>20</th>\n",
       "      <th>21</th>\n",
       "      <th>22</th>\n",
       "    </tr>\n",
       "    <tr>\n",
       "      <th>DOC_ID</th>\n",
       "      <th></th>\n",
       "      <th></th>\n",
       "      <th></th>\n",
       "      <th></th>\n",
       "      <th></th>\n",
       "      <th></th>\n",
       "      <th></th>\n",
       "      <th></th>\n",
       "      <th></th>\n",
       "      <th></th>\n",
       "      <th></th>\n",
       "      <th></th>\n",
       "      <th></th>\n",
       "      <th></th>\n",
       "      <th></th>\n",
       "      <th></th>\n",
       "      <th></th>\n",
       "      <th></th>\n",
       "      <th></th>\n",
       "      <th></th>\n",
       "      <th></th>\n",
       "    </tr>\n",
       "  </thead>\n",
       "  <tbody>\n",
       "    <tr>\n",
       "      <th>4996</th>\n",
       "      <td>courag</td>\n",
       "      <td>honest</td>\n",
       "      <td>analysi</td>\n",
       "      <td>need</td>\n",
       "      <td>use</td>\n",
       "      <td>atom</td>\n",
       "      <td>bomb</td>\n",
       "      <td>japanes</td>\n",
       "      <td>militari</td>\n",
       "      <td>refus</td>\n",
       "      <td>...</td>\n",
       "      <td>None</td>\n",
       "      <td>None</td>\n",
       "      <td>None</td>\n",
       "      <td>None</td>\n",
       "      <td>None</td>\n",
       "      <td>None</td>\n",
       "      <td>None</td>\n",
       "      <td>None</td>\n",
       "      <td>None</td>\n",
       "      <td>None</td>\n",
       "    </tr>\n",
       "    <tr>\n",
       "      <th>3263</th>\n",
       "      <td>zachzaidman</td>\n",
       "      <td>wld</td>\n",
       "      <td>b</td>\n",
       "      <td>shame</td>\n",
       "      <td>golf</td>\n",
       "      <td>cart</td>\n",
       "      <td>becam</td>\n",
       "      <td>engulf</td>\n",
       "      <td>flame</td>\n",
       "      <td>boycottbear</td>\n",
       "      <td>...</td>\n",
       "      <td>None</td>\n",
       "      <td>None</td>\n",
       "      <td>None</td>\n",
       "      <td>None</td>\n",
       "      <td>None</td>\n",
       "      <td>None</td>\n",
       "      <td>None</td>\n",
       "      <td>None</td>\n",
       "      <td>None</td>\n",
       "      <td>None</td>\n",
       "    </tr>\n",
       "    <tr>\n",
       "      <th>4907</th>\n",
       "      <td>tell</td>\n",
       "      <td>barackobama</td>\n",
       "      <td>rescind</td>\n",
       "      <td>medal</td>\n",
       "      <td>given</td>\n",
       "      <td>us</td>\n",
       "      <td>soldier</td>\n",
       "      <td>massacr</td>\n",
       "      <td>wound</td>\n",
       "      <td>knee</td>\n",
       "      <td>...</td>\n",
       "      <td>http</td>\n",
       "      <td>None</td>\n",
       "      <td>None</td>\n",
       "      <td>None</td>\n",
       "      <td>None</td>\n",
       "      <td>None</td>\n",
       "      <td>None</td>\n",
       "      <td>None</td>\n",
       "      <td>None</td>\n",
       "      <td>None</td>\n",
       "    </tr>\n",
       "    <tr>\n",
       "      <th>2855</th>\n",
       "      <td>worri</td>\n",
       "      <td>ca</td>\n",
       "      <td>drought</td>\n",
       "      <td>might</td>\n",
       "      <td>affect</td>\n",
       "      <td>extrem</td>\n",
       "      <td>weather</td>\n",
       "      <td>dampen</td>\n",
       "      <td>economi</td>\n",
       "      <td>http</td>\n",
       "      <td>...</td>\n",
       "      <td>None</td>\n",
       "      <td>None</td>\n",
       "      <td>None</td>\n",
       "      <td>None</td>\n",
       "      <td>None</td>\n",
       "      <td>None</td>\n",
       "      <td>None</td>\n",
       "      <td>None</td>\n",
       "      <td>None</td>\n",
       "      <td>None</td>\n",
       "    </tr>\n",
       "    <tr>\n",
       "      <th>4716</th>\n",
       "      <td>youngheroesid</td>\n",
       "      <td>lava</td>\n",
       "      <td>blast</td>\n",
       "      <td>amp</td>\n",
       "      <td>power</td>\n",
       "      <td>red</td>\n",
       "      <td>pantherattack</td>\n",
       "      <td>jamilazzaini</td>\n",
       "      <td>alifaditha</td>\n",
       "      <td>None</td>\n",
       "      <td>...</td>\n",
       "      <td>None</td>\n",
       "      <td>None</td>\n",
       "      <td>None</td>\n",
       "      <td>None</td>\n",
       "      <td>None</td>\n",
       "      <td>None</td>\n",
       "      <td>None</td>\n",
       "      <td>None</td>\n",
       "      <td>None</td>\n",
       "      <td>None</td>\n",
       "    </tr>\n",
       "  </tbody>\n",
       "</table>\n",
       "<p>5 rows × 23 columns</p>\n",
       "</div>"
      ],
      "text/plain": [
       "                   0            1        2      3       4       5   \\\n",
       "DOC_ID                                                               \n",
       "4996           courag       honest  analysi   need     use    atom   \n",
       "3263      zachzaidman          wld        b  shame    golf    cart   \n",
       "4907             tell  barackobama  rescind  medal   given      us   \n",
       "2855            worri           ca  drought  might  affect  extrem   \n",
       "4716    youngheroesid         lava    blast    amp   power     red   \n",
       "\n",
       "                   6             7           8            9   ...    13    14  \\\n",
       "DOC_ID                                                        ...               \n",
       "4996             bomb       japanes    militari        refus  ...  None  None   \n",
       "3263            becam        engulf       flame  boycottbear  ...  None  None   \n",
       "4907          soldier       massacr       wound         knee  ...  http  None   \n",
       "2855          weather        dampen     economi         http  ...  None  None   \n",
       "4716    pantherattack  jamilazzaini  alifaditha         None  ...  None  None   \n",
       "\n",
       "          15    16    17    18    19    20    21    22  \n",
       "DOC_ID                                                  \n",
       "4996    None  None  None  None  None  None  None  None  \n",
       "3263    None  None  None  None  None  None  None  None  \n",
       "4907    None  None  None  None  None  None  None  None  \n",
       "2855    None  None  None  None  None  None  None  None  \n",
       "4716    None  None  None  None  None  None  None  None  \n",
       "\n",
       "[5 rows x 23 columns]"
      ]
     },
     "execution_count": 231,
     "metadata": {},
     "output_type": "execute_result"
    }
   ],
   "source": [
    "X_train.index.name = X_test.index.name = 'DOC_ID'\n",
    "X_train.head()"
   ]
  },
  {
   "cell_type": "code",
   "execution_count": 232,
   "id": "11cb28fa",
   "metadata": {},
   "outputs": [
    {
     "data": {
      "text/plain": [
       "DOC_ID\n",
       "4996    1\n",
       "3263    0\n",
       "4907    1\n",
       "2855    1\n",
       "4716    0\n",
       "Name: target, dtype: int64"
      ]
     },
     "execution_count": 232,
     "metadata": {},
     "output_type": "execute_result"
    }
   ],
   "source": [
    "y_train.head()"
   ]
  },
  {
   "cell_type": "markdown",
   "id": "2c284b18",
   "metadata": {},
   "source": [
    "### Create a Sparse Matrix for the Training Data"
   ]
  },
  {
   "cell_type": "code",
   "execution_count": 233,
   "id": "cfd89f58",
   "metadata": {},
   "outputs": [
    {
     "data": {
      "text/plain": [
       "word_ids\n",
       "0      http\n",
       "1      like\n",
       "2      fire\n",
       "3       amp\n",
       "4       get\n",
       "       ... \n",
       "245     job\n",
       "246    move\n",
       "247    trap\n",
       "248     gon\n",
       "249    heat\n",
       "Name: vocab_word, Length: 250, dtype: object"
      ]
     },
     "execution_count": 233,
     "metadata": {},
     "output_type": "execute_result"
    }
   ],
   "source": [
    "vocab.vocab_word"
   ]
  },
  {
   "cell_type": "code",
   "execution_count": 234,
   "id": "d941b564",
   "metadata": {},
   "outputs": [
    {
     "data": {
      "text/plain": [
       "word_ids\n",
       "0         http\n",
       "1         like\n",
       "2          amp\n",
       "3         fire\n",
       "4          get\n",
       "        ...   \n",
       "245       face\n",
       "246    drought\n",
       "247        eye\n",
       "248       food\n",
       "249        fan\n",
       "Name: vocab_word, Length: 250, dtype: object"
      ]
     },
     "execution_count": 234,
     "metadata": {},
     "output_type": "execute_result"
    }
   ],
   "source": [
    "vocab_test.vocab_word"
   ]
  },
  {
   "cell_type": "code",
   "execution_count": 235,
   "id": "5dc62cb5",
   "metadata": {},
   "outputs": [
    {
     "data": {
      "text/plain": [
       "Index(['http', 'like', 'fire', 'amp', 'get', 'bomb', 'new', 'via', 'one',\n",
       "       'peopl',\n",
       "       ...\n",
       "       'wild', 'terrorist', 'suspect', 'guy', 'sink', 'job', 'move', 'trap',\n",
       "       'gon', 'heat'],\n",
       "      dtype='object', name='vocab_word', length=250)"
      ]
     },
     "execution_count": 235,
     "metadata": {},
     "output_type": "execute_result"
    }
   ],
   "source": [
    "word_index = pd.Index(vocab.vocab_word)\n",
    "word_index"
   ]
  },
  {
   "cell_type": "code",
   "execution_count": 236,
   "id": "ea53392c",
   "metadata": {},
   "outputs": [
    {
     "data": {
      "text/plain": [
       "Index(['http', 'like', 'amp', 'fire', 'get', 'via', 'new', 'bomb', 'news',\n",
       "       'go',\n",
       "       ...\n",
       "       'charg', 'latest', 'around', 'content', 'open', 'face', 'drought',\n",
       "       'eye', 'food', 'fan'],\n",
       "      dtype='object', name='vocab_word', length=250)"
      ]
     },
     "execution_count": 236,
     "metadata": {},
     "output_type": "execute_result"
    }
   ],
   "source": [
    "word_index_test = pd.Index(vocab_test.vocab_word)\n",
    "word_index_test"
   ]
  },
  {
   "cell_type": "code",
   "execution_count": 237,
   "id": "46188d9b",
   "metadata": {},
   "outputs": [
    {
     "data": {
      "text/plain": [
       "(str, str)"
      ]
     },
     "execution_count": 237,
     "metadata": {},
     "output_type": "execute_result"
    }
   ],
   "source": [
    "type(word_index[4]), type(word_index[3])"
   ]
  },
  {
   "cell_type": "code",
   "execution_count": 238,
   "id": "ad04f103",
   "metadata": {},
   "outputs": [
    {
     "data": {
      "text/plain": [
       "(str, str)"
      ]
     },
     "execution_count": 238,
     "metadata": {},
     "output_type": "execute_result"
    }
   ],
   "source": [
    "type(word_index_test[4]), type(word_index_test[3])"
   ]
  },
  {
   "cell_type": "code",
   "execution_count": 240,
   "id": "8c9b766f",
   "metadata": {},
   "outputs": [
    {
     "data": {
      "text/plain": [
       "(247, 194)"
      ]
     },
     "execution_count": 240,
     "metadata": {},
     "output_type": "execute_result"
    }
   ],
   "source": [
    "word_index.get_loc('trap'), word_index_test.get_loc('trap')"
   ]
  },
  {
   "cell_type": "code",
   "execution_count": null,
   "id": "6930fe47",
   "metadata": {},
   "outputs": [],
   "source": []
  },
  {
   "cell_type": "code",
   "execution_count": 242,
   "id": "e4941e32",
   "metadata": {},
   "outputs": [],
   "source": [
    "def make_sparse_matrix(df, indexed_words, labels):\n",
    "    \"\"\"\n",
    "    Returns sparse matrix as dataframe.\n",
    "    \n",
    "    df: A dataframe with words in the columns with a document id as an index (X_train or X_test)\n",
    "    indexed_words: index of words ordered by word id\n",
    "    labels: category as a series (y_train or y_test)\n",
    "    \"\"\"\n",
    "    \n",
    "    nr_rows = df.shape[0]\n",
    "    nr_cols = df.shape[1]\n",
    "    word_set = set(indexed_words)\n",
    "    dict_list = []\n",
    "    \n",
    "    for i in range(nr_rows):\n",
    "        for j in range(nr_cols):\n",
    "            \n",
    "            word = df.iat[i, j]\n",
    "            if word in word_set:\n",
    "                doc_id = df.index[i]\n",
    "                word_id = indexed_words.get_loc(word)\n",
    "                category = labels.at[doc_id]\n",
    "                \n",
    "                item = {'LABEL': category, 'DOC_ID': doc_id,\n",
    "                       'OCCURENCE': 1, 'WORD_ID': word_id}\n",
    "                \n",
    "                dict_list.append(item)\n",
    "    \n",
    "    return pd.DataFrame(dict_list)"
   ]
  },
  {
   "cell_type": "code",
   "execution_count": 243,
   "id": "92297006",
   "metadata": {},
   "outputs": [
    {
     "name": "stdout",
     "output_type": "stream",
     "text": [
      "Wall time: 2.94 s\n"
     ]
    }
   ],
   "source": [
    "%%time\n",
    "sparse_train_df = make_sparse_matrix(X_train, word_index, y_train)"
   ]
  },
  {
   "cell_type": "code",
   "execution_count": 244,
   "id": "1f750e6d",
   "metadata": {},
   "outputs": [
    {
     "name": "stdout",
     "output_type": "stream",
     "text": [
      "Wall time: 710 ms\n"
     ]
    }
   ],
   "source": [
    "%%time\n",
    "sparse_train_df_test = make_sparse_matrix(X_test, word_index, y_test)"
   ]
  },
  {
   "cell_type": "code",
   "execution_count": 245,
   "id": "277f677f",
   "metadata": {},
   "outputs": [
    {
     "data": {
      "text/html": [
       "<div>\n",
       "<style scoped>\n",
       "    .dataframe tbody tr th:only-of-type {\n",
       "        vertical-align: middle;\n",
       "    }\n",
       "\n",
       "    .dataframe tbody tr th {\n",
       "        vertical-align: top;\n",
       "    }\n",
       "\n",
       "    .dataframe thead th {\n",
       "        text-align: right;\n",
       "    }\n",
       "</style>\n",
       "<table border=\"1\" class=\"dataframe\">\n",
       "  <thead>\n",
       "    <tr style=\"text-align: right;\">\n",
       "      <th></th>\n",
       "      <th>LABEL</th>\n",
       "      <th>DOC_ID</th>\n",
       "      <th>OCCURENCE</th>\n",
       "      <th>WORD_ID</th>\n",
       "    </tr>\n",
       "  </thead>\n",
       "  <tbody>\n",
       "    <tr>\n",
       "      <th>0</th>\n",
       "      <td>1</td>\n",
       "      <td>4996</td>\n",
       "      <td>1</td>\n",
       "      <td>64</td>\n",
       "    </tr>\n",
       "    <tr>\n",
       "      <th>1</th>\n",
       "      <td>1</td>\n",
       "      <td>4996</td>\n",
       "      <td>1</td>\n",
       "      <td>104</td>\n",
       "    </tr>\n",
       "    <tr>\n",
       "      <th>2</th>\n",
       "      <td>1</td>\n",
       "      <td>4996</td>\n",
       "      <td>1</td>\n",
       "      <td>173</td>\n",
       "    </tr>\n",
       "    <tr>\n",
       "      <th>3</th>\n",
       "      <td>1</td>\n",
       "      <td>4996</td>\n",
       "      <td>1</td>\n",
       "      <td>5</td>\n",
       "    </tr>\n",
       "    <tr>\n",
       "      <th>4</th>\n",
       "      <td>1</td>\n",
       "      <td>4996</td>\n",
       "      <td>1</td>\n",
       "      <td>214</td>\n",
       "    </tr>\n",
       "  </tbody>\n",
       "</table>\n",
       "</div>"
      ],
      "text/plain": [
       "   LABEL  DOC_ID  OCCURENCE  WORD_ID\n",
       "0      1    4996          1       64\n",
       "1      1    4996          1      104\n",
       "2      1    4996          1      173\n",
       "3      1    4996          1        5\n",
       "4      1    4996          1      214"
      ]
     },
     "execution_count": 245,
     "metadata": {},
     "output_type": "execute_result"
    }
   ],
   "source": [
    "sparse_train_df[:5]"
   ]
  },
  {
   "cell_type": "code",
   "execution_count": 246,
   "id": "d415151b",
   "metadata": {},
   "outputs": [
    {
     "data": {
      "text/plain": [
       "(21342, 4)"
      ]
     },
     "execution_count": 246,
     "metadata": {},
     "output_type": "execute_result"
    }
   ],
   "source": [
    "sparse_train_df.shape"
   ]
  },
  {
   "cell_type": "code",
   "execution_count": 247,
   "id": "f1c52f14",
   "metadata": {},
   "outputs": [
    {
     "data": {
      "text/html": [
       "<div>\n",
       "<style scoped>\n",
       "    .dataframe tbody tr th:only-of-type {\n",
       "        vertical-align: middle;\n",
       "    }\n",
       "\n",
       "    .dataframe tbody tr th {\n",
       "        vertical-align: top;\n",
       "    }\n",
       "\n",
       "    .dataframe thead th {\n",
       "        text-align: right;\n",
       "    }\n",
       "</style>\n",
       "<table border=\"1\" class=\"dataframe\">\n",
       "  <thead>\n",
       "    <tr style=\"text-align: right;\">\n",
       "      <th></th>\n",
       "      <th>LABEL</th>\n",
       "      <th>DOC_ID</th>\n",
       "      <th>OCCURENCE</th>\n",
       "      <th>WORD_ID</th>\n",
       "    </tr>\n",
       "  </thead>\n",
       "  <tbody>\n",
       "    <tr>\n",
       "      <th>21337</th>\n",
       "      <td>1</td>\n",
       "      <td>7270</td>\n",
       "      <td>1</td>\n",
       "      <td>246</td>\n",
       "    </tr>\n",
       "    <tr>\n",
       "      <th>21338</th>\n",
       "      <td>1</td>\n",
       "      <td>7270</td>\n",
       "      <td>1</td>\n",
       "      <td>23</td>\n",
       "    </tr>\n",
       "    <tr>\n",
       "      <th>21339</th>\n",
       "      <td>1</td>\n",
       "      <td>7270</td>\n",
       "      <td>1</td>\n",
       "      <td>62</td>\n",
       "    </tr>\n",
       "    <tr>\n",
       "      <th>21340</th>\n",
       "      <td>1</td>\n",
       "      <td>7270</td>\n",
       "      <td>1</td>\n",
       "      <td>16</td>\n",
       "    </tr>\n",
       "    <tr>\n",
       "      <th>21341</th>\n",
       "      <td>1</td>\n",
       "      <td>7270</td>\n",
       "      <td>1</td>\n",
       "      <td>0</td>\n",
       "    </tr>\n",
       "  </tbody>\n",
       "</table>\n",
       "</div>"
      ],
      "text/plain": [
       "       LABEL  DOC_ID  OCCURENCE  WORD_ID\n",
       "21337      1    7270          1      246\n",
       "21338      1    7270          1       23\n",
       "21339      1    7270          1       62\n",
       "21340      1    7270          1       16\n",
       "21341      1    7270          1        0"
      ]
     },
     "execution_count": 247,
     "metadata": {},
     "output_type": "execute_result"
    }
   ],
   "source": [
    "sparse_train_df[-5:]"
   ]
  },
  {
   "cell_type": "code",
   "execution_count": 248,
   "id": "38bdb326",
   "metadata": {},
   "outputs": [
    {
     "data": {
      "text/html": [
       "<div>\n",
       "<style scoped>\n",
       "    .dataframe tbody tr th:only-of-type {\n",
       "        vertical-align: middle;\n",
       "    }\n",
       "\n",
       "    .dataframe tbody tr th {\n",
       "        vertical-align: top;\n",
       "    }\n",
       "\n",
       "    .dataframe thead th {\n",
       "        text-align: right;\n",
       "    }\n",
       "</style>\n",
       "<table border=\"1\" class=\"dataframe\">\n",
       "  <thead>\n",
       "    <tr style=\"text-align: right;\">\n",
       "      <th></th>\n",
       "      <th>LABEL</th>\n",
       "      <th>DOC_ID</th>\n",
       "      <th>OCCURENCE</th>\n",
       "      <th>WORD_ID</th>\n",
       "    </tr>\n",
       "  </thead>\n",
       "  <tbody>\n",
       "    <tr>\n",
       "      <th>995</th>\n",
       "      <td>0</td>\n",
       "      <td>7485</td>\n",
       "      <td>1</td>\n",
       "      <td>43</td>\n",
       "    </tr>\n",
       "    <tr>\n",
       "      <th>996</th>\n",
       "      <td>0</td>\n",
       "      <td>7485</td>\n",
       "      <td>1</td>\n",
       "      <td>62</td>\n",
       "    </tr>\n",
       "    <tr>\n",
       "      <th>997</th>\n",
       "      <td>1</td>\n",
       "      <td>4245</td>\n",
       "      <td>1</td>\n",
       "      <td>48</td>\n",
       "    </tr>\n",
       "    <tr>\n",
       "      <th>998</th>\n",
       "      <td>1</td>\n",
       "      <td>4245</td>\n",
       "      <td>1</td>\n",
       "      <td>0</td>\n",
       "    </tr>\n",
       "    <tr>\n",
       "      <th>999</th>\n",
       "      <td>1</td>\n",
       "      <td>4245</td>\n",
       "      <td>1</td>\n",
       "      <td>120</td>\n",
       "    </tr>\n",
       "    <tr>\n",
       "      <th>1000</th>\n",
       "      <td>1</td>\n",
       "      <td>4245</td>\n",
       "      <td>1</td>\n",
       "      <td>0</td>\n",
       "    </tr>\n",
       "    <tr>\n",
       "      <th>1001</th>\n",
       "      <td>1</td>\n",
       "      <td>3946</td>\n",
       "      <td>1</td>\n",
       "      <td>49</td>\n",
       "    </tr>\n",
       "    <tr>\n",
       "      <th>1002</th>\n",
       "      <td>1</td>\n",
       "      <td>3946</td>\n",
       "      <td>1</td>\n",
       "      <td>15</td>\n",
       "    </tr>\n",
       "    <tr>\n",
       "      <th>1003</th>\n",
       "      <td>1</td>\n",
       "      <td>3946</td>\n",
       "      <td>1</td>\n",
       "      <td>174</td>\n",
       "    </tr>\n",
       "    <tr>\n",
       "      <th>1004</th>\n",
       "      <td>1</td>\n",
       "      <td>3946</td>\n",
       "      <td>1</td>\n",
       "      <td>177</td>\n",
       "    </tr>\n",
       "    <tr>\n",
       "      <th>1005</th>\n",
       "      <td>1</td>\n",
       "      <td>3946</td>\n",
       "      <td>1</td>\n",
       "      <td>38</td>\n",
       "    </tr>\n",
       "  </tbody>\n",
       "</table>\n",
       "</div>"
      ],
      "text/plain": [
       "      LABEL  DOC_ID  OCCURENCE  WORD_ID\n",
       "995       0    7485          1       43\n",
       "996       0    7485          1       62\n",
       "997       1    4245          1       48\n",
       "998       1    4245          1        0\n",
       "999       1    4245          1      120\n",
       "1000      1    4245          1        0\n",
       "1001      1    3946          1       49\n",
       "1002      1    3946          1       15\n",
       "1003      1    3946          1      174\n",
       "1004      1    3946          1      177\n",
       "1005      1    3946          1       38"
      ]
     },
     "execution_count": 248,
     "metadata": {},
     "output_type": "execute_result"
    }
   ],
   "source": [
    "sparse_train_df[995:1006]"
   ]
  },
  {
   "cell_type": "markdown",
   "id": "43249781",
   "metadata": {},
   "source": [
    "### Combine Occurrences with the Pandas groupby() Method"
   ]
  },
  {
   "cell_type": "code",
   "execution_count": 249,
   "id": "4173e644",
   "metadata": {},
   "outputs": [
    {
     "data": {
      "text/html": [
       "<div>\n",
       "<style scoped>\n",
       "    .dataframe tbody tr th:only-of-type {\n",
       "        vertical-align: middle;\n",
       "    }\n",
       "\n",
       "    .dataframe tbody tr th {\n",
       "        vertical-align: top;\n",
       "    }\n",
       "\n",
       "    .dataframe thead th {\n",
       "        text-align: right;\n",
       "    }\n",
       "</style>\n",
       "<table border=\"1\" class=\"dataframe\">\n",
       "  <thead>\n",
       "    <tr style=\"text-align: right;\">\n",
       "      <th></th>\n",
       "      <th></th>\n",
       "      <th></th>\n",
       "      <th>OCCURENCE</th>\n",
       "    </tr>\n",
       "    <tr>\n",
       "      <th>DOC_ID</th>\n",
       "      <th>WORD_ID</th>\n",
       "      <th>LABEL</th>\n",
       "      <th></th>\n",
       "    </tr>\n",
       "  </thead>\n",
       "  <tbody>\n",
       "    <tr>\n",
       "      <th rowspan=\"3\" valign=\"top\">1</th>\n",
       "      <th>2</th>\n",
       "      <th>1</th>\n",
       "      <td>1</td>\n",
       "    </tr>\n",
       "    <tr>\n",
       "      <th>141</th>\n",
       "      <th>1</th>\n",
       "      <td>1</td>\n",
       "    </tr>\n",
       "    <tr>\n",
       "      <th>189</th>\n",
       "      <th>1</th>\n",
       "      <td>1</td>\n",
       "    </tr>\n",
       "    <tr>\n",
       "      <th rowspan=\"2\" valign=\"top\">2</th>\n",
       "      <th>33</th>\n",
       "      <th>1</th>\n",
       "      <td>1</td>\n",
       "    </tr>\n",
       "    <tr>\n",
       "      <th>224</th>\n",
       "      <th>1</th>\n",
       "      <td>1</td>\n",
       "    </tr>\n",
       "  </tbody>\n",
       "</table>\n",
       "</div>"
      ],
      "text/plain": [
       "                      OCCURENCE\n",
       "DOC_ID WORD_ID LABEL           \n",
       "1      2       1              1\n",
       "       141     1              1\n",
       "       189     1              1\n",
       "2      33      1              1\n",
       "       224     1              1"
      ]
     },
     "execution_count": 249,
     "metadata": {},
     "output_type": "execute_result"
    }
   ],
   "source": [
    "train_grouped = sparse_train_df.groupby(['DOC_ID', 'WORD_ID', 'LABEL']).sum()\n",
    "train_grouped.head()"
   ]
  },
  {
   "cell_type": "code",
   "execution_count": 250,
   "id": "a847dc87",
   "metadata": {},
   "outputs": [
    {
     "data": {
      "text/plain": [
       "'http'"
      ]
     },
     "execution_count": 250,
     "metadata": {},
     "output_type": "execute_result"
    }
   ],
   "source": [
    "vocab.at[0, 'vocab_word']"
   ]
  },
  {
   "cell_type": "code",
   "execution_count": 251,
   "id": "76d6c5d2",
   "metadata": {},
   "outputs": [
    {
     "data": {
      "text/plain": [
       "'Our Deeds are the Reason of this #earthquake May ALLAH Forgive us all'"
      ]
     },
     "execution_count": 251,
     "metadata": {},
     "output_type": "execute_result"
    }
   ],
   "source": [
    "data_train.text[0]"
   ]
  },
  {
   "cell_type": "code",
   "execution_count": 252,
   "id": "08ba58a1",
   "metadata": {},
   "outputs": [
    {
     "data": {
      "text/html": [
       "<div>\n",
       "<style scoped>\n",
       "    .dataframe tbody tr th:only-of-type {\n",
       "        vertical-align: middle;\n",
       "    }\n",
       "\n",
       "    .dataframe tbody tr th {\n",
       "        vertical-align: top;\n",
       "    }\n",
       "\n",
       "    .dataframe thead th {\n",
       "        text-align: right;\n",
       "    }\n",
       "</style>\n",
       "<table border=\"1\" class=\"dataframe\">\n",
       "  <thead>\n",
       "    <tr style=\"text-align: right;\">\n",
       "      <th></th>\n",
       "      <th>DOC_ID</th>\n",
       "      <th>WORD_ID</th>\n",
       "      <th>LABEL</th>\n",
       "      <th>OCCURENCE</th>\n",
       "    </tr>\n",
       "  </thead>\n",
       "  <tbody>\n",
       "    <tr>\n",
       "      <th>0</th>\n",
       "      <td>1</td>\n",
       "      <td>2</td>\n",
       "      <td>1</td>\n",
       "      <td>1</td>\n",
       "    </tr>\n",
       "    <tr>\n",
       "      <th>1</th>\n",
       "      <td>1</td>\n",
       "      <td>141</td>\n",
       "      <td>1</td>\n",
       "      <td>1</td>\n",
       "    </tr>\n",
       "    <tr>\n",
       "      <th>2</th>\n",
       "      <td>1</td>\n",
       "      <td>189</td>\n",
       "      <td>1</td>\n",
       "      <td>1</td>\n",
       "    </tr>\n",
       "    <tr>\n",
       "      <th>3</th>\n",
       "      <td>2</td>\n",
       "      <td>33</td>\n",
       "      <td>1</td>\n",
       "      <td>1</td>\n",
       "    </tr>\n",
       "    <tr>\n",
       "      <th>4</th>\n",
       "      <td>2</td>\n",
       "      <td>224</td>\n",
       "      <td>1</td>\n",
       "      <td>1</td>\n",
       "    </tr>\n",
       "  </tbody>\n",
       "</table>\n",
       "</div>"
      ],
      "text/plain": [
       "   DOC_ID  WORD_ID  LABEL  OCCURENCE\n",
       "0       1        2      1          1\n",
       "1       1      141      1          1\n",
       "2       1      189      1          1\n",
       "3       2       33      1          1\n",
       "4       2      224      1          1"
      ]
     },
     "execution_count": 252,
     "metadata": {},
     "output_type": "execute_result"
    }
   ],
   "source": [
    "train_grouped = train_grouped.reset_index()\n",
    "train_grouped.head()"
   ]
  },
  {
   "cell_type": "code",
   "execution_count": 253,
   "id": "f860d1fe",
   "metadata": {},
   "outputs": [
    {
     "data": {
      "text/html": [
       "<div>\n",
       "<style scoped>\n",
       "    .dataframe tbody tr th:only-of-type {\n",
       "        vertical-align: middle;\n",
       "    }\n",
       "\n",
       "    .dataframe tbody tr th {\n",
       "        vertical-align: top;\n",
       "    }\n",
       "\n",
       "    .dataframe thead th {\n",
       "        text-align: right;\n",
       "    }\n",
       "</style>\n",
       "<table border=\"1\" class=\"dataframe\">\n",
       "  <thead>\n",
       "    <tr style=\"text-align: right;\">\n",
       "      <th></th>\n",
       "      <th>DOC_ID</th>\n",
       "      <th>WORD_ID</th>\n",
       "      <th>LABEL</th>\n",
       "      <th>OCCURENCE</th>\n",
       "    </tr>\n",
       "  </thead>\n",
       "  <tbody>\n",
       "    <tr>\n",
       "      <th>20009</th>\n",
       "      <td>7611</td>\n",
       "      <td>27</td>\n",
       "      <td>1</td>\n",
       "      <td>1</td>\n",
       "    </tr>\n",
       "    <tr>\n",
       "      <th>20010</th>\n",
       "      <td>7611</td>\n",
       "      <td>53</td>\n",
       "      <td>1</td>\n",
       "      <td>1</td>\n",
       "    </tr>\n",
       "    <tr>\n",
       "      <th>20011</th>\n",
       "      <td>7611</td>\n",
       "      <td>92</td>\n",
       "      <td>1</td>\n",
       "      <td>1</td>\n",
       "    </tr>\n",
       "    <tr>\n",
       "      <th>20012</th>\n",
       "      <td>7611</td>\n",
       "      <td>113</td>\n",
       "      <td>1</td>\n",
       "      <td>1</td>\n",
       "    </tr>\n",
       "    <tr>\n",
       "      <th>20013</th>\n",
       "      <td>7611</td>\n",
       "      <td>171</td>\n",
       "      <td>1</td>\n",
       "      <td>1</td>\n",
       "    </tr>\n",
       "  </tbody>\n",
       "</table>\n",
       "</div>"
      ],
      "text/plain": [
       "       DOC_ID  WORD_ID  LABEL  OCCURENCE\n",
       "20009    7611       27      1          1\n",
       "20010    7611       53      1          1\n",
       "20011    7611       92      1          1\n",
       "20012    7611      113      1          1\n",
       "20013    7611      171      1          1"
      ]
     },
     "execution_count": 253,
     "metadata": {},
     "output_type": "execute_result"
    }
   ],
   "source": [
    "train_grouped.tail()"
   ]
  },
  {
   "cell_type": "code",
   "execution_count": 254,
   "id": "29438842",
   "metadata": {},
   "outputs": [
    {
     "data": {
      "text/plain": [
       "'train'"
      ]
     },
     "execution_count": 254,
     "metadata": {},
     "output_type": "execute_result"
    }
   ],
   "source": [
    "vocab.at[35, 'vocab_word']"
   ]
  },
  {
   "cell_type": "markdown",
   "id": "de889edb",
   "metadata": {},
   "source": [
    "### Save Training Data as .txt File"
   ]
  },
  {
   "cell_type": "code",
   "execution_count": 255,
   "id": "4ecf5e5c",
   "metadata": {},
   "outputs": [],
   "source": [
    "np.savetxt(TRAINING_DATA_FILE, train_grouped, fmt='%d')"
   ]
  },
  {
   "cell_type": "code",
   "execution_count": 256,
   "id": "3fdd8aa3",
   "metadata": {},
   "outputs": [
    {
     "data": {
      "text/plain": [
       "Index(['DOC_ID', 'WORD_ID', 'LABEL', 'OCCURENCE'], dtype='object')"
      ]
     },
     "execution_count": 256,
     "metadata": {},
     "output_type": "execute_result"
    }
   ],
   "source": [
    "train_grouped.columns"
   ]
  },
  {
   "cell_type": "code",
   "execution_count": 257,
   "id": "816b7435",
   "metadata": {},
   "outputs": [
    {
     "data": {
      "text/html": [
       "<div>\n",
       "<style scoped>\n",
       "    .dataframe tbody tr th:only-of-type {\n",
       "        vertical-align: middle;\n",
       "    }\n",
       "\n",
       "    .dataframe tbody tr th {\n",
       "        vertical-align: top;\n",
       "    }\n",
       "\n",
       "    .dataframe thead th {\n",
       "        text-align: right;\n",
       "    }\n",
       "</style>\n",
       "<table border=\"1\" class=\"dataframe\">\n",
       "  <thead>\n",
       "    <tr style=\"text-align: right;\">\n",
       "      <th></th>\n",
       "      <th>0</th>\n",
       "      <th>1</th>\n",
       "      <th>2</th>\n",
       "      <th>3</th>\n",
       "      <th>4</th>\n",
       "      <th>5</th>\n",
       "      <th>6</th>\n",
       "      <th>7</th>\n",
       "      <th>8</th>\n",
       "      <th>9</th>\n",
       "      <th>...</th>\n",
       "      <th>13</th>\n",
       "      <th>14</th>\n",
       "      <th>15</th>\n",
       "      <th>16</th>\n",
       "      <th>17</th>\n",
       "      <th>18</th>\n",
       "      <th>19</th>\n",
       "      <th>20</th>\n",
       "      <th>21</th>\n",
       "      <th>22</th>\n",
       "    </tr>\n",
       "    <tr>\n",
       "      <th>DOC_ID</th>\n",
       "      <th></th>\n",
       "      <th></th>\n",
       "      <th></th>\n",
       "      <th></th>\n",
       "      <th></th>\n",
       "      <th></th>\n",
       "      <th></th>\n",
       "      <th></th>\n",
       "      <th></th>\n",
       "      <th></th>\n",
       "      <th></th>\n",
       "      <th></th>\n",
       "      <th></th>\n",
       "      <th></th>\n",
       "      <th></th>\n",
       "      <th></th>\n",
       "      <th></th>\n",
       "      <th></th>\n",
       "      <th></th>\n",
       "      <th></th>\n",
       "      <th></th>\n",
       "    </tr>\n",
       "  </thead>\n",
       "  <tbody>\n",
       "    <tr>\n",
       "      <th>2644</th>\n",
       "      <td>new</td>\n",
       "      <td>weapon</td>\n",
       "      <td>caus</td>\n",
       "      <td>destruct</td>\n",
       "      <td>None</td>\n",
       "      <td>None</td>\n",
       "      <td>None</td>\n",
       "      <td>None</td>\n",
       "      <td>None</td>\n",
       "      <td>None</td>\n",
       "      <td>...</td>\n",
       "      <td>None</td>\n",
       "      <td>None</td>\n",
       "      <td>None</td>\n",
       "      <td>None</td>\n",
       "      <td>None</td>\n",
       "      <td>None</td>\n",
       "      <td>None</td>\n",
       "      <td>None</td>\n",
       "      <td>None</td>\n",
       "      <td>None</td>\n",
       "    </tr>\n",
       "    <tr>\n",
       "      <th>2227</th>\n",
       "      <td>f</td>\n",
       "      <td>amp</td>\n",
       "      <td>ing</td>\n",
       "      <td>thing</td>\n",
       "      <td>gishwh</td>\n",
       "      <td>got</td>\n",
       "      <td>soak</td>\n",
       "      <td>delug</td>\n",
       "      <td>go</td>\n",
       "      <td>pad</td>\n",
       "      <td>...</td>\n",
       "      <td>None</td>\n",
       "      <td>None</td>\n",
       "      <td>None</td>\n",
       "      <td>None</td>\n",
       "      <td>None</td>\n",
       "      <td>None</td>\n",
       "      <td>None</td>\n",
       "      <td>None</td>\n",
       "      <td>None</td>\n",
       "      <td>None</td>\n",
       "    </tr>\n",
       "    <tr>\n",
       "      <th>5448</th>\n",
       "      <td>dt</td>\n",
       "      <td>georgegalloway</td>\n",
       "      <td>rt</td>\n",
       "      <td>col</td>\n",
       "      <td>polic</td>\n",
       "      <td>catch</td>\n",
       "      <td>pickpocket</td>\n",
       "      <td>liverpool</td>\n",
       "      <td>stree</td>\n",
       "      <td>http</td>\n",
       "      <td>...</td>\n",
       "      <td>None</td>\n",
       "      <td>None</td>\n",
       "      <td>None</td>\n",
       "      <td>None</td>\n",
       "      <td>None</td>\n",
       "      <td>None</td>\n",
       "      <td>None</td>\n",
       "      <td>None</td>\n",
       "      <td>None</td>\n",
       "      <td>None</td>\n",
       "    </tr>\n",
       "    <tr>\n",
       "      <th>132</th>\n",
       "      <td>aftershock</td>\n",
       "      <td>back</td>\n",
       "      <td>school</td>\n",
       "      <td>kick</td>\n",
       "      <td>great</td>\n",
       "      <td>want</td>\n",
       "      <td>thank</td>\n",
       "      <td>everyon</td>\n",
       "      <td>make</td>\n",
       "      <td>possibl</td>\n",
       "      <td>...</td>\n",
       "      <td>None</td>\n",
       "      <td>None</td>\n",
       "      <td>None</td>\n",
       "      <td>None</td>\n",
       "      <td>None</td>\n",
       "      <td>None</td>\n",
       "      <td>None</td>\n",
       "      <td>None</td>\n",
       "      <td>None</td>\n",
       "      <td>None</td>\n",
       "    </tr>\n",
       "    <tr>\n",
       "      <th>6845</th>\n",
       "      <td>respons</td>\n",
       "      <td>trauma</td>\n",
       "      <td>children</td>\n",
       "      <td>addict</td>\n",
       "      <td>develop</td>\n",
       "      <td>defens</td>\n",
       "      <td>self</td>\n",
       "      <td>one</td>\n",
       "      <td>decreas</td>\n",
       "      <td>vulner</td>\n",
       "      <td>...</td>\n",
       "      <td>None</td>\n",
       "      <td>None</td>\n",
       "      <td>None</td>\n",
       "      <td>None</td>\n",
       "      <td>None</td>\n",
       "      <td>None</td>\n",
       "      <td>None</td>\n",
       "      <td>None</td>\n",
       "      <td>None</td>\n",
       "      <td>None</td>\n",
       "    </tr>\n",
       "  </tbody>\n",
       "</table>\n",
       "<p>5 rows × 23 columns</p>\n",
       "</div>"
      ],
      "text/plain": [
       "                0               1         2         3        4       5   \\\n",
       "DOC_ID                                                                    \n",
       "2644           new          weapon      caus  destruct     None    None   \n",
       "2227             f             amp       ing     thing   gishwh     got   \n",
       "5448            dt  georgegalloway        rt       col    polic   catch   \n",
       "132     aftershock            back    school      kick    great    want   \n",
       "6845       respons          trauma  children    addict  develop  defens   \n",
       "\n",
       "                6          7        8        9   ...    13    14    15    16  \\\n",
       "DOC_ID                                           ...                           \n",
       "2644          None       None     None     None  ...  None  None  None  None   \n",
       "2227          soak      delug       go      pad  ...  None  None  None  None   \n",
       "5448    pickpocket  liverpool    stree     http  ...  None  None  None  None   \n",
       "132          thank    everyon     make  possibl  ...  None  None  None  None   \n",
       "6845          self        one  decreas   vulner  ...  None  None  None  None   \n",
       "\n",
       "          17    18    19    20    21    22  \n",
       "DOC_ID                                      \n",
       "2644    None  None  None  None  None  None  \n",
       "2227    None  None  None  None  None  None  \n",
       "5448    None  None  None  None  None  None  \n",
       "132     None  None  None  None  None  None  \n",
       "6845    None  None  None  None  None  None  \n",
       "\n",
       "[5 rows x 23 columns]"
      ]
     },
     "execution_count": 257,
     "metadata": {},
     "output_type": "execute_result"
    }
   ],
   "source": [
    "X_test.head()"
   ]
  },
  {
   "cell_type": "code",
   "execution_count": 258,
   "id": "a718d4f9",
   "metadata": {},
   "outputs": [
    {
     "data": {
      "text/plain": [
       "DOC_ID\n",
       "2644    1\n",
       "2227    0\n",
       "5448    1\n",
       "132     0\n",
       "6845    0\n",
       "Name: target, dtype: int64"
      ]
     },
     "execution_count": 258,
     "metadata": {},
     "output_type": "execute_result"
    }
   ],
   "source": [
    "y_test.head()"
   ]
  },
  {
   "cell_type": "code",
   "execution_count": 259,
   "id": "ba56cd4d",
   "metadata": {},
   "outputs": [
    {
     "name": "stdout",
     "output_type": "stream",
     "text": [
      "Wall time: 721 ms\n"
     ]
    }
   ],
   "source": [
    "%%time\n",
    "sparse_test_df = make_sparse_matrix(X_test, word_index, y_test)"
   ]
  },
  {
   "cell_type": "code",
   "execution_count": 260,
   "id": "cdaddcf9",
   "metadata": {},
   "outputs": [
    {
     "data": {
      "text/html": [
       "<div>\n",
       "<style scoped>\n",
       "    .dataframe tbody tr th:only-of-type {\n",
       "        vertical-align: middle;\n",
       "    }\n",
       "\n",
       "    .dataframe tbody tr th {\n",
       "        vertical-align: top;\n",
       "    }\n",
       "\n",
       "    .dataframe thead th {\n",
       "        text-align: right;\n",
       "    }\n",
       "</style>\n",
       "<table border=\"1\" class=\"dataframe\">\n",
       "  <thead>\n",
       "    <tr style=\"text-align: right;\">\n",
       "      <th></th>\n",
       "      <th>DOC_ID</th>\n",
       "      <th>WORD_ID</th>\n",
       "      <th>LABEL</th>\n",
       "      <th>OCCURENCE</th>\n",
       "    </tr>\n",
       "  </thead>\n",
       "  <tbody>\n",
       "    <tr>\n",
       "      <th>0</th>\n",
       "      <td>0</td>\n",
       "      <td>43</td>\n",
       "      <td>1</td>\n",
       "      <td>1</td>\n",
       "    </tr>\n",
       "    <tr>\n",
       "      <th>1</th>\n",
       "      <td>0</td>\n",
       "      <td>94</td>\n",
       "      <td>1</td>\n",
       "      <td>1</td>\n",
       "    </tr>\n",
       "    <tr>\n",
       "      <th>2</th>\n",
       "      <td>0</td>\n",
       "      <td>222</td>\n",
       "      <td>1</td>\n",
       "      <td>1</td>\n",
       "    </tr>\n",
       "    <tr>\n",
       "      <th>3</th>\n",
       "      <td>8</td>\n",
       "      <td>17</td>\n",
       "      <td>1</td>\n",
       "      <td>1</td>\n",
       "    </tr>\n",
       "    <tr>\n",
       "      <th>4</th>\n",
       "      <td>8</td>\n",
       "      <td>21</td>\n",
       "      <td>1</td>\n",
       "      <td>1</td>\n",
       "    </tr>\n",
       "  </tbody>\n",
       "</table>\n",
       "</div>"
      ],
      "text/plain": [
       "   DOC_ID  WORD_ID  LABEL  OCCURENCE\n",
       "0       0       43      1          1\n",
       "1       0       94      1          1\n",
       "2       0      222      1          1\n",
       "3       8       17      1          1\n",
       "4       8       21      1          1"
      ]
     },
     "execution_count": 260,
     "metadata": {},
     "output_type": "execute_result"
    }
   ],
   "source": [
    "test_grouped = sparse_test_df.groupby(['DOC_ID', 'WORD_ID', 'LABEL']).sum().reset_index()\n",
    "test_grouped.head()"
   ]
  },
  {
   "cell_type": "code",
   "execution_count": 261,
   "id": "1b629439",
   "metadata": {},
   "outputs": [],
   "source": [
    "np.savetxt(TEST_DATA_FILE, test_grouped, fmt='%d')"
   ]
  },
  {
   "cell_type": "code",
   "execution_count": 262,
   "id": "308c9462",
   "metadata": {},
   "outputs": [],
   "source": [
    "train_doc_ids = set(train_grouped.DOC_ID)\n",
    "test_doc_ids = set(test_grouped.DOC_ID)"
   ]
  },
  {
   "cell_type": "code",
   "execution_count": 263,
   "id": "4e8539f1",
   "metadata": {},
   "outputs": [
    {
     "data": {
      "text/plain": [
       "(1476, 1523)"
      ]
     },
     "execution_count": 263,
     "metadata": {},
     "output_type": "execute_result"
    }
   ],
   "source": [
    "len(test_doc_ids), len(X_test)"
   ]
  },
  {
   "cell_type": "code",
   "execution_count": 264,
   "id": "b25357ff",
   "metadata": {
    "collapsed": true
   },
   "outputs": [
    {
     "data": {
      "text/plain": [
       "{19,\n",
       " 107,\n",
       " 323,\n",
       " 334,\n",
       " 401,\n",
       " 421,\n",
       " 733,\n",
       " 737,\n",
       " 742,\n",
       " 747,\n",
       " 763,\n",
       " 811,\n",
       " 881,\n",
       " 908,\n",
       " 1915,\n",
       " 1916,\n",
       " 1945,\n",
       " 2036,\n",
       " 2337,\n",
       " 2638,\n",
       " 3055,\n",
       " 3254,\n",
       " 3881,\n",
       " 3903,\n",
       " 3922,\n",
       " 4490,\n",
       " 4520,\n",
       " 4713,\n",
       " 4741,\n",
       " 5366,\n",
       " 5396,\n",
       " 5564,\n",
       " 5682,\n",
       " 5840,\n",
       " 5875,\n",
       " 6048,\n",
       " 6237,\n",
       " 6608,\n",
       " 6685,\n",
       " 6699,\n",
       " 6766,\n",
       " 6769,\n",
       " 6868,\n",
       " 6889,\n",
       " 6976,\n",
       " 7069,\n",
       " 7145}"
      ]
     },
     "execution_count": 264,
     "metadata": {},
     "output_type": "execute_result"
    }
   ],
   "source": [
    "set(X_test.index.values) - test_doc_ids # Excluded tweets after pre-processing"
   ]
  },
  {
   "cell_type": "code",
   "execution_count": 265,
   "id": "ee3a2968",
   "metadata": {},
   "outputs": [
    {
     "data": {
      "text/plain": [
       "\"'Nobody remembers who came in second.' Charles Schulz\""
      ]
     },
     "execution_count": 265,
     "metadata": {},
     "output_type": "execute_result"
    }
   ],
   "source": [
    "data_train.text[107]"
   ]
  },
  {
   "cell_type": "code",
   "execution_count": 267,
   "id": "62535d3f",
   "metadata": {},
   "outputs": [
    {
     "data": {
      "text/plain": [
       "(['goooooooaaaaaal'], ['bestcomedyvin', 'what', 'crack', 'cuz'])"
      ]
     },
     "execution_count": 267,
     "metadata": {},
     "output_type": "execute_result"
    }
   ],
   "source": [
    "clean_message(data_train.at[19, 'text']), clean_message(data_train.at[439, 'text'])"
   ]
  },
  {
   "cell_type": "code",
   "execution_count": null,
   "id": "186bfd91",
   "metadata": {},
   "outputs": [],
   "source": []
  },
  {
   "cell_type": "code",
   "execution_count": null,
   "id": "22be347a",
   "metadata": {},
   "outputs": [],
   "source": []
  }
 ],
 "metadata": {
  "kernelspec": {
   "display_name": "Python 3 (ipykernel)",
   "language": "python",
   "name": "python3"
  },
  "language_info": {
   "codemirror_mode": {
    "name": "ipython",
    "version": 3
   },
   "file_extension": ".py",
   "mimetype": "text/x-python",
   "name": "python",
   "nbconvert_exporter": "python",
   "pygments_lexer": "ipython3",
   "version": "3.9.7"
  }
 },
 "nbformat": 4,
 "nbformat_minor": 5
}
